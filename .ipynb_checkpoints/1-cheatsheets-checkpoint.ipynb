{
 "cells": [
  {
   "cell_type": "markdown",
   "id": "9dda93ef",
   "metadata": {},
   "source": [
    "# Unit 1: Fourier Series"
   ]
  },
  {
   "cell_type": "markdown",
   "id": "3c2d66aa",
   "metadata": {},
   "source": [
    "## Motivation\n",
    "\n",
    "### The exponential response formula (ERF) is a quick method for finding the response to any input that is expressible in terms of an exponential, sine, or cosine function. (We will review this method on the next page.) What happens when the input is not one of these?\n",
    "\n",
    "### If the input function $f(t)$ is periodic (of period $2\\pi$), we can express the function (where it is continuous) as an infinite sum of sines and cosines. This series representation is called a ***Fourier series***:\n",
    "## $$ f(t) = c_0 + \\sum_{n=1}^{\\infty} \\left[ a_n \\cos(nt) + b_n \\sin(nt) \\right], \\quad c_0,a_n,b_n\\, \\text{real constants} $$\n",
    "### (Note that here we are giving an expression that only works for $2\\pi$-periodic functions. There is a formula that works more generally, which we will learn later)\n",
    "### The benefit is, given an inhomogeneous linear differential equation $P(D)y=f(t)$, we can apply ERF to every term in the Fourier series.\n",
    "## $$ \\begin{array} {rcl} \\text{Input} & & \\text{Response} \\\\ {\\color{orange}{b_n}}\\sin(nt) & \\rightsquigarrow & {\\color{orange}{b_n}}y_n^{(s)}(t) \\\\ {\\color{red}{a_n}}\\cos(nt) & \\rightsquigarrow & {\\color{red}{a_n}}y_n^{(c)}(t) \\\\ c_0 & \\rightsquigarrow & c_1 \\end{array} $$\n",
    "\n",
    "### Taking the sum of all of the input terms we get an approximation to the input $f(t)$. Therefore by superposition (since our differential equation is linear), the sum of the terms on the right hand side is a series representation of the system response.\n",
    "## $$ \\begin{array} {rcl} \\text{Input} & & \\text{Response} \\\\ f(t) & \\rightsquigarrow & c_1+\\sum_{n=1}^{\\infty} \\left[ {\\color{red}{a_n}} y_n^{(c)}(t) + {\\color{orange}{b_n}} y_n^{(s)}(t) \\right] \\end{array} $$\n"
   ]
  },
  {
   "cell_type": "markdown",
   "id": "3417f860-1152-41d1-95d9-76b93b8e5844",
   "metadata": {},
   "source": [
    "## Program for solving inhomogeneous DEs with periodic input\n",
    "### 1. Find a Fourier series approximation to the input signal (***What we will learn today.***)\n",
    "### 2. The system response is the sum of the response to each $\\sin(nt)$ and $\\cos(nt)$ input. (***Will explore in 2 lectures from now.***)\n",
    "\n",
    "### ***Question***: Is it really useful to have a particular solution that is expressed as an infinite sum?\n",
    "### ***Answer***: It is useful when you can determine which terms in the sum are dominant.\n",
    "### But first things first: we must define the Fourier series, determine how to compute it. In order to define the Fourier series, we start by reviewing the components necessary to define them – periodic functions."
   ]
  },
  {
   "cell_type": "markdown",
   "id": "91866ae6-97fa-4a03-9e92-0141ba334ba8",
   "metadata": {},
   "source": [
    "## Review the exponential response formula\n",
    "### Recall that the exponential response formula gives us a quick method for finding the particular solution to any linear, constant coefficient, differential equations whose input can be expressed in terms of an exponential function.\n",
    "\n",
    "### ***The exponential response formula (ERF)***: Let $P$ be a polynomial with real, constant coefficients, $D=\\frac{d}{dt}$ a differential operator, and $r$ a (real or complex) number. If $P(r)\\neq0$, then a particular solution to the inhomogeneous differential equation\n",
    "## $$ P(D)y = e^{rt} $$\n",
    "### is given by\n",
    "## $$ y_p = \\frac{e^{rt}}{P(r)} $$\n",
    "### ***Caveat***\n",
    "### Caveat: If $P(r) = P'(r) = P''(r) = \\cdots = P^{(k-1)}(r) = 0$, but $P^{(k)} \\neq 0$, then a particular solution to $P(D)y = e^{rt}$ is given by\n",
    "## $$ y_p = \\frac{t^k e^{rt}}{P^{(k)}(r)} $$\n",
    "\n",
    "## Sinusoidal input:\n",
    "## $$ \\begin{array} {rcl} P(D)x = \\cos(\\omega t) & \\text{is the real part of} & P(D)z=e^{i\\omega t} \\\\ P(D)x = \\sin(\\omega t) & \\text{is the imaginary part of} & P(D)z=e^{i\\omega t} \\end{array} $$\n",
    "### Therefore\n",
    "### - a particular solution to $P(D)x = \\cos(\\omega t)$ is given by $x_p = \\operatorname{Re}\\left[ \\frac{e^{i\\omega t}}{P(i\\omega)} \\right]$;\n",
    "### - a particular solution to $P(D)x = \\sin(\\omega t)$ is given by $x_p = \\operatorname{Im}\\left[ \\frac{e^{i\\omega t}}{P(i\\omega)} \\right]$."
   ]
  },
  {
   "cell_type": "markdown",
   "id": "c1b74dd8-0f88-4676-b8ee-a49027fd797a",
   "metadata": {},
   "source": [
    "## Periodic functions\n",
    "### Because\n",
    "## $$ \\sin(t+2\\pi) = \\sin(t), \\quad \\cos(t+2\\pi) = \\cos(t) $$\n",
    "### hold for all $t$, the functions $\\sin t$ and $\\cos t$ are called periodic with period $2\\pi$. \n",
    "### In general a function $f(t)$ defined for all real $t$ is ***periodic of period*** $P$ if $f(t+P) = f(t)$ for all $t$.\n",
    "### There are many such functions beyond the sinusoidal functions. To construct one, divide the real line into intervals of length $P$, start with any function defined on one such interval $[t_0, t_0+P)$, and then copy its values in the other intervals. The entire graph consists of horizontally shifted copies of the width  graph.\n",
    "![img](img/periodic.png)\n",
    "### Figure 1: A periodic function of period $P$ created by copying and shifting the graph over the interval $[t_0, t_0+P)$.\n",
    "### For now we focus on functions with period $P=2\\pi$, which are defined over the interval $[-\\pi, \\pi)$.\n",
    "\n",
    "### ***Question 4.1***\n",
    "### Is $\\sin(3t)$ periodic of period $2\\pi$?\n",
    "\n",
    "### ***Answer***\n",
    "### The shortest period is $2\\pi/3$, but $\\sin(3t)$ is also periodic with period any positive integer multiple of $2\\pi/3$, including $3(2\\pi/3) = 2\\pi$:\n",
    "## $$ \\sin(3(t+2\\pi)) = \\sin(3t+6\\pi) = \\sin(3t) $$\n",
    "### So the answer is yes."
   ]
  },
  {
   "cell_type": "markdown",
   "id": "15a3d1ef-ec26-45f5-8e37-da607d753b34",
   "metadata": {},
   "source": [
    "## Base period\n",
    "\n",
    "### The ***base period*** is the smallest common period of a collection of functions."
   ]
  },
  {
   "cell_type": "markdown",
   "id": "7312d05e-a4ae-4363-abef-b3710c2d5628",
   "metadata": {},
   "source": [
    "## Fourier series\n",
    "\n",
    "### A linear combination like $2 \\sin(3t)-4 \\sin(7 t)$ is another periodic function of period $2\\pi$.\n",
    "![img](img/furier-1.png)\n",
    "\n",
    "### ***Defnition 5.1***\n",
    "### A ***Fourier series*** is a linear combination of the infinitely many functions $\\cos(nt)$ and $\\sin(nt)$ as $n$ ranges over integers:\n",
    "## $$ \\begin{array} {rcl} f(t) = \\frac{a_0}{2} & + & a_1\\cos(t) + a_2\\cos(2t) + a_3\\cos(3t) + \\cdots \\\\ \\, & + & b_1\\sin(t)+b_2\\sin(2t)+b_3\\sin(3t)+\\cdots \\end{array} $$\n",
    "### (Terms like $-2t$ are redundant since $\\cos(-2t) = \\cos(2t)$. Also $\\sin(2t) = 0$ produces nothing new. But $\\cos(0t) = 1$ is included. We'll explain later why we write the first coefficient as $a_0$ divided by $2$ instead of $a_0$.)\n",
    "### Written using sigma-notation:\n",
    "## $$ f(t) = \\frac{a_0}{2}+\\sum_{n=1}^{\\infty} a_n \\cos(nt)+\\sum_{n=1}^{\\infty} b_n \\sin(nt) $$"
   ]
  },
  {
   "cell_type": "markdown",
   "id": "3aab13ce-e1ef-4b10-9340-077b546b1827",
   "metadata": {},
   "source": [
    "### ***Example 5.2***\n",
    "### Recall that, for example, $\\displaystyle g(t) = \\sum_{n=1}^{\\infty} b_n \\sin(nt)$ means the sum of the series whose $n^{\\text{th}}$ term is obtained by plugging in the positive integer $n$ into the expression $b_n \\sin(nt)$, so\n",
    "## $$ g(t) = \\sum_{n\\geq 1} b_n \\sin(nt) = b_1 \\sin(t) + b_2\\sin(2t)+b_3\\sin(3t) + \\cdots $$\n",
    "### In particular, at $t = 0$,\n",
    "## $$ g(t) = \\sum_{n\\geq 1}b_n\\sin(n0) = \\sum_{n\\geq 1} b_n\\cdot 0 = 0 $$"
   ]
  },
  {
   "cell_type": "markdown",
   "id": "122b795c-7c90-4b62-84f8-3b21d4ee8758",
   "metadata": {},
   "source": [
    "### ***Example 5.3***\n",
    "### If $\\displaystyle f(t) = \\frac{a_0}{2} + \\sum_{n=1}^{\\infty} a_n \\cos(nt)$, then\n",
    "## $$ \\begin{array} {rcl} f(\\pi) & = & \\frac{a_0}{2} + \\sum_{n=1}^{\\infty} a_n \\cos(n\\pi) \\\\ \\, & = & \\frac{a_0}{2} + \\sum_{n=1}^{\\infty} a_n(-1)^n \\\\ \\, & = & \\frac{a_0}{2}-a_1+a_2-a_3+\\cdots \\end{array} $$\n",
    "### Any Fourier series as above is periodic of period $2\\pi$. (Later we'll extend to the definition of Fourier series to include functions of other periods.)\n",
    "### - The numbers $a_n$ and $b_n$ are called the ***Fourier coefficients*** of $f$.\n",
    "### - Each summand ($a_0/2$, $a_n \\cos(nt)$, or $b_n\\sin(nt)$) is called a ***Fourier component*** of $f$."
   ]
  },
  {
   "cell_type": "markdown",
   "id": "19875c78-8a2f-4cbe-8c2b-4ee40e78d5ec",
   "metadata": {},
   "source": [
    "### ***Example 5.4***\n",
    "### Define\n",
    "## $$ \\operatorname{Sq}(t) \\colon=\\left\\{ \\begin{array} {rcl} 1, & \\text{if} & 0<t<\\pi,\\\\-1, & \\text{if} & -\\pi<t<0. \\end{array} \\right. $$\n",
    "### and extend it to a periodic function of period $2\\pi$, called a ***square wave***.\n",
    "\n",
    "### The function $\\operatorname{Sq}(t)$ has jump discontinuities, for example at $t=0$. The graph is usually drawn with vertical segments at the jumps (even though this violates the vertical line test).\n",
    "![img](img/periodic-2.png)\n",
    "### Figure 3: The $2\\pi$-periodic square wave.\n",
    "\n",
    "### It turns out that\n",
    "## $$ \\operatorname{Sq}(t) = \\frac{4}{\\pi}\\left( \\sin(t) + \\frac{\\sin(3t)}{3} + \\frac{\\sin(5t)}{5} + \\cdots \\right) $$\n",
    "\n",
    "### We'll explain later today where this comes from."
   ]
  },
  {
   "cell_type": "markdown",
   "id": "bcb050ab-4d98-4840-b1ca-146b4d6080ce",
   "metadata": {},
   "source": [
    "## Fourier's Theorem. \n",
    "### “Every\" periodic function $f$ of period $2\\pi$ “is\" a Fourier series, and the Fourier coefficients are uniquely determined by $f$.\n",
    "\n",
    "### (The word “Every\" has to be taken with a grain of salt: The function has to be “reasonable\". Piecewise differentiable functions with jump discontinuities are reasonable, as are virtually all other functions that arise in physical applications. The word “is\" has to be taken with a grain of salt: If $f$ has a jump discontinuity at $\\tau$, then the Fourier series might disagree with $f$ there; the value of the Fourier series at $\\tau$ is always the average of the left limit $f(\\tau^-)$ and the right limit $f(\\tau^+)$, regardless of the actual value of $f(\\tau)$.)\n",
    "### In other words, the functions\n",
    "## $$ 1, \\cos(t), \\cos(2t), \\cos(3t), \\ldots, \\sin(t), \\sin(2t), \\sin(3t),\\ldots $$\n",
    "### form a basis for the vector space of “all\" periodic functions of period $2\\pi$.\n",
    "\n",
    "### ***Question 5.5***   \n",
    "### Given $f$, how do you find the Fourier coefficients $a_n$ and $b_n$?\n",
    "### In other words, how do you find the coordinates of $f$ with respect to the basis of cosines and sines?"
   ]
  },
  {
   "cell_type": "markdown",
   "id": "de86a8cb-4cf2-4b7d-9142-0f4b4f5d67cb",
   "metadata": {},
   "source": [
    "## Connecting to linear algebra - Orthogonality\n",
    "\n",
    "### If $\\bf{v}$ and $\\bf{w}$ are vectors in $\\mathbb{R}^n$, then\n",
    "## $$ \\bf{v} \\cdot \\bf{w} \\colon= \\sum_{k=1}^{n}v_k w_k $$\n",
    "### where $v_k$ and $w_k$ are the $k$th components of the vectors $\\bf{v}$ and $\\bf{w}$ respectively. Can one define the dot product of two functions? Sort of.\n",
    "### If we think of vectors $\\bf{v}$ and $\\bf{w}$ as functions from the finite sets\n",
    "## $$ \\begin{array} {rcl} \\bf{v}: \\left\\{ -\\pi+2\\pi/n, -\\pi+4\\pi/n,\\ldots,-\\pi+2n\\pi/n=\\pi \\right\\} & \\to & \\mathbb{R} \\\\ \\bf{w}: \\left\\{ -\\pi+2\\pi/n, -\\pi+4\\pi/n,\\ldots,-\\pi+2n\\pi/n=\\pi \\right\\} & \\to & \\mathbb{R} \\end{array} $$\n",
    "### then the inner product of these functions can be written as $\\langle \\bf{v}, \\bf{w} \\rangle$, where\n",
    "## $$ \\langle \\bf{v}, \\bf{w} \\rangle = \\sum_{k=1}^{n} \\bf{v} (-\\pi+2k\\pi/n)\\bf{w}(-\\pi+2k\\pi/n) $$\n",
    "### When we take the continuous limit as $n\\to \\infty$, $\\bf{v}$ and $\\bf{w}$ become continuous, real valued functions defined on $(-\\pi, \\pi]$, and then the infinite sum becomes an integral."
   ]
  },
  {
   "cell_type": "markdown",
   "id": "a28d078a-9ead-494b-abae-bdeb38d647db",
   "metadata": {},
   "source": [
    "### ***Definition 6.1***\n",
    "### If $u(t)$ and $v(t)$ are real-valued periodic functions with period $2\\pi$, then we will define their ***inner product*** as\n",
    "## $$ \\langle u(t), v(t)\\rangle \\colon=\\int_{-\\pi}^{\\pi} u(t)v(t) dt $$\n",
    "### This is the continuous analogue of the dot product for vectors. (Sometimes the inner product is defined on different intervals for functions with different periods. In other definitions, for convenience there is a constant multiplier, which is a normalizing factor.)\n",
    "\n",
    "### ***Definition 6.2***   \n",
    "### We say that two $2\\pi$-periodic functions $u(t)$ and $v(t)$ are ***orthogonal*** if\n",
    "## $$ \\int_{-\\pi}^{\\pi} u(t) v(t) dt = 0 $$\n",
    "\n",
    "### ***Example 6.3***\n",
    "### For example,\n",
    "## $$ \\langle 1, \\cos(t) \\rangle = \\int_{-\\pi}^{\\pi} \\cos(t)dt = 0 $$\n",
    "### Thus the functions $1$ and $\\cos(t)$ are orthogonal."
   ]
  },
  {
   "cell_type": "markdown",
   "id": "697240b9-064a-4d65-8533-fb03337d4a05",
   "metadata": {},
   "source": [
    "### ***Orthogonality continued***\n",
    "### Fourier's theorem (from the previous page) tells us that $\\left\\{ 1, \\cos(t), \\cos(2t), \\cos(3t), \\ldots,\\sin(t),\\sin(2t),\\sin(3t),\\ldots \\right\\}$ is a basis. So \"every\" $2\\pi$-periodic function can be represented as a Fourier series. The other incredibly useful property is that they are ***orthogonal***. \n",
    "### Orthogonality is what helps us answer our question on finding formulas for the Fourier coefficients.\n",
    "\n",
    "### ***Question 6.4***\n",
    "### Is $\\left\\{ 1, \\cos(t), \\cos(2t), \\cos(3t), \\ldots,\\sin(t),\\sin(2t),\\sin(3t),\\ldots \\right\\}$ an ***orthonormal*** basis for all $2\\pi$-periodic functions, which can be represented by a Fourier series?\n",
    "\n",
    "### ***Answer***\n",
    "### No, since\n",
    "## $$ \\langle 1,1 \\rangle = \\int_{-\\pi}^{\\pi} 1 dt = 2\\pi \\neq 1 $$"
   ]
  },
  {
   "cell_type": "markdown",
   "id": "6cdd2923-554a-4085-9df8-e6e8fb91accf",
   "metadata": {},
   "source": [
    "### ***Example 6.5***\n",
    "## $$ \\begin{array} {rcccl} \\langle \\sin(t), \\sin(t) \\rangle & = & \\int_{-\\pi}^{\\pi} \\sin^2(t) dt & = & {\\color{red}{?}} \\\\ \\langle \\cos(t), \\cos(t) \\rangle & = & \\int_{-\\pi}^{\\pi} \\cos^2(t) dt & = & {\\color{red}{?}} \\end{array} $$\n",
    "### Since $\\cos(t)$ is just a shift of $\\sin(t)$, the answers are going to be the same. Also, the two answers add up to\n",
    "## $$ \\int_{-\\pi}^{\\pi} \\underbrace{\\sin^2()t + \\cos^2(t)}_{= 1}dt = 2\\pi $$\n",
    "### so each is \\pi.\n",
    "\n",
    "### The same idea works to show that\n",
    "## $$ \\langle \\cos(nt), \\cos(nt) \\rangle = \\pi $$\n",
    "## $$ \\langle \\sin(nt), \\sin(nt) \\rangle = \\pi $$\n",
    "### for each positive integer "
   ]
  },
  {
   "cell_type": "markdown",
   "id": "c02b666f-72fd-4a11-b1a2-ac6054230ee4",
   "metadata": {},
   "source": [
    "## Proof of orthogonality\n",
    "\n",
    "### Here we prove that if $\\displaystyle m\\neq n $, then $\\sin(nt)$ and $\\cos(nt)$ are orthogonal to $\\sin(mt)$ and $\\cos(mt)$. To do this we use that fact that both $\\sin(nt)$ and $\\cos(nt)$ solve the differential equation $\\ddot{x}+n^2x = 0$, and both $\\sin(mt)$ and $\\cos(mt)$ solve the differential equation $\\ddot{x}+m^2x=0$.\n",
    "\n",
    "### Supose that $u(t)$ solves the differential equation $\\ddot{x}+n^2x = 0$. And suppose $v(t)$ solves the differential equation $\\ddot{x}+m^2x = 0$ and $n\\neq m$.\n",
    "### Then in particular\n",
    "## $$ \\int_{-\\pi}^{\\pi} \\ddot{u}(t) v(t) dt = \\dot{u}(t)v(t)|_{-\\pi}^{\\pi}-\\int_{-\\pi}^{\\pi}\\dot{u}(t)\\dot{v}(t)dt $$\n",
    "### Note that $\\displaystyle \\dot{u}(t)v(t)|_{-\\pi}^{\\pi} = 0$. Both $u(t)$ and $v(t)$ are both periodic on $(-\\pi, \\pi]$, therefore so is $\\dot{u}(t)v(t)$. Therefore the difference $\\dot{u}(\\pi)v(\\pi)-\\dot{u}(-\\pi)v(-\\pi) = 0$.\n",
    "### Thus this reduces to the expression\n",
    "## $$ \\int_{-\\pi}^{\\pi} \\ddot{u}(t)v(t)dt = -\\int_{-\\pi}^{\\pi}\\dot{u}(t)\\dot{v}(t)dt $$ \n",
    "### A similar argument shows that\n",
    "## $$ \\int_{-\\pi}^{\\pi} \\ddot{v}(t)u(t)dt = -\\int_{-\\pi}^{\\pi}\\dot{u}(t)\\dot{v}(t)dt $$ \n",
    "### However, by using the substitution from the differential equation, we have that $\\ddot{u}(t) = -n^2u(t)$ and $\\ddot{v}(t) = -m^2v(t)$. Therefore it follows that\n",
    "## $$ n^2\\int_{-\\pi}^{\\pi}u(t)v(t)dt = m^2\\int_{-\\pi}^{\\pi}u(t)v(t)dt $$\n",
    "### Note that since we have assumed that $m\\neq n$, the only way for this to hold is for the integral $\\displaystyle \\int_{-\\pi}^{\\pi} u(t)v(t)dt = 0 $.\n",
    "\n",
    "### ***Remark 7.1***   \n",
    "### In disguise, this is the same as showing that two eigenvectors corresponding to distinct eigenvalues of a symmetric matrix are orthogonal."
   ]
  },
  {
   "cell_type": "markdown",
   "id": "d8d9f165-244d-4c1b-baee-94b768476bed",
   "metadata": {},
   "source": [
    "## Fourier coefficient\n",
    "\n",
    "### Given $f$, how do you find the $a_n$ and $b_n$ such that\n",
    "## $$ \\begin{array} {rcl} f(t) = \\frac{a_o}{2} & + & a_1 \\cos(t) + a_2\\cos(2t) + a_3\\cos(3t) + \\cdots \\\\ \\, & + & b_1 \\sin(t) + b_2\\sin(2t)+ b_3\\sin(3t) + \\cdots  ? \\end{array} $$\n",
    "### By the shortcut formulas,\n",
    "## $$ a_n = \\frac{\\langle f, \\cos(nt)\\rangle}{\\langle\\cos(nt),\\cos(nt)\\rangle} = \\frac{1}{\\pi}\\int_{-\\pi}^{\\pi}f(t)\\cos(nt)d $$\n",
    "## $$ b_n = \\frac{\\langle f, \\sin(nt)\\rangle}{\\langle\\sin(nt),\\sin(nt)\\rangle} = \\frac{1}{\\pi}\\int_{-\\pi}^{\\pi}f(t)\\sin(nt)d $$\n",
    "### and the coefficient of $1$ is\n",
    "## $$ \\frac{a_0}{2} = \\frac{\\langle f, 1 \\rangle}{\\langle 1, 1\\rangle} = \\frac{1}{2\\pi}\\int_{-\\pi}^{\\pi}f(t)dt $$\n",
    "### so\n",
    "## $$ a_0 = \\frac{1}{\\pi}\\int_{-\\pi}^{\\pi}f(t)dt $$\n",
    "### (Using $a_0/2$ in the series ensures that the formula for $a_n$ for $n>0$ works also for $n=0$.) A similar formula holds for $b_n$.\n",
    "\n",
    "### ***Conclusion***: Given $f$, its Fourier coefficients can be calculated as follows:\n",
    "## $$ a_n = \\frac{1}{\\pi}\\int_{-\\pi}^{\\pi}f(t)\\cos(nt)dt \\quad \\text{for all} \\quad n \\geq 0 $$\n",
    "## $$ b_n = \\frac{1}{\\pi}\\int_{-\\pi}^{\\pi}f(t)\\sin(nt)dt \\quad \\text{for all} \\quad n \\geq 1 $$"
   ]
  },
  {
   "cell_type": "markdown",
   "id": "0c706e3c-849e-49c5-ad7d-606f875151b1",
   "metadata": {},
   "source": [
    "## Meaning of the constant term\n",
    "\n",
    "### Recall that the average value of a function $f(t)$ on an interval $(a,b)$ is defined to be the area under the curve over that interval, divided by the length of that interval:\n",
    "## $$ \\operatorname{ave}(f) \\colon = \\frac{\\int_{a}^{b} f(t) dt}{b - a} $$\n",
    "### The constant term of the Fourier series of $f$ is\n",
    "## $$ \\frac{a_0}{2} = \\frac{1}{2\\pi} \\int_{-\\pi}^{\\pi} f(t) dt = \\frac{\\int_{-\\pi}^{\\pi} f(t) dt}{\\pi - (-\\pi)} $$\n",
    "### which is the average value of $f$ on the interval $(-\\pi, \\pi)$.\n",
    "\n",
    "### ***Example 9.1***\n",
    "### Find the constant term of the $2\\pi$-periodic function\n",
    "## $$ f(t) = \\left \\{ \\begin{array} {rcl} t, & & 0 < t < \\pi \\\\ 0, & & -\\pi < t < 0 \\end{array} \\right. $$\n",
    "### ***Solution***: \n",
    "### The average value of this function over one period is given by the area under the curve, divided by the length of the interval, which in this case is $2\\pi$. By sketching the function over the interval $-\\pi<t<\\pi$,\n",
    "![img](img/sample-1.png)\n",
    "### we can compute the area under the curve directly to find the average value, which is\n",
    "## $$ \\frac{(1/2)\\pi^2}{2\\pi} = \\frac{\\pi}{4} $$"
   ]
  },
  {
   "cell_type": "markdown",
   "id": "317fc1a7-5b7c-4ffe-aab3-db7d8fef482f",
   "metadata": {},
   "source": []
  }
 ],
 "metadata": {
  "kernelspec": {
   "display_name": "Python 3",
   "language": "python",
   "name": "python3"
  },
  "language_info": {
   "codemirror_mode": {
    "name": "ipython",
    "version": 3
   },
   "file_extension": ".py",
   "mimetype": "text/x-python",
   "name": "python",
   "nbconvert_exporter": "python",
   "pygments_lexer": "ipython3",
   "version": "3.8.8"
  }
 },
 "nbformat": 4,
 "nbformat_minor": 5
}
