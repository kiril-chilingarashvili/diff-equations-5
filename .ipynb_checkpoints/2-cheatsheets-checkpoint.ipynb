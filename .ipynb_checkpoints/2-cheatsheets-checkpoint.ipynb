{
 "cells": [
  {
   "cell_type": "markdown",
   "id": "545b41ec-e832-41c9-b42f-85db8081c0d5",
   "metadata": {},
   "source": [
    "# Unit 2: Differential equations revisited"
   ]
  },
  {
   "cell_type": "markdown",
   "id": "17fef308-f637-4ac7-a8e2-9353c85c0cf6",
   "metadata": {},
   "source": [
    "## Review the exponential response formula\n",
    "\n",
    "### Recall that the exponential response formula gives us a quick method for finding the particular solution to any linear, constant coefficient, differential equations whose input can be expressed in terms of an exponential function.\n",
    "\n",
    "### ***The exponential response formula (ERF)***: \n",
    "### Let $P$ be a polynomial with real, constant coefficients, $\\displaystyle D=\\frac{d}{dt}$ a differential operator, and $r$ a (real or complex) number. If $P(r)\\neq 0$, then a particular solution to the inhomogeneous differential equation\n",
    "## $$ p(D)y = e^{rt} \\quad \\text{is given by} \\quad y_p = \\frac{e^{rt}}{P(r)} $$\n",
    "\n",
    "### ***Caveat***:\n",
    "### If $\\displaystyle P(r) = P'(r) = P''(r) = \\ldots = P^{(k-1)}(r) = 0$, but $P^{(k)}(r) \\neq 0$, then a particular solution to $P(D)y = e^{rt}$ is given by\n",
    "## $$ y_p = \\frac{t^k e^{rt}}{P^{(k)}}(r) $$\n",
    "\n",
    "### ***Sinusoidal input***:\n",
    "## $$ \\begin{array} {rcl} P(D)x = \\cos(\\omega t) & \\text{is the real part of} & P(D)z = e^{i\\omega t} \\\\ P(D)x = \\sin(\\omega t) & \\text{is the imaginary part of} & P(D)z = e^{i\\omega t} \\end{array} $$\n",
    "\n",
    "### Therefore\n",
    "### - a particular solution to $\\displaystyle P(D)x = \\cos(\\omega t)$ is given by $\\displaystyle x_p = \\operatorname{Re} \\left[ \\frac{e^{i\\omega t}}{P(i\\omega)} \\right]$;\n",
    "### - a particular solution to $\\displaystyle P(D)x = \\sin(\\omega t) $ is given by $\\displaystyle x_p = \\operatorname{Im}\\left[ \\frac{e^{i\\omega t}}{P(i\\omega)} \\right]$."
   ]
  },
  {
   "cell_type": "markdown",
   "id": "bfa71de0-c362-41ba-9e8f-c0fa88fdfa13",
   "metadata": {},
   "source": [
    "## Application of Fourier series\n",
    "\n",
    "### ***Problem 3.1***\n",
    "### Suppose that $f(t)$ is an odd periodic function of period $2\\pi$. Find the periodic function $x(t)$ of period $2\\pi$ that is a solution to\n",
    "## $$ \\ddot{x}+50 x = f(t) $$\n",
    "### Think of $f(t)$ as the input signal, and the solution $x(t)$ as the system response (output signal).\n",
    "\n",
    "### ***Special case***: What is the system response to the input signal $\\sin(nt)$? In other words, what is a solution to\n",
    "## $$ \\ddot{x} + 50x = \\sin(\\omega t) $$\n",
    "### with the same (smallest) period as $\\sin(nt)$?\n",
    "\n",
    "### ***Solution***: \n",
    "### First find the response to $e^{int}$, and then take the imaginary part. In other words, we first solve\n",
    "## $$ \\ddot{z} + 50z = e^{int} $$\n",
    "### The characteristic polynomial is $\\displaystyle P(r) = r^2+50$, so by ERF, the system response to $e^{int}$ is\n",
    "## $$ z = \\frac{e^{int}}{P(in)} = \\frac{e^{int}}{50-n^2} $$\n",
    "### The complex gain is $\\displaystyle \\frac{1}{50-n^2} $. Then\n",
    "## $$ x = \\operatorname{Im}\\left[ \\frac{e^{int}}{50-n^2} \\right] = \\frac{\\sin(nt)}{50-n^2} $$\n",
    "### is the system response to $\\sin(nt)$. \n",
    "### This explains all the rows of the table below except the last row.\n",
    "\n",
    "## $$ \\begin{array} {cc} \\text{Input Signal} & \\text{System Response} \\\\ \\displaystyle e^{int} & \\displaystyle\\frac{e^{int}}{50-n^2} \\\\ \\displaystyle\\sin(nt) & \\displaystyle\\frac{\\sin(nt)}{50-n^2} \\\\ \\displaystyle\\sin(t) & \\displaystyle\\frac{\\sin(t)}{49} \\\\ \\displaystyle\\sin(2t) & \\displaystyle\\frac{\\sin(2t)}{46} \\\\ \\displaystyle\\sin(3t) & \\displaystyle\\frac{\\sin(nt)}{41} \\\\ \\displaystyle\\vdots & \\displaystyle\\vdots \\\\ \\displaystyle\\sum_{n\\geq 1}b_n\\sin(nt) & \\displaystyle\\sum_{n\\geq 1}\\frac{b_n \\sin(nt)}{50-n^2} \\end{array} $$"
   ]
  },
  {
   "cell_type": "markdown",
   "id": "5826bdf9-fade-4ae2-af66-c3b45f484282",
   "metadata": {},
   "source": [
    "## System response\n",
    "\n",
    "### Now let's return to the original problem. Suppose that the input signal $\\displaystyle f$ is an odd periodic function of period $2\\pi$. Since $f$ is odd, the Fourier series of $f$ is a linear combination of sine functions\n",
    "## $$ f(t) = b_1 \\sin(t) + b_2\\sin(2t)+b_3\\sin(3t)+\\cdots $$\n",
    "### Let $f(t)$ be the input of the system\n",
    "## $$ \\ddot{x}+50x = f(t) $$\n",
    "### By the superposition principle, the system response to $f(t)$ is\n",
    "## $$ x(t) = b_1\\frac{1}{49}\\sin(t) + b_2\\frac{1}{46}\\sin(2t)+b_3\\frac{1}{41}\\sin(3t)+\\cdot $$\n",
    "### Note that each Fourier component $\\sin(nt)$ has a different gain: the gain depends on the frequency.\n",
    "\n",
    "### One could write a particular solution using sigma-notation:\n",
    "## $$ \\boxed{ x_p(t) = \\sum_{n\\geq 1} \\frac{1}{50-n^2}b_n \\sin(nt) } $$\n"
   ]
  },
  {
   "cell_type": "markdown",
   "id": "d70b5a79-7c9b-4bb3-b1e5-d41e60cfe2d6",
   "metadata": {},
   "source": [
    "## Near resonance\n",
    "\n",
    "### ***Problem 5.1***\n",
    "### If the system response of $\\sin(nt)$ is $\\displaystyle \\frac{\\sin(nt)}{50-n^2}$, for which input signal $\\sin(nt)$ is the gain the largest?\n",
    "\n",
    "### ***Solution***: \n",
    "### The gain is $\\displaystyle \\left| \\frac{1}{50-n^2} \\right|$, which is largest when $|50-n^2|$ is smallest. This happens for $n=7$.\n",
    "### The gain for $\\sin(7t)$ is $1$, and the next largest gain, occurring for $\\sin(6t)$ and $\\sin(8t)$, is $\\frac{1}{14}$. Thus the system approximately filters out all the Fourier components of $f(t)$ except for the $\\sin(7t)$ term.\n",
    "\n",
    "### ***Problem 5.2***   \n",
    "### Let $x(t)$ be the periodic solution to\n",
    "## $$ \\ddot{x}+50x=\\frac{\\pi}{4}\\operatorname{Sq}(t) $$\n",
    "### Which Fourier coefficient of $x(t)$ is largest? Which is second largest?\n",
    "\n",
    "### ***Solution***: The input signal\n",
    "## $$ \\frac{\\pi}{4} \\operatorname{Sq}(t) = \\sum_{n\\geq 1,\\,\\text{odd}}\\left( \\right) $$\n",
    "### elicits the system response\n",
    "## $$ x(t) = \\sum_{n\\geq 1, \\text{odd}} \\left( \\frac{1}{50-n^2} \\right) \\frac{\\sin(nt)}{n} $$\n",
    "## $$ \\approx 0.020 \\sin(t) + 0.008\\sin(3t) + 0.008\\sin(5t)+0.143\\sin(7t)-0.004\\sin(9t)-(\\text{even smaller terms}) $$\n",
    "### so the coefficient of $\\sin(7t)$ is largest, and the coefficient of $\\sin(t)$ is second largest. (This makes sense since the Fourier coefficient $\\displaystyle \\frac{1}{50-n^2}$ is large only when one of $n$ or $50-n^2$ is small.)\n",
    "\n",
    "### ***Remark 5.3***\n",
    "### Even though the system response is a complicated Fourier series, with infinitely many terms, only one or two are significant, and the rest are negligible.\n",
    "![img](img/fourier-3.png)"
   ]
  },
  {
   "cell_type": "markdown",
   "id": "dc974d0b-ca17-47c0-8aae-bdcdbccab2bd",
   "metadata": {},
   "source": [
    "## Pure resonance\n",
    "\n",
    "### What happens if instead of considering the differential equation\n",
    "## $$ \\ddot{x}+50x=\\frac{\\pi}{4}\\operatorname{Sq}(t) $$\n",
    "### we change $50$ to $49$\n",
    "## $$ \\ddot{x}+49x=\\frac{\\pi}{4}\\operatorname{Sq}(t) \\,? $$\n",
    "\n",
    "\n",
    "\n",
    "### ***Remark 6.1***\n",
    "### If the ODE had been\n",
    "## $$ \\ddot{x} + 36x=\\frac{\\pi}{4}\\operatorname{Sq}(t) $$\n",
    "### then all solutions would have been periodic, because $\\displaystyle \\frac{\\pi}{4}\\operatorname{Sq}(t)$ has no $\\sin(6t)$ term in its Fourier series.\n",
    "\n",
    "### In general, for a periodic function $f$, the ODE $P(D)x = f(t)$ has a periodic solution if and only if for each term $\\cos(\\omega t)$ or $\\sin(\\omega t)$ appearing with a nonzero coefficient in the Fourier series of $f$, the number $i\\omega$ is not a root of $P(r)$."
   ]
  },
  {
   "cell_type": "markdown",
   "id": "6701bb17-f885-4d65-9f61-6ee66a42a3d6",
   "metadata": {},
   "source": [
    "## Solving ODEs with Fourier series\n",
    "\n",
    "### We can solve the same differential equation in general for a periodic input signal of any frequency.\n",
    "### Solve the differential equation\n",
    "## $$ \\ddot{x}+\\omega_0^2 x = f(t) $$\n",
    "### where $f(t)$ is $2L$-periodic, and has Fourier series\n",
    "## $$ f(t) = \\frac{a_0}{2} + \\sum_{n=1}^{\\infty}\\left(a_n\\cos(\\omega_n t) + b_n\\sin(\\omega_n t)\\right),\\quad \\text{where}\\,\\omega_n = \\frac{n\\pi}{L} $$\n",
    "### A particular solution is given by\n",
    "## $$ \\boxed{ x_p(t) = \\frac{a_0}{2\\omega_0^2} + \\sum_{n\\geq 1}\\frac{a_n \\cos(\\omega_n t)}{\\omega_0^2-\\omega_n^2} + \\sum_{n\\geq 1}\\frac{b_n \\sin(\\omega_n t)}{\\omega_0^2-\\omega_n^2} } $$"
   ]
  },
  {
   "cell_type": "markdown",
   "id": "3e973826-35e4-48ff-a536-0d518f4fd06d",
   "metadata": {},
   "source": [
    "## Resonant response of step wave\n",
    "\n",
    "### Let $\\displaystyle f(t) = \\left\\{ \\begin{array} {rcl} 1 & & 0 < t < 1 \\\\ 0 & & -1 < t < 0 \\end{array} \\right.$ be the function of period $2$.\n",
    "![img](img/fourier-4.png)\n",
    "### In the previous lecture, we found that the Fourier series for $f(t)$ is\n",
    "## $$ f(t) = \\frac{1}{2} + \\frac{2}{\\pi}\\sum_{n\\,\\text{odd}}\\frac{\\sin(n\\pi t)}{n} $$\n",
    "\n",
    "### ***Example 8.1***\n",
    "### Find the system response to\n",
    "## $$ \\ddot{x}+10^2 x = f(t) $$\n",
    "### On the previous page, we found that the particular solution for a differential equation of this type will take the form\n",
    "## $$ x_p(t) = \\frac{a_0}{2\\omega_0^2} + \\sum_{n\\geq 1}\\frac{a_n \\cos(\\omega_n t)}{\\omega_0^2-\\omega_n^2} + \\sum_{n\\geq 1}\\frac{b_n \\sin(\\omega_n t)}{\\omega_0^2-\\omega_n^2} $$\n",
    "### Therefore, in this example, the particular solution is given by\n",
    "## $$ x_p = \\frac{1}{200}+\\frac{2}{\\pi}\\sum_{n\\,\\text{odd}} \\frac{\\sin(n\\pi t)}{(100-(n\\pi)^2)n} $$"
   ]
  },
  {
   "cell_type": "markdown",
   "id": "2e05d273-8675-420d-ab90-b20ceda2413f",
   "metadata": {},
   "source": [
    "## Harmonic frequency mathlet\n",
    "\n",
    "### The mathlet below helps you to visualize solutions to the differential equation\n",
    "## $$ \\ddot{x}+\\omega_0^2x=\\omega_0^2f(t) $$\n",
    "### In this applet the function $f(t)$ has a fixed angular frequency of $1$. That is, the input signal is $2\\pi$-periodic. But, you can choose what $2\\pi$-periodic function it is:\n",
    "### - a sine wave $\\sin(t)$,\n",
    "### - the square wave of period $2\\pi$,\n",
    "### - the sawtooth wave of period $2\\pi$, or\n",
    "### - a $2\\pi$-periodic impulse train.\n",
    "\n",
    "### You can adjust the natural frequency $\\omega_0$ of the system using the slider. Thus the slider adjusts the resonant frequency of the system."
   ]
  },
  {
   "cell_type": "code",
   "execution_count": 1,
   "id": "625a49da-fb19-499e-ba92-432005487318",
   "metadata": {
    "jupyter": {
     "source_hidden": true
    },
    "tags": []
   },
   "outputs": [
    {
     "data": {
      "text/html": [
       "<iframe width=\"900\" height=\"650\" src=\"https://mathlets1803.surge.sh/harmonicFreqRespVarNaturalFreq.html\" title=\"YouTube video player\" frameborder=\"0\" allow=\"accelerometer; autoplay; clipboard-write; encrypted-media; gyroscope; picture-in-picture\" allowfullscreen></iframe> \n"
      ],
      "text/plain": [
       "<IPython.core.display.HTML object>"
      ]
     },
     "metadata": {},
     "output_type": "display_data"
    }
   ],
   "source": [
    "%%html\n",
    "<iframe width=\"900\" height=\"650\" src=\"https://mathlets1803.surge.sh/harmonicFreqRespVarNaturalFreq.html\" title=\"YouTube video player\" frameborder=\"0\" allow=\"accelerometer; autoplay; clipboard-write; encrypted-media; gyroscope; picture-in-picture\" allowfullscreen></iframe> "
   ]
  },
  {
   "cell_type": "markdown",
   "id": "8cc5ae30-314e-4e09-95f7-163c5a73b679",
   "metadata": {},
   "source": [
    "### Choose $f(t)$ to be the sine wave. Look at what happens as you change $\\omega_0$. Why does the amplitude of the response go to infinity when $\\omega_0 = 1$?\n",
    "\n",
    "### Now choose $f(t)$ to be the square wave. Notice that the amplitude of the response becomes infinite at  $\\omega_0$= 1, 3 or 5.\n",
    "\n",
    "### ***Question 9.1***\n",
    "### As $\\omega_0$ gets close to 1, 3, or 5 what is the dominant frequency in the output?\n",
    "\n",
    "### ***Answer***\n",
    "### You should have seen that with $\\omega_0$ near 1 the output resembles a frequency 1 sine wave. For $\\omega_0$ near 3 the dominant frequency in the output is 3, i.e. there are three peaks in the oscillation over one cycle of the square wave. Likewise for $\\omega_0$ near 5 the dominant frequency is 5.\n",
    "### We can explain this using Fourier series. The square wave has Fourier series\n",
    "## $$ f(t) = \\frac{4}{\\pi}\\sum_{n\\,\\text{odd}} \\frac{\\sin(nt)}{n} $$\n",
    "### Each term in the series affects the system. If the system has natural frequency (very) close to 3 then the $\\sin(3t)$ term resonates with a large amplitude. Thus, the response to that term is far larger than the response to any other term."
   ]
  },
  {
   "cell_type": "markdown",
   "id": "7a21001f-76ab-4159-8aa7-b7d61c1e9998",
   "metadata": {},
   "source": [
    "### The mathlet below helps you to visualize solutions to the differential equation\n",
    "## $$ \\ddot{x}+x=f(\\omega t) $$\n",
    "### Here the resonant or natural frequency of this system is $1$ and is fixed. The slider changes the angular frequency of the input function $f(t)$. "
   ]
  },
  {
   "cell_type": "code",
   "execution_count": 2,
   "id": "4bc7fde8-3fa2-44fd-80d4-a0601eca767b",
   "metadata": {
    "jupyter": {
     "source_hidden": true
    },
    "tags": []
   },
   "outputs": [
    {
     "data": {
      "text/html": [
       "<iframe width=\"900\" height=\"650\" src=\"https://mathlets1803.surge.sh/harmonicFreqRespVarInputFreq.html\" title=\"YouTube video player\" frameborder=\"0\" allow=\"accelerometer; autoplay; clipboard-write; encrypted-media; gyroscope; picture-in-picture\" allowfullscreen></iframe> \n"
      ],
      "text/plain": [
       "<IPython.core.display.HTML object>"
      ]
     },
     "metadata": {},
     "output_type": "display_data"
    }
   ],
   "source": [
    "%%html\n",
    "<iframe width=\"900\" height=\"650\" src=\"https://mathlets1803.surge.sh/harmonicFreqRespVarInputFreq.html\" title=\"YouTube video player\" frameborder=\"0\" allow=\"accelerometer; autoplay; clipboard-write; encrypted-media; gyroscope; picture-in-picture\" allowfullscreen></iframe> "
   ]
  },
  {
   "cell_type": "markdown",
   "id": "4a1404fc-de47-4857-a918-0a5439f202b6",
   "metadata": {},
   "source": [
    "### ***Example*** \n",
    "### Find angular frequencies $\\omega$ of the input which are resonant with the systems $\\displaystyle f(\\omega t) = \\sin(\\omega t) $ and $\\displaystyle f(\\omega t) = \\operatorname{Sq}(\\omega t) $\n",
    "\n",
    "### ***Solution***\n",
    "### 1. A particular solution to\n",
    "## $$ \\ddot{x}+x=\\sin(\\omega t) $$\n",
    "### is given by\n",
    "## $$ x_p = \\frac{\\sin(\\omega t)}{1-\\omega^2},\\quad \\omega\\neq 1 $$\n",
    "### When $\\omega = 1$, the system is in resonance, and this is the only input frequency that will result in a resonant response.\n",
    "\n",
    "### 2. A particular solution to\n",
    "## $$ \\ddot{x}+x = \\operatorname{Sq}(\\omega t) = \\frac{4}{\\pi} \\sum_{n\\,\\text{odd}} \\frac{\\sin(\\omega n t)}{n} $$\n",
    "### is given by\n",
    "## $$ x_p = \\frac{4}{\\pi}\\sum_{n\\,\\text{odd}} \\frac{\\sin(\\omega n t)}{(1-\\omega^2n^2)n} $$\n",
    "### When $\\omega = 1$, the term $n=1$ is in resonance with the system. However, there are more terms of resonance! \n",
    "### When $n=3$, and $\\displaystyle \\omega=\\frac{1}{3}$, the second term in the Fourier series is resonant with the system. Similarly for $n=5$ and $\\displaystyle \\omega=\\frac{1}{5}$. Therefore, the response is resonant with the system whenever $\\displaystyle \\omega = \\frac{1}{n}$ for some odd, positive integer $n$."
   ]
  },
  {
   "cell_type": "markdown",
   "id": "f7d877f2-dc95-497b-9149-b9a4ffac0233",
   "metadata": {},
   "source": [
    "## Worked example: resonance with damping\n",
    "\n",
    "### In real life, there is always damping, and this prevents the runaway growth in the pure resonance scenario of the previous section.\n",
    "\n",
    "### ***Problem 10.1***\n",
    "### Describe the steady state solution to\n",
    "## $$ \\ddot{x}+0.1\\dot{x}+49x=\\frac{\\pi}{4}\\operatorname{Sq}(t) $$\n",
    "\n",
    "### ***Remark 10.2***\n",
    "### The term $01\\dot{x}$ is the damping term.\n",
    "\n",
    "### Recall: The steady state solution is the periodic solution. (Other solutions will be a sum of the steady state solution with a transient solution solving the homogeneous ODE\n",
    "## $$ \\ddot{x}+0.1\\dot{x}+49x=0 $$\n",
    "### these transient solutions tend to $0$ as $t\\to\\infty$, because the coefficients of the characteristic polynomial are positive (in fact, this is an underdamped system).\n",
    "\n",
    "### ***Solution***: First let's solve\n",
    "## $$ \\ddot{x}+0.1\\dot{x}+49x=\\sin(nt) $$\n",
    "### Before doing that, solve the complex replacement ODE\n",
    "## $$ \\ddot{z}+0.1\\dot{z}+49z=e^{int}$$\n",
    "### The characteristic polynomial is $P(r) = r^2+0.1r+49$, so ERF gives\n",
    "## $$ z = \\frac{1}{P(in)}e^{int} = \\frac{1}{(49-n^2)+(0.1n)i} e^{int} $$\n",
    "### with complex gain $\\displaystyle \\frac{1}{(49-n^2)+(0.1n)i} $ and gain\n",
    "## $$ g_n := \\frac{1}{|(49n^2)+(0.1n)i|} $$\n",
    "### Thus\n",
    "## $$ x = \\operatorname{Im}\\left( \\frac{1}{(49-n^2)+(0.1n)i}e^{int} \\right) $$\n",
    "### this is a sinusoid of amplitude $g_n$, so $x=g_n\\cos(nt-\\phi_n)$ for some $\\phi_n$.\n",
    "\n",
    "### The input signal\n",
    "## $$ \\frac{\\pi}{4}\\operatorname{Sq}(t) = \\sum_{n\\geq 1,\\,\\text{odd}} \\frac{\\sin(nt)}{n} $$\n",
    "### elicits the system response\n",
    "## $$ x(t) = \\sum_{n\\geq1,\\,\\text{odd}} g_n \\frac{\\cos(nt-\\phi_n)}{n} $$\n",
    "## $$ \\approx 0.021\\cos(t-\\phi_1)+0.008\\cos(3t-\\phi_3)+0.008\\cos(5t-\\phi_5) $$\n",
    "## $$ + 0.204\\cos(7t-\\phi_7)+0.003\\cos(9t-\\phi_9) +(\\text{even smaller terms}) $$\n",
    "### ***Conclusion***: The system response is almost indistinguishable from a pure sinusoid of angular frequency $7$."
   ]
  },
  {
   "cell_type": "markdown",
   "id": "6990c7b1-c10a-4fac-a3ba-054a6f19d060",
   "metadata": {},
   "source": [
    "## Boundary value problems (BVP)\n",
    "\n",
    "### Suppose we have the spring-mass system. However, instead of specifying the initial position and velocity, we want to specify different conditions at different points in time.\n",
    "\n",
    "### The mass is initially at the origin at time $t=0$, but now we are interested in finding a solution that ensures the mass passes through the point $x=1$ at some later time $t=t_1$. The governing differential equation is\n",
    "## $$ \\ddot{x}+4x = 0 $$\n",
    "### But now we are interested in finding a solution on a time interval $0\\leq t\\leq t_1$, where we impose a condition at each end of the interval:\n",
    "## $$ \\begin{array} {rcl} x(0) & = & 0 \\\\ x(t_1) & = & 1 \\end{array} $$\n",
    "### We call these conditions ***boundary conditions***.\n",
    "### This type of problem is known as a ***boundary value problem***, or ***BVP*** for short.\n",
    "\n",
    "### ***Solution***: \n",
    "### The general solution is the same as for the initial value problem:\n",
    "## $$ x(t) = A\\cos(2t) + B\\sin(2t) $$\n",
    "### We find $A$ and $B$ by substituting in $t=0$ and $t=t_1$, and solving the equations.\n",
    "## $$ \\begin{array} {rcl} x(0) = 0 & = & A\\cos(0)+B\\sin(0), \\quad \\longrightarrow A=0 \\\\ x(t_1)=1 & = & B\\sin(2t_1), \\quad \\longrightarrow B=\\frac{1}{\\sin(2t_1)} \\end{array} $$\n",
    "### The solution to this boundary value problem is\n",
    "## $$ x(t) = \\frac{\\sin(2t)}{\\sin(2t_1)} $$\n",
    "### Observe that this solution only makes sense for values of $t_1$ such that $\\sin(2t_1) \\neq 0$. For example, when $t_1=\\frac{\\pi}{2}$, this boundary value problem does not have a solution at all!\n",
    "\n",
    "### A new feature of boundary value problems is that they need not obey existence and uniqueness. There are three possibilities:\n",
    "### 1. The boundary value problem has a unique solution.\n",
    "### 2. The boundary value problem has no solution.\n",
    "### 3. The boundary value problem has infinitely many solutions.\n",
    "\n",
    "### In this example, you see a failure of existence for $t_1=n\\pi/2$, where $n=1,2,3,\\ldots$. However, the solution exists and is unique for values of  such that $\\sin(2t_1)\\neq 0$."
   ]
  },
  {
   "cell_type": "markdown",
   "id": "683570b3-f7d4-4beb-bf2f-c8c65fe7dc4d",
   "metadata": {},
   "source": [
    "## Homogeneous and inhomogeneous boundary conditions\n",
    "\n",
    "### ***Problem 4.1***\n",
    "### How many solutions are there to the initial value problem\n",
    "## $$ \\frac{d^2}{dx^2}v(x) = \\lambda v(x), \\quad v(0)=3,\\,\\frac{dv}{dx}(0)=5 $$\n",
    "### where $\\lambda$ is a parameter that can take on any real number value?\n",
    "\n",
    "### ***Answer***\n",
    "### There is 1 solution, by the existence and uniqueness theorem.\n",
    "### ***Recall the existence and uniqueness theorem for linear ODEs***. \n",
    "### Let $p_{n-1}(t),\\ldots,p_0(t),q(t)$ be continuous functions on an open interval $I$. Let $a$ be in the interval $I$ and let $b_0,\\ldots,b_{n-1}$ be given numbers. Then there exists a unique solution to the $n^{\\text{th}}$ order linear ODE\n",
    "## $$ y^{(n)}+p_{n-1}(t)y^{(n-1)}+\\cdots+p_1(t)\\dot{y}+p_0(t)y=q(t) $$\n",
    "### satisfying the $n$ initial conditions\n",
    "## $$ y(a)=b_0,\\quad \\dot{y}(a)=b_1,\\quad\\ldots,\\quad y^{(n-1)}(a) = b_{n-1} $$\n",
    "### ***Existence*** means that there is at least one solution; ***uniqueness*** means that there is only one solution.\n",
    "\n",
    "\n",
    "### This is an initial value problem (IVP) since the conditions are the value and first derivative ***at the same point***. In contrast, a ***boundary value problem*** has conditions at different points.\n",
    "\n",
    "### Consider the following family of examples, one for each $\\lambda$:\n",
    "### ***Problem 4.2***\n",
    "### Find all functions $v(x)$ on $[0,\\pi]$ satisfying $\\displaystyle \\frac{d^2}{dx^2} v(x) = \\lambda v(x) $ for a constant $\\lambda$ and satisfying the ***boundary conditions*** $v(0)=0$ and $v(\\pi)=0$.\n",
    "\n",
    "### Even though there are the right number of conditions, there is no longer any guarantee that they specify a unique solution — there is no existence and uniqueness theorem for boundary value problems. For most values of $\\lambda$, it will turn out that this problem has a unique solution (namely, $0$), but for special values of $\\lambda$, we will see that it has infinitely many solutions!\n",
    "\n",
    "### - The example in problem 4.2 is called a ***homogeneous linear boundary value problem***, and can have one solution or infinitely many solutions.\n",
    "### - An ***inhomogeneous linear boundary value problem*** could have zero solutions, one solution, or infinitely many solutions.\n",
    "### - The situation for ***nonlinear boundary value problems*** is even more complicated.\n",
    "\n",
    "### Our goal is to use boundary conditions for PDEs, but ODEs can have boundary conditions as well. In general, ODEs are much easier to solve than PDEs, so we now move our discussion to ODEs with boundary conditions to get a sense of how to solve these boundary value problems in a more comfortable setting."
   ]
  },
  {
   "cell_type": "markdown",
   "id": "5ea906df-0535-4738-b78c-88ba1e0c039d",
   "metadata": {},
   "source": []
  }
 ],
 "metadata": {
  "kernelspec": {
   "display_name": "Python 3",
   "language": "python",
   "name": "python3"
  },
  "language_info": {
   "codemirror_mode": {
    "name": "ipython",
    "version": 3
   },
   "file_extension": ".py",
   "mimetype": "text/x-python",
   "name": "python",
   "nbconvert_exporter": "python",
   "pygments_lexer": "ipython3",
   "version": "3.8.8"
  }
 },
 "nbformat": 4,
 "nbformat_minor": 5
}
