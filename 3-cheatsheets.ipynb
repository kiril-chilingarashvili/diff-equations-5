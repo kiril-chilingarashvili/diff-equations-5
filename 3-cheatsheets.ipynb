{
 "cells": [
  {
   "cell_type": "markdown",
   "id": "6a33b50f-16a9-4c6b-a386-24a521c3235f",
   "metadata": {},
   "source": [
    "## Unit 3: Partial Differential Equations"
   ]
  },
  {
   "cell_type": "markdown",
   "id": "c573bc46-3b66-49ed-ae3e-6e9c403df63d",
   "metadata": {},
   "source": [
    "## Introduction to the Heat Equation\n",
    "\n",
    "### In this section we meet our first partial differential equation (PDE)\n",
    "## $$ \\frac{\\partial \\theta}{\\partial t} = \\nu \\frac{\\partial^2\\theta}{\\partial x^2} $$\n",
    "### This is the equation satisfied by the temperature $\\theta(x,t)$ at position $x$ and time $t$ of a bar depicted as a segment,\n",
    "## $$ 0 \\leq x\\leq L,\\quad t\\geq 0 $$\n",
    "![img](img/barline-1.png)\n",
    "### The constant $\\nu$ is the heat diffusion coefficient, which depends on the material of the bar.\n",
    "\n",
    "### We will focus on one physical experiment. Suppose that the initial temperature is $1$, and then the ends of the bar are put in ice. We write this as\n",
    "## $$ \\begin{array} {rcl} {\\color{orange}{\\theta(x,0)=1,\\quad 0\\leq x \\leq L}} & & \\\\ {\\color{red}{\\theta(0,t)=0,\\quad t>0}} & & \\\\ {\\color{red}{\\theta(L, t), \\quad t>0}} \\end{array} $$\n",
    "### The value(s) of $\\theta=1$ at $t=0$ are called ***initial conditions***. The values at the ends are called ***endpoint or boundary conditions***. We think of the initial and endpoint values of $\\theta$ as the input, and the temperature $\\theta(x,t)$ for $t>0, 0<x<L$,  as the response.\n",
    "\n",
    "### ***Remark 2.1***\n",
    "### For simplicity, we assume that only the ends are exposed to the lower temperature. The rest of the bar is insulated, not subject to any external change in temperature. Fourier's techniques also yield answers even when there is heat input over time at other points along the bar.\n",
    "\n",
    "### As time passes, the temperature decreases as cooling from the ends spreads toward the middle. At the midpoint, $L/2$, one finds Newton's law of cooling,\n",
    "## $$ \\theta(L/2, t) \\approx c e^{0t/\\tau},\\quad t> \\tau $$\n",
    "### The so-called [characteristic time](https://en.wikipedia.org/wiki/Time_constant#Thermal_time_constant) $\\tau$ is inversely proportional to the conductivity of the material and is proportional to the material thermal capacitance. If we choose units so that $\\tau=1$ for copper, then according to Wikipedia,\n",
    "## $$ \\tau \\sim 7 \\quad (\\text{cast iron});\\quad \\tau \\sim 7000 (\\text{dry snow}) $$\n",
    "### The constant $c$, on the other hand, is ***universal***:\n",
    "## $$ c = \\frac{4}{\\pi} \\approx 1.3 $$\n",
    "### It depends only on the fact that the shape is a bar (modeled as a line segment).\n",
    "\n",
    "### Fourier figured out not only how to explain $c$ using differential equations, but the whole\n",
    "## $$ {\\color{red}{\\text{temperature profle:}}} \\quad \\theta(x,t) \\approx e^{-t/\\tau} h(x);\\quad h(x) = \\frac{4}{\\pi} \\sin\\left(\\frac{\\pi}{L}x\\right),\\quad t>\\tau $$\n",
    "### The shape of $h$ shows that the temperature drop is less in the middle than at the ends. It's natural that $h$ should be some kind of hump, symmetric around $L/2$."
   ]
  },
  {
   "cell_type": "markdown",
   "id": "d6eabc14-3bb9-4877-b980-cd88d1c6e56c",
   "metadata": {},
   "source": [
    "### ***Heat Equation mathlet***"
   ]
  },
  {
   "cell_type": "code",
   "execution_count": 1,
   "id": "a4c5f7b3-d2b2-4452-99de-e95ba0c2601c",
   "metadata": {
    "jupyter": {
     "source_hidden": true
    },
    "tags": []
   },
   "outputs": [
    {
     "data": {
      "text/html": [
       "<iframe width=\"900\" height=\"650\" src=\"https://1803mathlets.netlify.app/heatequation\" title=\"Mathlet\" frameborder=\"0\" allow=\"accelerometer; autoplay; clipboard-write; encrypted-media; gyroscope; picture-in-picture\" allowfullscreen></iframe> \n"
      ],
      "text/plain": [
       "<IPython.core.display.HTML object>"
      ]
     },
     "metadata": {},
     "output_type": "display_data"
    }
   ],
   "source": [
    "%%html\n",
    "<iframe width=\"900\" height=\"650\" src=\"https://1803mathlets.netlify.app/heatequation\" title=\"Mathlet\" frameborder=\"0\" allow=\"accelerometer; autoplay; clipboard-write; encrypted-media; gyroscope; picture-in-picture\" allowfullscreen></iframe> "
   ]
  },
  {
   "cell_type": "markdown",
   "id": "eb40673f-f631-491e-9f77-e8c9d66923fd",
   "metadata": {},
   "source": [
    "### See the heat profile emerge as $t$ increases. It's remarkable that a sine function emerges out of the input $\\theta(x, 0) = 1$. There is no evident mechanism creating a sine function, no spring, no circle, no periodic input. The sine function and the number $4/\\pi$ arise naturally out of differential equations alone."
   ]
  },
  {
   "cell_type": "markdown",
   "id": "13267918-a5fb-4c50-bceb-d2af85739534",
   "metadata": {},
   "source": []
  }
 ],
 "metadata": {
  "kernelspec": {
   "display_name": "Python 3",
   "language": "python",
   "name": "python3"
  },
  "language_info": {
   "codemirror_mode": {
    "name": "ipython",
    "version": 3
   },
   "file_extension": ".py",
   "mimetype": "text/x-python",
   "name": "python",
   "nbconvert_exporter": "python",
   "pygments_lexer": "ipython3",
   "version": "3.8.8"
  }
 },
 "nbformat": 4,
 "nbformat_minor": 5
}
