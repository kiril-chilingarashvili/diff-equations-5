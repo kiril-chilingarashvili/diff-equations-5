{
 "cells": [
  {
   "cell_type": "markdown",
   "id": "545b41ec-e832-41c9-b42f-85db8081c0d5",
   "metadata": {},
   "source": [
    "# Unit 2: Differential equations revisited"
   ]
  },
  {
   "cell_type": "markdown",
   "id": "17fef308-f637-4ac7-a8e2-9353c85c0cf6",
   "metadata": {},
   "source": [
    "## Review the exponential response formula\n",
    "\n",
    "### Recall that the exponential response formula gives us a quick method for finding the particular solution to any linear, constant coefficient, differential equations whose input can be expressed in terms of an exponential function.\n",
    "\n",
    "### ***The exponential response formula (ERF)***: \n",
    "### Let $P$ be a polynomial with real, constant coefficients, $\\displaystyle D=\\frac{d}{dt}$ a differential operator, and $r$ a (real or complex) number. If $P(r)\\neq 0$, then a particular solution to the inhomogeneous differential equation\n",
    "## $$ p(D)y = e^{rt} \\quad \\text{is given by} \\quad y_p = \\frac{e^{rt}}{P(r)} $$\n",
    "\n",
    "### ***Caveat***:\n",
    "### If $\\displaystyle P(r) = P'(r) = P''(r) = \\ldots = P^{(k-1)}(r) = 0$, but $P^{(k)}(r) \\neq 0$, then a particular solution to $P(D)y = e^{rt}$ is given by\n",
    "## $$ y_p = \\frac{t^k e^{rt}}{P^{(k)}}(r) $$\n",
    "\n",
    "### ***Sinusoidal input***:\n",
    "## $$ \\begin{array} {rcl} P(D)x = \\cos(\\omega t) & \\text{is the real part of} & P(D)z = e^{i\\omega t} \\\\ P(D)x = \\sin(\\omega t) & \\text{is the imaginary part of} & P(D)z = e^{i\\omega t} \\end{array} $$\n",
    "\n",
    "### Therefore\n",
    "### - a particular solution to $\\displaystyle P(D)x = \\cos(\\omega t)$ is given by $\\displaystyle x_p = \\operatorname{Re} \\left[ \\frac{e^{i\\omega t}}{P(i\\omega)} \\right]$;\n",
    "### - a particular solution to $\\displaystyle P(D)x = \\sin(\\omega t) $ is given by $\\displaystyle x_p = \\operatorname{Im}\\left[ \\frac{e^{i\\omega t}}{P(i\\omega)} \\right]$."
   ]
  },
  {
   "cell_type": "markdown",
   "id": "bfa71de0-c362-41ba-9e8f-c0fa88fdfa13",
   "metadata": {},
   "source": []
  }
 ],
 "metadata": {
  "kernelspec": {
   "display_name": "Python 3",
   "language": "python",
   "name": "python3"
  },
  "language_info": {
   "codemirror_mode": {
    "name": "ipython",
    "version": 3
   },
   "file_extension": ".py",
   "mimetype": "text/x-python",
   "name": "python",
   "nbconvert_exporter": "python",
   "pygments_lexer": "ipython3",
   "version": "3.8.8"
  }
 },
 "nbformat": 4,
 "nbformat_minor": 5
}
