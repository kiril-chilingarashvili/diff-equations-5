{
 "cells": [
  {
   "cell_type": "markdown",
   "id": "1cbfb5b1",
   "metadata": {},
   "source": [
    "# Lab 1: Discrete Fourier Transform and Signal Processing"
   ]
  },
  {
   "cell_type": "markdown",
   "id": "f5bc0a64",
   "metadata": {},
   "source": [
    "## The Discrete Fourier Transform\n",
    "\n",
    "### ***Review***\n",
    "### We can think of the Fourier Series as a method that takes “any\" periodic function, and replaces it with a discrete set of coefficients (infinitely many, but countably infinite).\n",
    "## $$ \\begin{array} {rcl} f(t) =  f(t+2L) & = & \\displaystyle \\sum_{k=-\\infty}^{\\infty} c_k e^{ik\\pi t/L}, \\\\ c_k & = & \\displaystyle \\frac{1}{2L} \\int_{-L}^{L} f(t) e^{-i k\\pi t/L} dt  \\end{array} $$\n",
    "### The Fourier Transform takes “any\" function, and replaces it with a continuous function.\n",
    "## $$ \\begin{array} {rcl} f(t) & = & \\displaystyle  \\int_{-\\infty}^{\\infty} \\widehat{f} (k) e^{ikt} dk \\\\ \\widehat{f}(k) & = & \\displaystyle \\frac{1}{2\\pi} \\int_{-\\infty}^{\\infty} f(t) e^{-ikt} dt \\end{array} $$"
   ]
  },
  {
   "cell_type": "markdown",
   "id": "7cb1b904",
   "metadata": {},
   "source": [
    "### ***A new problem***\n",
    "### Suppose we have a discrete set of $N$ data points $y_0$, $y_1$, $\\ldots$, $y_{N-1}$ sampled over equal time increments $\\Delta t$. Define\n",
    "## $$ t_n = \\underbrace{\\Delta t}_{\\text{fixed}}n $$\n",
    "### ***Figure 13***: data points sampled over equal time intervals \n",
    "![img](img/fig-1-1.png)\n",
    "### ***Goal***: Fit the data with a sum of sines and cosines (or really with complex exponentials using a complex Fourier series). That is, determine all of the “frequencies\" in this discrete set of data points.\n",
    "\n",
    "### ***First step: Make it periodic***. Add another point $t_N$ and define $y_N = y_0$.\n",
    "\n",
    "### ***Example 3.1***   \n",
    "### Let $f(t)$ and $g(t)$ be two functions that fit all of the data $y_0$, $y_1$, $\\ldots$, $y_{N-1}$ and satisfying\n",
    "### $$ \\begin{array} {rcl} f(t_N) & = & f(t_0) \\\\ g(t_N) & = & g(t_0) \\end{array} $$\n",
    "### ***Figure 14***: A function periodic function $f(t)$ in solid black line goes through all data points. Another periodic function $g(t)$ in dashed black goes through the same data.\n",
    "![img](img/fig-1-2.png)\n",
    "### We can extend $f(t)$ and $g(t)$ to functions that are periodic of period $\\Delta t N$.\n",
    "### This implies that we can write\n",
    "## $$ f(t) = \\sum_{k=-\\infty}^{\\infty} c_k e^{ \\displaystyle \\frac{ik\\pi t}{\\frac{t_N}{2}}} = \\sum_{k=-\\infty}^{\\infty} c_k e^{ \\displaystyle \\frac{i 2 \\pi k t }{ N \\Delta t}} $$\n",
    "### for some set of complex coefficients $c_k$.\n",
    "### And\n",
    "## $$ g(t) = \\sum_{k=-\\infty}^{\\infty} c_k' e^{ \\displaystyle \\frac{i 2 \\pi k t }{ N \\Delta t}} $$\n",
    "### for a set of coefficients $c_k' \\neq c_k$.\n",
    "\n",
    "### ***The problem***\n",
    "### Any way of filling in the space between the points leads to a new function, with a new set of coefficients. Thus there are infinitely many ways to fit the data with sines and cosines (or equivalently, with complex exponentials as we are actually doing here).\n",
    "\n",
    "### ***Modified goal***\n",
    "### Represent the data as simply as possible with a continuous function obtained as a sum of complex exponentials.\n",
    "### Observe that when we compare complex exponentials only at the the discrete times where we sampled our data,\n",
    "## $$ e^{ \\displaystyle \\frac{i 2 \\pi k {\\color{red}{t_n}} }{ N \\Delta t}} = e^{ \\displaystyle \\frac{i 2 \\pi k ({\\color{red}{n \\Delta t}}) }{ N \\Delta t}} = e^{ \\displaystyle \\frac{i 2 \\pi k n }{ N }} $$\n",
    "### we cannot distinguish the difference between the $k$th and the $k+N$th frequency\n",
    "## $$ e^{ \\displaystyle \\frac{i 2 \\pi ({\\color{red}{k+N}})t_n }{ N \\Delta t}} = e^{ \\displaystyle \\frac{i 2 \\pi k n }{ N }} \\underbrace{e^{\\displaystyle i 2 \\pi n}}_{1} = e^{ \\displaystyle \\frac{i 2 \\pi k n }{ N }} $$\n",
    "### Thus $\\displaystyle e^{ \\displaystyle \\frac{i 2 \\pi k t }{ N \\Delta t}} = \\displaystyle e^{ \\displaystyle \\frac{i 2 \\pi (k+N) t }{ N \\Delta t}}$ whenever $t=t_n=n\\Delta t$."
   ]
  },
  {
   "cell_type": "markdown",
   "id": "d1f1e7c7",
   "metadata": {},
   "source": [
    "### ***Example 3.2***\n",
    "### Consider the set of data that are all equal to $1$.\n",
    "\n",
    "### ***Figure 15***: Sampled data all equal to $1$. Both the constant function $1$ (dashed line) and $\\displaystyle \\cos(\\frac{2\\pi t}{\\Delta t})$ (solid line) pass through all data. Represented as the real parts of complex exponentials, the dashed line is $e^{i0}$, and the solid line is $e^{\\displaystyle \\frac{i2\\pi t}{\\Delta t}}$.\n",
    "![img](img/fig-1-3.png)\n",
    "\n",
    "### There are multiple frequencies that fit the data. Any frequencies higher than the sampling frequency cannot be detected in the data.\n",
    "### Because the $k$th and the $(k+N)$th modes are equal when evaluated on the discrete times $t_k$, we can represent the data uniquely by the discrete time Fourier series\n",
    "## $$ y(t) = \\sum_{k=0}^{N-1} c_k e^{\\displaystyle \\frac{i2\\pi k t}{N \\Delta t}} $$\n",
    "### for some complex coefficients $c_0, c_1,\\ldots,c_{N-1}$.\n",
    "### So, how do we actually compute these coefficients?\n",
    "### Define $\\omega = e^{\\displaystyle \\frac{i2\\pi}{N}}$, which is the $N$th root of unity, where we have $N$ data points.\n",
    "### Let's look at how our data points are represented in terms of $\\omega$.\n",
    "## $$ \\begin{array} {rcccl} y_0 & = & y(0) & = & c_0 + c_1 + c_2 + \\cdots + c_{N-1} \\\\ y_1 & = & y(\\Delta t) & = & c_0 + c_1\\omega^1 + c_2\\omega^2 + \\cdots + c_{N-1}\\omega^{N-1} \\\\ y_2 & = & y(2\\Delta t) & = & c_0 + c_1\\omega^2 + c_2\\omega^4 + \\cdots + c_{N-1}\\omega^{2(N-1)} \\\\ \\, & \\vdots & \\, & \\, & \\, \\\\ y_{N-1} & = & & & c_0 + c_1\\omega^{N-1}+c_2\\omega^{2(N-1)} + \\cdots + c_{N-1}\\omega^{(N-1)(N-1)} \\end{array} $$\n",
    "### Therefore we can write this data as a matrix equation\n",
    "## $$ \\begin{pmatrix} y_0 \\\\ \\vdots \\\\ y_{N-1} \\end{pmatrix} = \\bf{W_N}\\begin{pmatrix} c_0 \\\\ \\vdots \\\\ c_{N-1} \\end{pmatrix}  $$\n",
    "### where\n",
    "## $$ \\bf{W_N} = \\begin{pmatrix} 1 & 1 & 1 & \\cdots & 1 \\\\ 1 & \\omega & \\omega^2 & \\cdots & \\omega^{N-1} \\\\ 1 & \\omega^2 & \\omega^4 & \\cdots & \\omega^{2(N-1)} \\\\ \\vdots & \\vdots & \\vdots & \\ddots & \\vdots \\\\ 1 & \\omega^{N-1} & \\omega^{2(N-1)} & \\cdots & \\omega^{(N-1)(N-1)} \\end{pmatrix} $$\n",
    "### Note that we can describe this as the coefficient in the $i$th row and $j$th column is $\\displaystyle (\\bf{W_N})_{ij} = \\omega^{(i-1)(j-1)} $."
   ]
  },
  {
   "cell_type": "markdown",
   "id": "42d865e3",
   "metadata": {},
   "source": [
    "### ***Definition 3.3***\n",
    "### The inverse of this matrix is the $\\bf{N\\, \\text{point Fourier Matrix}}$.\n",
    "## $$  \\bf{W_N}^-1 = \\bf{F_N} = \\frac{1}{N}\\begin{pmatrix} 1 & 1 & 1 & \\cdots & 1 \\\\ 1 & \\overline{\\omega} & \\overline{\\omega}^2 & \\cdots & \\overline{\\omega}^{N-1} \\\\ 1 & \\overline{\\omega}^2 & \\overline{\\omega}^4 & \\cdots & \\overline{\\omega}^{2(N-1)} \\\\ \\vdots & \\vdots & \\vdots & \\ddots & \\vdots \\\\ 1 & \\overline{\\omega}^{N-1} & \\overline{\\omega}^{2(N-1)} & \\cdots & \\overline{\\omega}^{(N-1)(N-1)} \\end{pmatrix} $$\n"
   ]
  },
  {
   "cell_type": "markdown",
   "id": "a01420bd",
   "metadata": {},
   "source": [
    "### ***Definition 3.4***\n",
    "### We say that the vector\n",
    "## $$ \\begin{pmatrix} c_0 \\\\ \\vdots \\\\ c_{N-1} \\end{pmatrix} = \\bf{F_N} \\begin{pmatrix} y_0 \\\\ \\vdots \\\\ y_{N-1} \\end{pmatrix} $$\n",
    "### is the ***Finite Discrete Fourier Transform (FDFT)*** of $\\displaystyle \\begin{pmatrix} y_0 \\\\ \\vdots \\\\ y_{N-1} \\end{pmatrix}$.\n",
    "\n",
    "### (Note that the Discrete Fourier Transform is the periodic, continuous function obtained by imagining that we take these coefficients and sum the continuous functions, allowing it to be defined for all times $t$.)"
   ]
  },
  {
   "cell_type": "markdown",
   "id": "6828be3b",
   "metadata": {},
   "source": [
    "## Fast Fourier Transform\n",
    "\n",
    "### The ***Fast Fourier Transform (FFT)*** is an algorithm originated by Cooley and Tukey in 1965 for computing the FDFT very efficiently.\n",
    "### Note that if $\\bf{A}$ is an $N\\times N$ matrix, and $y$ is $N\\times 1$, to compute $\\bf{A} y$ requires $N^2$ scalar multiplications in general.\n",
    "### We reduce this by taking advantage of the symmetries in $\\bf{F_N}$.\n",
    "\n",
    "### Suppose that $N=2^j$ for $j$ a positive integer.\n",
    "### FFT is a divide and conquer algorithm, which exploits the fact that\n",
    "## $$ \\bf{F_{N}}y = \\begin{pmatrix} \\bf{I}_{N/2} & \\bf{D}_{N/2} \\\\ \\bf{I}_{N/2} & -\\bf{D}_{N/2} \\end{pmatrix} \\begin{pmatrix} \\bf{F}_{N/2} & 0 \\\\ 0 & \\bf{F}_{N/2} \\end{pmatrix} \\begin{pmatrix} y_1 \\\\ y_3 \\\\ \\vdots \\\\ y_{N/2-1} \\\\ y_2 \\\\ \\vdots \\\\ y_{N/2} \\end{pmatrix} $$\n",
    "### where $\\bf{I}_{N/2}$ is the $N/2\\times N/2$ identity matrix, and $\\bf{D}_{N/2}$ is the diagonal matrix\n",
    "## $$ \\bf{D}_{N/2} = \\begin{pmatrix} 1 & & & & \\\\ & \\overline{\\omega} & & &  \\\\ & & \\overline{\\omega}^2 & &  \\\\ & & & \\ddots &  \\\\ & & & & \\overline{\\omega}^{N/2}  \\end{pmatrix} $$\n",
    "### We continue to apply the same rule to the two $\\bf{F}_{N/2}$ matrices to get a formula for $\\bf{F}_N$ involving four $\\bf{F}_{N/4}$ matrix multiplications instead.\n",
    "\n",
    "### Continue.\n",
    "\n",
    "### ***Result*** We can compute $\\bf{F}_{N}y$ with only $\\displaystyle \\frac{1}{2} Nj = \\frac{1}{2}N \\log(N)$ multiplications!"
   ]
  },
  {
   "cell_type": "markdown",
   "id": "9f771e05",
   "metadata": {},
   "source": [
    "## Review of series RLC circuits\n",
    "\n",
    "### Here is an image of a series RLC circuit.\n",
    "![img](img/RLC.png)\n",
    "### A series RLC circuit, with power source on left, induction coil at top, resistor at right, and capacitor at bottom. Inside it is 3/4 of an arc with an arrow showing counterclockwise orientation of current.\n",
    "\n",
    "### The diagram shows symbols for four standard electronic components:\n",
    "### - $\\displaystyle {\\color{red}{R}}$ resistance of the resistor (ohms)\n",
    "### - $\\displaystyle {\\color{red}{L}}$ inductance of the inductor (henries)\n",
    "### - $\\displaystyle {\\color{red}{C}}$ capacitance of the capacitor (farads)\n",
    "### - $\\displaystyle {\\color{red}{V}}$ voltage source (volts)\n",
    "\n",
    "### The quantities $R, L, C$ are constants while the voltage source $V$ is a function of time.\n",
    "\n",
    "### We say that current ${\\color{red}{I(t)}}$ flows clockwise. Since it's a series circuit, the current through any of the wires is the same. The power source produces a voltage ***increase*** of ${\\color{red}{V(t)}}$ volts at time $t$. This voltage increase may vary with time, and may be negative as well as positive.\n",
    "\n",
    "### The voltage drop across each component is determined by its relationship to the current flowing through it.\n",
    "## $$ \\begin{array} {rcl} \\text{Voltage drop across the inductor} & & \\displaystyle V_L(t) = L\\dot{I}(t) \\\\ \\text{Voltage drop across the resistor} & & \\displaystyle V_R(t) = RI(t) \\\\ \\text{Voltage drop across the capacitor} & & \\displaystyle C\\dot{V_C}(t) = I(t) \\end{array} $$\n",
    "### In what follows, we will typically think of $V(t)$ as being determined by a sound signal. Depending on how we want to process the signal, we will consider the system response to be any one of the voltage drops across the various components in our circuit.\n",
    "\n",
    "### One of the interesting features of this system is that the differential equation describing the series circuit is the same for all three possible system responses, but the way the input signal shows up is different for all three.\n",
    "## $$ \\begin{array} {rcl} \\displaystyle L\\ddot{V}_R+R\\dot{V}_R+\\frac{1}{C}V_R & = & \\displaystyle R\\dot{V}  \\\\ \\displaystyle L\\ddot{V}_L + R\\dot{V}_L + \\frac{1}{C}V_L & = & \\displaystyle L\\ddot{V} \\\\ \\displaystyle L\\ddot{V}_C + R\\dot{V}_C+\\frac{1}{C}V_C & = & \\displaystyle \\frac{1}{C} \\end{array} $$\n",
    "\n",
    "### For now, imagine that our input signal $V(t)$ is a single sinusoid of angular frequency $\\omega$. (More general (sound) signals are a superposition of such functions, so this is an OK assumption.)\n",
    "\n",
    "### The system response is determined by the complex gain of the system. If $V(t) = \\cos(\\omega t)$, then\n",
    "## $$ \\begin{array} {rcl} V_R(t) & = & \\displaystyle \\operatorname{Re} \\left( \\frac{iR\\omega}{(\\frac{1}{C}-L\\omega^2)+iR\\omega}e^{i\\omega t} \\right) \\\\ V_L(t) & = & \\displaystyle \\operatorname{Re} \\left( \\frac{-L\\omega^2}{(\\frac{1}{C}-L\\omega^2)+iR\\omega}e^{i\\omega t} \\right) \\\\ V_C(t) & = & \\displaystyle \\operatorname{Re} \\left( \\frac{\\frac{1}{C}}{(\\frac{1}{C}-L\\omega^2)+iR\\omega}e^{i\\omega t} \\right) \\end{array} $$"
   ]
  },
  {
   "cell_type": "markdown",
   "id": "c39b8a5d-8b65-4864-bb67-3b8c5a104617",
   "metadata": {},
   "source": [
    "## High pass, low pass, and midpass filters\n",
    "\n",
    "### When we input a signal which is a superposition of periodic terms into an RLC circuit system, we think of what happens to the signal in creating the system response as filtering that signal in some way.\n",
    "\n",
    "### - A ***low pass filter*** is a system that takes in a signal, and damps out high frequency signals, allowing the low frequency signals to pass through.\n",
    "### - A ***high pass filter*** is a system that takes in a signal, and damps out low frequency signals, allowing the high frequency signals to pass through.\n",
    "### - A ***mid pass filter*** is a system that takes in a signal, and damps out both the low and high frequency signals, allowing mid-range frequency signals to pass through.\n",
    "\n",
    "### ***Quaestion***: In considering a series RLC circuit, identify which system response corresponds to which type of filtering process.\n",
    "\n",
    "### ***Solution***:\n",
    "### To understand how the system responds to signals of different frequencies, we can look at the magnitude of the complex gain for each system response.\n",
    "\n",
    "### - $\\displaystyle  \\left|G_R(\\omega)e^{i\\omega t}\\right| = \\left| \\frac{iR\\omega}{(\\frac{1}{C}-L\\omega^2)+iR\\omega} \\right|$. Observe that for $\\omega$ near zero, the complex gain has magnitude near zero as well. For $\\omega$ large, the complex gain is zero as well. You can check that there is a finite value $\\omega_r$ somewhere in between where this positive function (the absolute value of the complex gain) must be positive and have a local maximum. Thus if we consider a series RLC circuit where the response is the voltage drop across the resistor, this has the effect of damping out low and high frequency inputs, and letting midrange signals through. Thus it is a mid pass filter.\n",
    "\n",
    "### - $\\displaystyle \\left|G_L(\\omega)e^{i\\omega t}\\right| = \\left| \\frac{-L\\omega^2}{(\\frac{1}{C}-L\\omega^2)+iR\\omega} \\right|$. Observe that for $\\omega$ near zero, the magnitude of the system response is also near zero, but as $\\omega$ approaches infinity, the magnitude of the response is near $1$. Therefore if we consider a series RLC circuit whose response is the voltage drop across the inductor, this has the effect of damping out low frequencies and letting high frequencies pass through. It is a high pass filter.\n",
    "\n",
    "### - $\\displaystyle  \\left|G_C(\\omega)e^{i\\omega t}\\right| = \\left| \\frac{\\frac{1}{C}}{(\\frac{1}{C}-L\\omega^2)+iR\\omega} \\right|$. Observe that for $\\omega$ near zero, the magnitude of the system response is $1$, but as $\\omega$ approaches infinity, the magnitude of the response is near $0$. Therefore if we consider a series RLC circuit whose response is the voltage drop across the capacitor, this has the effect of damping out high frequencies and letting low frequency signals pass through. It is a low pass filter."
   ]
  },
  {
   "cell_type": "markdown",
   "id": "c9228ebe-9b91-49ce-9b9f-370590424fc0",
   "metadata": {},
   "source": []
  }
 ],
 "metadata": {
  "kernelspec": {
   "display_name": "Python 3",
   "language": "python",
   "name": "python3"
  },
  "language_info": {
   "codemirror_mode": {
    "name": "ipython",
    "version": 3
   },
   "file_extension": ".py",
   "mimetype": "text/x-python",
   "name": "python",
   "nbconvert_exporter": "python",
   "pygments_lexer": "ipython3",
   "version": "3.8.8"
  }
 },
 "nbformat": 4,
 "nbformat_minor": 5
}
