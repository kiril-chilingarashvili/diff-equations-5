{
 "cells": [
  {
   "cell_type": "markdown",
   "id": "b6ec0e78-5728-4f9e-9f0c-e30810a0d518",
   "metadata": {},
   "source": [
    "# Lab 1: Discrete Fourier Transform and Signal Processing"
   ]
  },
  {
   "cell_type": "markdown",
   "id": "7f2691c4-07ae-46a1-b562-b5fda0516b51",
   "metadata": {},
   "source": [
    "## The Discrete Fourier Transform\n",
    "\n",
    "### ***Review***\n",
    "### We can think of the Fourier Series as a method that takes “any\" periodic function, and replaces it with a discrete set of coefficients (infinitely many, but countably infinite).\n",
    "## $$ \\begin{array} {rcl} f(t) =  f(t+2L) & = & \\displaystyle \\sum_{k=-\\infty}^{\\infty} c_k e^{ik\\pi t/L}, \\\\ c_k & = & \\displaystyle \\frac{1}{2L} \\int_{-L}^{L} f(t) e^{-i k\\pi t/L} dt  \\end{array} $$\n",
    "### The Fourier Transform takes “any\" function, and replaces it with a continuous function.\n",
    "## $$ \\begin{array} {rcl} f(t) & = & \\displaystyle  \\int_{-\\infty}^{\\infty} \\widehat{f} (k) e^{ikt} dk \\\\ \\widehat{f}(k) & = & \\displaystyle \\frac{1}{2\\pi} \\int_{-\\infty}^{\\infty} f(t) e^{-ikt} dt \\end{array} $$"
   ]
  },
  {
   "cell_type": "markdown",
   "id": "37950249-f875-4fda-bdf7-65ff5f719acf",
   "metadata": {},
   "source": [
    "### ***A new problem***\n",
    "### Suppose we have a discrete set of $N$ data points $y_0$, $y_1$, $\\ldots$, $y_{N-1}$ sampled over equal time increments $\\Delta t$. Define\n",
    "## $$ t_n = \\underbrace{\\Delta t}_{\\text{fixed}}n $$\n",
    "### ***Figure 13***: data points sampled over equal time intervals \n",
    "![img](img/fig-1-1.png)\n",
    "### ***Goal***: Fit the data with a sum of sines and cosines (or really with complex exponentials using a complex Fourier series). That is, determine all of the “frequencies\" in this discrete set of data points.\n",
    "\n",
    "### ***First step: Make it periodic***. Add another point $t_N$ and define $y_N = y_0$.\n",
    "\n",
    "### ***Example 3.1***   \n",
    "### Let $f(t)$ and $g(t)$ be two functions that fit all of the data $y_0$, $y_1$, $\\ldots$, $y_{N-1}$ and satisfying\n",
    "### $$ \\begin{array} {rcl} f(t_N) & = & f(t_0) \\\\ g(t_N) & = & g(t_0) \\end{array} $$\n",
    "### ***Figure 14***: A function periodic function $f(t)$ in solid black line goes through all data points. Another periodic function $g(t)$ in dashed black goes through the same data.\n",
    "\n",
    "### We can extend $f(t)$ and $g(t)$ to functions that are periodic of period $\\Delta t N$.\n",
    "### This implies that we can write\n",
    "## $$ f(t) = \\sum_{k=-\\infty}^{\\infty} c_k e^{ \\displaystyle \\frac{ik\\pi t}{\\frac{t_N}{2}}} = \\sum_{k=-\\infty}^{\\infty} c_k e^{ \\displaystyle \\frac{i 2 \\pi k t }{ N \\Delta t}} $$\n",
    "### for some set of complex coefficients $c_k$.\n",
    "### And\n",
    "## $$ g(t) = \\sum_{k=-\\infty}^{\\infty} c_k' e^{ \\displaystyle \\frac{i 2 \\pi k t }{ N \\Delta t}} $$\n",
    "### for a set of coefficients $c_k' \\neq c_k$.\n",
    "\n",
    "### ***The problem***\n",
    "### Any way of filling in the space between the points leads to a new function, with a new set of coefficients. Thus there are infinitely many ways to fit the data with sines and cosines (or equivalently, with complex exponentials as we are actually doing here).\n",
    "\n",
    "### ***Modified goal***\n",
    "### Represent the data as simply as possible with a continuous function obtained as a sum of complex exponentials.\n",
    "### Observe that when we compare complex exponentials only at the the discrete times where we sampled our data,\n",
    "## $$ e^{ \\displaystyle \\frac{i 2 \\pi k {\\color{red}{t_n}} }{ N \\Delta t}} = e^{ \\displaystyle \\frac{i 2 \\pi k ({\\color{red}{n \\Delta t}}) }{ N \\Delta t}} = e^{ \\displaystyle \\frac{i 2 \\pi k n }{ N }} $$\n",
    "### we cannot distinguish the difference between the $k$th and the $k+N$th frequency\n",
    "## $$ e^{ \\displaystyle \\frac{i 2 \\pi ({\\color{red}{k+N}})t_n }{ N \\Delta t}} = e^{ \\displaystyle \\frac{i 2 \\pi k n }{ N }} \\underbrace{e^{i 2 \\pi n}}_{1} = e^{ \\displaystyle \\frac{i 2 \\pi k n }{ N }} $$\n",
    "### Thus $\\displaystyle e^{ \\displaystyle \\frac{i 2 \\pi k t }{ N \\Delta t}} = \\displaystyle e^{ \\displaystyle \\frac{i 2 \\pi (k+N) t }{ N \\Delta t}}$ whenever $t=t_n=n\\Delta t$."
   ]
  },
  {
   "cell_type": "markdown",
   "id": "a939dfb9-242f-43f8-b190-bf37087ab371",
   "metadata": {},
   "source": [
    "### ***Example 3.2***\n",
    "### Consider the set of data that are all equal to $1$.\n",
    "\n",
    "### ***Figure 15***: Sampled data all equal to $1$. Both the constant function $1$ (dashed line) and $\\displaystyle \\cos(\\frac{2\\pi t}{\\Delta t})$ (solid line) pass through all data. Represented as the real parts of complex exponentials, the dashed line is $e^{i0}$, and the solid line is $e^{\\displaystyle \\frac{i2\\pi t}{\\Delta t}}$.\n",
    "\n",
    "### There are multiple frequencies that fit the data. Any frequencies higher than the sampling frequency cannot be detected in the data.\n",
    "### Because the $k$th and the $(k+N)$th modes are equal when evaluated on the discrete times $t_k$, we can represent the data uniquely by the discrete time Fourier series\n",
    "## $$ y(t) = \\sum_{k=0}^{N-1} c_k e^{\\displaystyle \\frac{i2\\pi k t}{N \\Delta t}} $$\n",
    "### for some complex coefficients $c_0, c_1,\\ldots,c_{N-1}$.\n",
    "### So, how do we actually compute these coefficients?\n",
    "### Define $\\omega = e^{\\displaystyle \\frac{i2\\pi}{N}}$, which is the $N$th root of unity, where we have $N$ data points.\n",
    "### Let's look at how our data points are represented in terms of $\\omega$.\n",
    "## $$ \\begin{array} {rcccl} y_0 & = & y(0) & = & c_0 + c_1 + c_2 + \\cdots + c_{N-1} \\\\ y_1 & = & y(\\Delta t) & = & c_0 + c_1\\omega^1 + c_2\\omega^2 + \\cdots + c_{N-1}\\omega^{N-1} \\\\ y_2 & = & y(2\\Delta t) & = & c_0 + c_1\\omega^2 + c_2\\omega^4 + \\cdots + c_{N-1}\\omega^{2(N-1)} \\\\ \\, & \\vdots & \\, & \\, & \\, \\\\ y_{N-1} & = & & & c_0 + c_1\\omega^{N-1}+c_2\\omega^{2(N-1)} + \\cdots + c_{N-1}\\omega^{(N-1)(N-1)} \\end{array} $$\n",
    "### Therefore we can write this data as a matrix equation\n",
    "## $$ \\begin{pmatrix} y_0 \\\\ \\vdots \\\\ y_{N-1} \\end{pmatrix} = \\bf{W_N}\\begin{pmatrix} c_0 \\\\ \\vdots \\\\ c_{N-1} \\end{pmatrix}  $$\n",
    "### where\n",
    "## $$ \\bf{W_N} = \\begin{pmatrix} 1 & 1 & 1 & \\cdots & 1 \\\\ 1 & \\omega & \\omega^2 & \\cdots & \\omega^{N-1} \\\\ 1 & \\omega^2 & \\omega^4 & \\cdots & \\omega^{2(N-1)} \\\\ \\vdots & \\vdots & \\vdots & \\ddots & \\vdots \\\\ 1 & \\omega^{N-1} & \\omega^{2(N-1)} & \\cdots & \\omega^{(N-1)(N-1)} \\end{pmatrix} $$\n",
    "### Note that we can describe this as the coefficient in the $i$th row and $j$th column is $\\displaystyle (\\bf{W_N})_{ij} = \\omega^{(i-1)(j-1)} $."
   ]
  },
  {
   "cell_type": "markdown",
   "id": "02cf53eb-4ac1-4a34-b0dd-24fa13119b29",
   "metadata": {},
   "source": [
    "### ***Definition 3.3***\n",
    "### The inverse of this matrix is the $\\bf{N\\, \\text{point Fourier Matrix}}$.\n",
    "## $$  \\bf{W_N}^-1 = \\bf{F_N} = \\frac{1}{N}\\begin{pmatrix} 1 & 1 & 1 & \\cdots & 1 \\\\ 1 & \\overline{\\omega} & \\overline{\\omega}^2 & \\cdots & \\overline{\\omega}^{N-1} \\\\ 1 & \\overline{\\omega}^2 & \\overline{\\omega}^4 & \\cdots & \\overline{\\omega}^{2(N-1)} \\\\ \\vdots & \\vdots & \\vdots & \\ddots & \\vdots \\\\ 1 & \\overline{\\omega}^{N-1} & \\overline{\\omega}^{2(N-1)} & \\cdots & \\overline{\\omega}^{(N-1)(N-1)} \\end{pmatrix} $$\n"
   ]
  },
  {
   "cell_type": "markdown",
   "id": "0b693b9e-43d5-408f-8f8a-fbb9aad47a93",
   "metadata": {},
   "source": [
    "### ***Definition 3.4***\n",
    "### We say that the vector\n",
    "## $$ \\begin{pmatrix} c_0 \\\\ \\vdots \\\\ c_{N-1} \\end{pmatrix} = \\bf{F_N} \\begin{pmatrix} y_0 \\\\ \\vdots \\\\ y_{N-1} \\end{pmatrix} $$\n",
    "### is the ***Finite Discrete Fourier Transform (FDFT)*** of $\\displaystyle \\begin{pmatrix} y_0 \\\\ \\vdots \\\\ y_{N-1} \\end{pmatrix}$.\n",
    "\n",
    "### (Note that the Discrete Fourier Transform is the periodic, continuous function obtained by imagining that we take these coefficients and sum the continuous functions, allowing it to be defined for all times $t$.)"
   ]
  },
  {
   "cell_type": "markdown",
   "id": "3d8af248-10c6-491e-a83d-7b1e05938470",
   "metadata": {},
   "source": []
  }
 ],
 "metadata": {
  "kernelspec": {
   "display_name": "Python 3",
   "language": "python",
   "name": "python3"
  },
  "language_info": {
   "codemirror_mode": {
    "name": "ipython",
    "version": 3
   },
   "file_extension": ".py",
   "mimetype": "text/x-python",
   "name": "python",
   "nbconvert_exporter": "python",
   "pygments_lexer": "ipython3",
   "version": "3.8.8"
  }
 },
 "nbformat": 4,
 "nbformat_minor": 5
}
