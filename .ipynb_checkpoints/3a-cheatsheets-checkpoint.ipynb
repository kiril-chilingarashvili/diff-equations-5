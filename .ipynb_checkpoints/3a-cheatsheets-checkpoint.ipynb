{
 "cells": [
  {
   "cell_type": "markdown",
   "id": "6a33b50f-16a9-4c6b-a386-24a521c3235f",
   "metadata": {},
   "source": [
    "## Unit 3: Partial Differential Equations (part a)"
   ]
  },
  {
   "cell_type": "markdown",
   "id": "c573bc46-3b66-49ed-ae3e-6e9c403df63d",
   "metadata": {},
   "source": [
    "## Introduction to the Heat Equation\n",
    "\n",
    "### In this section we meet our first partial differential equation (PDE)\n",
    "## $$ \\frac{\\partial \\theta}{\\partial t} = \\nu \\frac{\\partial^2\\theta}{\\partial x^2} $$\n",
    "### This is the equation satisfied by the temperature $\\theta(x,t)$ at position $x$ and time $t$ of a bar depicted as a segment,\n",
    "## $$ 0 \\leq x\\leq L,\\quad t\\geq 0 $$\n",
    "![img](img/barline-1.png)\n",
    "### The constant $\\nu$ is the heat diffusion coefficient, which depends on the material of the bar.\n",
    "\n",
    "### We will focus on one physical experiment. Suppose that the initial temperature is $1$, and then the ends of the bar are put in ice. We write this as\n",
    "## $$ \\begin{array} {rcl} {\\color{orange}{\\theta(x,0)=1,\\quad 0\\leq x \\leq L}} & & \\\\ {\\color{red}{\\theta(0,t)=0,\\quad t>0}} & & \\\\ {\\color{red}{\\theta(L, t) = 0, \\quad t>0}} \\end{array} $$\n",
    "### The value(s) of $\\theta=1$ at $t=0$ are called ***initial conditions***. The values at the ends are called ***endpoint or boundary conditions***. We think of the initial and endpoint values of $\\theta$ as the input, and the temperature $\\theta(x,t)$ for $t>0, 0<x<L$,  as the response.\n",
    "\n",
    "### ***Remark 2.1***\n",
    "### For simplicity, we assume that only the ends are exposed to the lower temperature. The rest of the bar is insulated, not subject to any external change in temperature. Fourier's techniques also yield answers even when there is heat input over time at other points along the bar.\n",
    "\n",
    "### As time passes, the temperature decreases as cooling from the ends spreads toward the middle. At the midpoint, $L/2$, one finds Newton's law of cooling,\n",
    "## $$ \\theta(L/2, t) \\approx c e^{0t/\\tau},\\quad t> \\tau $$\n",
    "### The so-called [characteristic time](https://en.wikipedia.org/wiki/Time_constant#Thermal_time_constant) $\\tau$ is inversely proportional to the conductivity of the material and is proportional to the material thermal capacitance. If we choose units so that $\\tau=1$ for copper, then according to Wikipedia,\n",
    "## $$ \\tau \\sim 7 \\quad (\\text{cast iron});\\quad \\tau \\sim 7000 (\\text{dry snow}) $$\n",
    "### The constant $c$, on the other hand, is ***universal***:\n",
    "## $$ c = \\frac{4}{\\pi} \\approx 1.3 $$\n",
    "### It depends only on the fact that the shape is a bar (modeled as a line segment).\n",
    "\n",
    "### Fourier figured out not only how to explain $c$ using differential equations, but the whole\n",
    "## $$ {\\color{red}{\\text{temperature profle:}}} \\quad \\theta(x,t) \\approx e^{-t/\\tau} h(x);\\quad h(x) = \\frac{4}{\\pi} \\sin\\left(\\frac{\\pi}{L}x\\right),\\quad t>\\tau $$\n",
    "### The shape of $h$ shows that the temperature drop is less in the middle than at the ends. It's natural that $h$ should be some kind of hump, symmetric around $L/2$."
   ]
  },
  {
   "cell_type": "markdown",
   "id": "d6eabc14-3bb9-4877-b980-cd88d1c6e56c",
   "metadata": {},
   "source": [
    "### ***Heat Equation mathlet***"
   ]
  },
  {
   "cell_type": "code",
   "execution_count": 1,
   "id": "a4c5f7b3-d2b2-4452-99de-e95ba0c2601c",
   "metadata": {
    "tags": []
   },
   "outputs": [
    {
     "data": {
      "text/html": [
       "<iframe width=\"900\" height=\"650\" src=\"https://1803mathlets.netlify.app/heatequation\" title=\"Mathlet\" frameborder=\"0\" allow=\"accelerometer; autoplay; clipboard-write; encrypted-media; gyroscope; picture-in-picture\" allowfullscreen></iframe> \n"
      ],
      "text/plain": [
       "<IPython.core.display.HTML object>"
      ]
     },
     "metadata": {},
     "output_type": "display_data"
    }
   ],
   "source": [
    "%%html\n",
    "<iframe width=\"900\" height=\"650\" src=\"https://1803mathlets.netlify.app/heatequation\" title=\"Mathlet\" frameborder=\"0\" allow=\"accelerometer; autoplay; clipboard-write; encrypted-media; gyroscope; picture-in-picture\" allowfullscreen></iframe> "
   ]
  },
  {
   "cell_type": "markdown",
   "id": "eb40673f-f631-491e-9f77-e8c9d66923fd",
   "metadata": {},
   "source": [
    "### See the heat profile emerge as $t$ increases. It's remarkable that a sine function emerges out of the input $\\theta(x, 0) = 1$. There is no evident mechanism creating a sine function, no spring, no circle, no periodic input. The sine function and the number $4/\\pi$ arise naturally out of differential equations alone."
   ]
  },
  {
   "cell_type": "markdown",
   "id": "13267918-a5fb-4c50-bceb-d2af85739534",
   "metadata": {},
   "source": [
    "## Deriving the heat equation\n",
    "\n",
    "### To explain the Heat Equation, we start with a thought experiment. If we fix the temperature at the ends, $\\theta(0, t)=0$ and $\\theta(L,t)=T$, what will happen in the long term as $t\\to\\infty$? Assume for the moment that there is a steady state. That is, that $\\theta(x,t)$ converges to some temperature profile $\\Theta(x)$:\n",
    "## $$ \\theta(x,t) \\to \\Theta(x), \\text{as}\\, t\\to\\infty $$\n",
    "### The answer is that\n",
    "## $$ \\Theta(x) = \\frac{T}{L}x\\quad(\\text{linear}) $$\n",
    "### The temperature $\\theta(L/2,t)$ at the midpoint $L/2$ tends to the average of $0$ and $T$, namely $T/2$. At the point $L/4$, halfway between $0$ and $L/2$, the temperature tends to the average of the temperature at $0$ and $T/2$, and so forth.\n",
    "\n",
    "### At a very small scale, this same mechanism, the tendency of the temperature profile toward a straight line equilibrium means that if $\\theta$ is concave down then the temperature in the middle should decrease (so the profile becomes closer to being straight). If $\\theta$ is concave up, then the temperature in the middle should increase (so that, once again, the profile becomes closer to being straight). We write this as\n",
    "## $$ \\begin{array} {rcl} \\displaystyle \\frac{\\partial^2\\theta}{\\partial x^2} < 0 & \\implies & \\displaystyle \\frac{\\partial \\theta}{\\partial t} < 0 \\\\ \\displaystyle \\frac{\\partial^2\\theta}{\\partial x^2} > 0 & \\implies & \\displaystyle \\frac{\\partial \\theta}{\\partial t} > 0 \\end{array} $$\n",
    "### The simplest relationship that reflects this is a linear (proportional) relationship,\n",
    "## $$ \\frac{\\partial \\theta}{\\partial t} = \\nu \\frac{\\partial^2\\theta}{\\partial x^2},\\quad \\nu>0 $$\n",
    "### Fourier introduced the Heat Equation, solved it, and confirmed in many cases that it predicts correctly the behavior of temperature in experiments like the one with the metal bar.\n",
    "\n",
    "### Actually, Fourier crushed the problem, figuring out the whole formula for $\\theta(x,t)$ and not just when the initial value is $\\theta(x,0) =1$, but also when the initial temperature varies with $x$. His formula even predicts accurately what happens when $0<t<\\tau$.\n",
    "\n",
    "### See below a scale model derivation of the Heat Equation.\n",
    "\n",
    "### We are going to look at one way to derive a partial differential equation describing the evolution of temperature in an insulated, uniform bar of length $L$. We first looked at this problem in the course Linear Algebra and NxN Systems of Differential equations, when we were studying $n\\times n$ systems. Initially, we considered a rod of length $L$, with two thermometers placed evenly along its length, at the points $x_1=L/3$ and $x_2=2L/3$. The left end of the rod was held at the temperature $\\theta_L$ and the right end was held at $\\theta_R$. We used Newton's law of cooling, which said that the rate of change of temperature at $x_1$, $\\frac{d\\theta_1}{dt}$ is affected by the adjacent temperatures $\\theta_l$ and $\\theta_R$.The left contribution is proportional to the difference in temperature $\\theta_L-\\theta_1$, while the right contribution is proportional to $\\theta_2-\\theta_1$. This meant that we could write down a system of two equations for $\\theta_1$ and $\\theta_2$:\n",
    "## $$ \\begin{array} {rcccl} \\displaystyle \\frac{d\\theta_1}{dt} & = & k(\\theta_L-\\theta_1)+k(\\theta_2-\\theta_1) & = & k(\\theta_L-2\\theta_1+\\theta_2) \\\\ \\displaystyle \\frac{d\\theta_2}{dt} & = & k(\\theta_1-\\theta_2)+k(\\theta_r-\\theta_2) & = & k(\\theta_1 - 2\\theta_2+\\theta_r) \\end{array} $$\n",
    "### We were a little careless when we first looked at this system. Looking more carefully, we can see that if we want to place many thermometers on the bar and track the interaction of temperatures at many points, then we should adjust the constant $k$ for the distance between points. Let's suppose that we place $N$ thermometers at points $x_n=n\\Delta x,\\, n=1,\\ldots,N$ equally spaced along the bar, with $\\displaystyle  \\Delta x = \\frac{L}{N+1}$. If $\\theta_n(t)$ is the temperature at $x_n$, then the correct scaling for the influence of $\\theta_{n+1}$ and $\\theta_{n-1}$ on $\\theta_n$ is the following version of Newton's law:\n",
    "## $$ \\frac{d\\theta_n}{dt} = \\nu \\frac{(\\theta_{n-1}-\\theta_n)}{(\\Delta x)^2} - \\nu \\frac{(\\theta_n-\\theta_{n+1})}{(\\Delta x)^2} $$\n",
    "### In other words, $k=\\nu/(\\Delta x)^2$ is the appropriate scaling for $k$, with $\\nu$ a property of the material. (This inverse square law is what Fourier discovered by testing bars of metal of various lengths. He then applied the insight that calculus brings, namely that the same rule should work at infinitesimal scales.) We can now simplify the right hand side to obtain\n",
    "## $$ \\frac{d\\theta_n}{dt} = \\nu\\frac{(\\theta_{n+1}-2\\theta_n+\\theta_{n+1})}{(\\Delta x)^2} $$\n",
    "### We want to consider the limit $N\\to\\infty$ so that $\\Delta x\\to 0$. We are interested in deriving a partial differential equation for the temperature $\\theta(x,t)$ at any position $x$ along the bar. We therefore need to choose $n$ so that $x_n\\to x$ as $N\\to\\infty$. A possible choice is $n=\\left\\lfloor x/\\Delta x\\right\\rfloor=\\left\\lfloor x(N+1)/L \\right\\rfloor$. As $N\\to\\infty$, the right hand side of the equation for $\\displaystyle \\frac{d\\theta_n}{dt}$ becomes $\\displaystyle \\frac{\\partial^2 \\theta}{\\partial x^2}(x)$. In this limit, we have the following partial differential equation describing the continuous evolution of temperature in the bar:\n",
    "## $$ \\frac{\\partial \\theta}{dt} = \\nu \\frac{\\partial^2 \\theta}{\\partial x^2} $$\n",
    "### This is the heat equation.\n",
    "\n",
    "### The heat equation does not determine the solution completely by itself. We also need to specify what are known as ***boundary conditions*** and ***initial conditions***.\n",
    "\n",
    "### ***Boundary conditions*** are the temperatures at the two ends of the rod at each time. For example, we can impose the boundary conditions that temperature is fixed for all time on the left and right sides at given temperatures:\n",
    "## $$ \\theta(0, t) = \\theta_L, \\quad \\text{and}\\quad \\theta(L,t) = \\theta_R $$\n",
    "### ***The initial condition*** can be any smooth function $\\theta_0(x)$ so that\n",
    "## $$ \\theta(x, t=0) = \\theta_0(x) $$\n",
    "### As we shall see later, the boundary conditions and initial conditions together with the heat equation determine a ***unique*** temperature profile $\\theta(x,t)$ for all future times $t>0$."
   ]
  },
  {
   "cell_type": "markdown",
   "id": "35ca611e-4a6c-4666-a80d-7387027b52af",
   "metadata": {},
   "source": [
    "## Separation of variables: solving a PDE with homogeneous boundary conditions\n",
    "\n",
    "### Let's now try to solve the PDE. For simplicity, suppose that $L=\\pi, \\theta_1=1$ and $\\nu=1$. (The general case is similar. In fact, one could reduce to this special case by changes of variable.)\n",
    "\n",
    "### So now we are solving\n",
    "## $$ \\begin{array} {rcl} \\displaystyle \\frac{\\partial \\theta}{\\partial t} & = & \\displaystyle \\frac{\\partial^2 \\theta}{\\partial x^2}, \\quad 0< x < \\pi, t>0, \\\\ \\theta(0, t) & = & 0\\quad\\text{for}\\,t\\geq 0 \\\\ \\theta(\\pi, t) & = & 0\\quad\\text{for}\\,t\\geq 0 \\\\ \\theta(x, 0) & = & 1\\quad\\text{for}\\,x \\in(0,\\pi) \\\\  \\end{array} $$\n",
    "### ***Idea (separation of variables)***: \n",
    "### Forget about the initial condition $\\theta(x, 0) = 1$ for now, but look for nonzero solutions of the form\n",
    "## $$ \\theta(x, t) = v(x) w(t) $$\n",
    "### (Note that we are making a slight change in notation.) Substituting into the PDE gives\n",
    "## $$ \\begin{array} {rcl} \\displaystyle  v(x) \\dot{w}(t) & = & w(t) v''(x) \\\\ \\displaystyle \\frac{\\dot{w}(t)}{w(t)} & = & \\frac{v''(x)}{v(x)} \\end{array} $$\n",
    "### (at least where $v(x)$ and $w(t)$ are nonzero).\n",
    "### The only way for a function of $x$ to equal to a function of $t$ is if both functions are the same constant. That is, there is a constant $\\lambda$ such that\n",
    "## $$ \\frac{v''(x)}{v(x)} = \\lambda \\quad \\text{and} \\quad \\frac{\\dot{w}(t)}{w(t)} = \\lambda $$\n",
    "### or in other words,\n",
    "## $$ v''(x) = \\lambda v(x) \\quad \\text{and} \\quad \\dot{w}(t) = \\lambda w(t) $$\n",
    "### Substituting $\\theta(x, t) = v(x) w(t)$ into the first boundary condition $\\theta(0, t) = 0$ gives $v(0)w(t) = 0$ for all $t$, but $w(t)$ is not the zero function, so this translates into $v(0) = 0$. Similarly, the second boundary condition $\\theta(\\pi, t) = 0$ translates into $v(\\pi) = 0$.\n",
    "\n",
    "### We already solved $v''(x) = \\lambda v(x)$ subject to the boundary conditions $v(0) = 0$ and $v(\\pi) = 0$: nonzero solutions $v(x)$ exist only if $\\lambda = -n^2$ for some positive integer $n$, and in that case $v(x)$ is a scalar times $\\sin(n x)$.\n",
    "\n",
    "### For $\\lambda = -n^2$, what is a matching possibility for $w$? Since $\\dot{w} = -n^2w$, the function $w$ is a scalar times $e^{-n^2t}$.\n",
    "### This gives rise to one solution\n",
    "## $$ \\theta_n(x, t) = e^{-n^2t}\\sin(n x) $$\n",
    "### for each positive integer $n$, to the PDE with boundary conditions. Each such solution is called a ***normal mode***.\n",
    "### Because the boundary conditions are homogeneous, we can get other solutions by taking linear combinations that also satisfy the homogeneous boundary conditions:\n",
    "## $$ \\theta(x, t) = b_1 e^{-t} \\sin(x) + b_2 e^{-4 t} \\sin(2x)+b_3 e^{-9t}\\sin(3x)+\\cdots $$\n",
    "### This turns out to be the general solution to the PDE $\\displaystyle \\frac{\\partial \\theta}{\\partial t} =\\nu \\frac{\\partial^2 \\theta}{\\partial x^2}$ with the boundary conditions $\\theta(0, t) = 0$ and $\\theta(\\pi, t) = 0$."
   ]
  },
  {
   "cell_type": "markdown",
   "id": "92c41d88-772a-4d10-b028-42b2f2ea8e4d",
   "metadata": {},
   "source": [
    "## Initial conditions\n",
    "\n",
    "### ***Summary***:\n",
    "### - We modeled an insulated metal rod with exposed ends held at $0^\\circ C$.\n",
    "### - Using physics, we found that its temperature $\\theta(x, t)$ was governed by the PDE\n",
    "## $$ \\frac{\\partial \\theta}{\\partial t} =\\nu \\frac{\\partial^2 \\theta}{\\partial x^2},\\quad 0<x<\\pi  $$\n",
    "### - For simplicity, we specialized to the case $\\nu =1$, length $\\pi$, and initial temperature $\\theta(x, 0) = 1$.\n",
    "### - Trying $\\theta = v(x)w(t)$ led to separate ODEs for $v$ and $w$, leading to solutions $e^{-n^2t} \\sin(nx)$ for $n=1,2,\\ldots$ to the PDE with boundary conditions.\n",
    "### - We took linear combinations to get the general solution\n",
    "## $$ \\boxed{\\theta(x, t) = b_1 e^{-t}\\sin(x) + b_2 e^{-4t}\\sin(2x) + b_3 e^{-9t}\\sin(3x) + \\cdots} $$\n",
    "### to the PDE with homogeneous boundary conditions $\\theta(0, t) = 0$, and $\\theta(\\pi, t) = 0$.\n",
    "\n",
    "### ***Initial conditions***. As usual, we postponed imposing the initial condition, but now it is time to impose it.\n",
    "\n",
    "### ***Question 5.1***\n",
    "### Which choices of $b_1, b_2, \\ldots$ make the general solution above also satisfy the initial condition $\\theta(x, 0) = 1$ for $x\\in(0,\\pi)$?\n",
    "### Set $t=0$ in\n",
    "## $$ \\text{General solution:}\\,\\, \\theta(x, t) = b_1 e^{-t}\\sin(x) + b_2 e^{-4t}\\sin(2x) + b_3 e^{-9t}\\sin(3x) + \\cdots $$\n",
    "### (the general solution to the Heat Equation) and use the initial condition on the left to get\n",
    "## $$ 1 = b_1 \\sin(x) + b_2 \\sin(2x) + b_3 \\sin(3x) + \\cdots \\quad \\text{for}\\,x\\in(0,\\pi) $$\n",
    "### which must be solved for $b_1, b_2, \\ldots$.\n",
    "\n",
    "### Because the right hand side is odd and of base period $2\\pi$, to find such $b_i$, the left hand side must be extended to an odd period $2\\pi$ function, namely $\\operatorname{Sq}(x)$. So we need to solve\n",
    "## $$\\operatorname{Sq}(x) = b_1 \\sin(x) + b_2 \\sin(2x) + b_3\\sin(3x) + \\cdots \\quad \\text{for all}\\,x\\in \\mathbb{R}$$\n",
    "### We already know the answer:\n",
    "## $$ \\operatorname{Sq}(x) = \\frac{4}{\\pi}\\sin(x)+\\frac{4}{3\\pi}\\sin(3x)+\\frac{4}{5\\pi}\\sin(5x)+\\cdots $$\n",
    "### In other words $b_n = 0$ for even $n$, and $\\displaystyle b_n = \\frac{4}{n\\pi}$ for odd $n$. Substituting these $b_n$ back into the general solution to the heat equation gives\n",
    "## $$ \\theta(x, t) = \\frac{4}{\\pi}e^{-t}\\sin(x)+\\frac{4}{3\\pi}e^{-9t}\\sin(3x)+\\frac{4}{5\\pi}e^{-25t}\\sin(5x)+\\cdots $$\n",
    "\n",
    "### ***Question 5.2***\n",
    "### What does the temperature profile look like when $t$ is large?\n",
    "\n",
    "### ***Answer***: \n",
    "### All the Fourier components are decaying, so $\\theta(x,t) \\to 0$ as $t\\to +\\infty$ at every position. Thus the temperature profile approaches a horizontal segment, the graph of the zero function. But the Fourier components of higher frequency decay much faster than the first Fourier component, so when $t$ is large, the formula\n",
    "## $$ \\theta(x, t) \\approx \\frac{4}{\\pi} e^{-t} \\sin(x) $$\n",
    "### is a very good approximation. Eventually, the temperature profile is indistinguishable from a sinusoid of angular frequency $1$ whose amplitude is decaying to $0$. This can be observed in the mathlet."
   ]
  },
  {
   "cell_type": "code",
   "execution_count": 3,
   "id": "44312879-547e-4d69-b56f-3a815144258b",
   "metadata": {
    "tags": []
   },
   "outputs": [
    {
     "data": {
      "text/html": [
       "<iframe width=\"900\" height=\"650\" src=\"https://1803mathlets.netlify.app/heatequation\" title=\"YouTube video player\" frameborder=\"0\" allow=\"accelerometer; autoplay; clipboard-write; encrypted-media; gyroscope; picture-in-picture\" allowfullscreen></iframe>\n"
      ],
      "text/plain": [
       "<IPython.core.display.HTML object>"
      ]
     },
     "metadata": {},
     "output_type": "display_data"
    }
   ],
   "source": [
    "%%html\n",
    "<iframe width=\"900\" height=\"650\" src=\"https://1803mathlets.netlify.app/heatequation\" title=\"YouTube video player\" frameborder=\"0\" allow=\"accelerometer; autoplay; clipboard-write; encrypted-media; gyroscope; picture-in-picture\" allowfullscreen></iframe>"
   ]
  },
  {
   "cell_type": "markdown",
   "id": "224f48e5-e13b-4c92-b426-50def6530de6",
   "metadata": {},
   "source": [
    "## Linear algebra and Fourier analogy\n",
    "\n",
    "### Here we provide a table that outlines the analogy between linear algebra and Fourier techniques. On the left hand side, we present a general linear algebra example, on the right hand side, we illustrate the analogy using the specific example we worked through on the previous two pages. We wanted to introduce this analogy early, but you may want to come back and review this analogy once you have had more practice solving the heat equation.\n",
    "\n",
    "### $$ \\begin{array} {rcl} \\text{System of ODEs} & & \\text{The Heat Equation} \\\\ \\displaystyle \\text{vector}\\,v && \\displaystyle \\text{function}\\,v(x) \\\\ \\displaystyle \\text{matrix}\\,\\bf{A} && \\displaystyle \\text{linear operator} \\, \\frac{d^2}{dx^2} \\\\ \\displaystyle \\bf{A}\\bf{v} = \\bf{v} && \\displaystyle \\frac{d^2}{dx^2}v(x) = f(x) \\,\\text{on}\\, 0<x<\\pi; v(0)=v(\\pi)=0 \\\\ \\displaystyle \\text{eigenvalue-eigenvector problem} && \\displaystyle \\text{eigenvalue-eigenfunction problem} \\\\ \\displaystyle \\bf{A}\\bf{v} = \\lambda\\bf{v} && \\displaystyle \\frac{d^2}{dx^2}v=\\lambda v, v(0)=0,v(\\pi)=0 \\\\ \\displaystyle \\text{eigenvalues}\\,\\lambda_1,\\lambda_2,\\ldots,\\lambda_N && \\displaystyle \\text{eigenvalues}\\,\\lambda=-1,-4,-9,\\ldots,-n^2,\\ldots,\\text{for}\\,n=1,2,3,\\ldots \\\\ \\displaystyle \\text{eigenvectors}\\,\\bf{v_1},\\bf{v_2},\\ldots,\\bf{v_n} && \\displaystyle \\text{eigenfunctions}\\,v(x)=\\sin(nx)\\,\\text{for}\\,n=1,2,3,\\ldots \\\\ \\displaystyle \\text{linear system of ODEs} && \\text{Heat Equation with boundary conditions} \\\\ \\dot{\\bf{x}} = \\bf{A}\\bf{x} && \\displaystyle \\dot{\\theta} = \\frac{\\partial^2}{\\partial x^2}\\theta \\, \\text{on}\\,0<x<\\pi,\\,\\theta(0,t)=0,\\,\\theta(\\pi,t)=0 \\\\ \\displaystyle \\text{normal modes:}\\,e^{\\lambda_n t}\\bf{v_n}\\,\\text{for}\\,n=1,\\ldots,N && \\displaystyle \\text{normal modes:}\\,e^{\\lambda_n t}v(x)=e^{-n^2t}\\sin(nx)\\,\\text{for}\\,n=1,2,3,\\ldots \\\\ \\displaystyle \\text{General solution:},\\bf{u}(t)=\\sum c_n e^{\\lambda_n t}\\bf{v_n} && \\displaystyle \\text{General solution:}\\,\\theta(x,t)=\\sum b_n e^{-n^2 t} \\sin(nx) \\\\ \\displaystyle \\text{Solve}\\, \\bf{u}(0) = \\sum c_n \\bf{v_n}\\,\\text{to get the}\\, c_n && \\displaystyle \\text{Solve}\\,\\theta(x,0) = \\sum b_n \\sin(nx)\\,\\text{to get the}\\,b_n \\end{array} $$"
   ]
  },
  {
   "cell_type": "markdown",
   "id": "71a0497a-43c3-495a-8fb4-471ec4e52f84",
   "metadata": {},
   "source": [
    "## Solving the PDE with inhomogeneous boundary conditions\n",
    "\n",
    "### Boundary conditions that are not all zero are called ***inhomogeneous boundary conditions***.\n",
    "\n",
    "### ***Steps to solve a linear PDE with inhomogeneous boundary conditions***:\n",
    "\n",
    "### 1. Find a particular solution $\\theta_p$ to the PDE with the inhomogeneous boundary conditions (but without initial conditions). If the boundary conditions do not depend on $t$, try to find the steady-state solution $\\theta_p(x)$, i.e., the solution that does not depend on $t$.\n",
    "\n",
    "### 2. Then $\\theta := \\theta_p + \\theta_h$ is the general solution to the PDE with the inhomogeneous boundary conditions, where $\\theta_h$ is the general solution to the PDE with the homogeneous boundary conditions.\n",
    "\n",
    "### 3. If initial conditions $\\theta(x, 0)$ are given, use the initial condition $\\theta(x, 0)-\\theta_p$ to find the specific solution to the PDE with the inhomogeneous boundary conditions. (This often involves finding Fourier coefficients.)"
   ]
  },
  {
   "cell_type": "markdown",
   "id": "3db93abf-cd50-4175-8933-1e27975093dc",
   "metadata": {},
   "source": [
    "### ***Problem 7.1***\n",
    "### Consider the same insulated uniform metal rod as before ($\\nu = 1$, length $\\pi$, initial temperature $1^\\circ C$), but now suppose that the left end is held at $0^\\circ C$ while the right end is held at $20^\\circ C$. Now what is $\\theta(x, t)$?\n",
    "\n",
    "### ***Solution***:\n",
    "\n",
    "### 1. Forget the initial condition for now and look for a solution $\\theta_p=\\theta_p(x)$ that does not depend on $t$. Plugging this into the Heat Equation PDE gives $\\displaystyle 0 = \\frac{\\partial^2 \\theta}{\\partial x^2}$. The general solution to this simplified DE is $\\theta_p(x) = ax+b$. Imposing the boundary conditions $\\theta_p(0) = 0$ and $\\theta_p(\\pi) = 20$ leads to $b=0$ and $a=20$, so $\\displaystyle \\theta_p=\\frac{20}{\\pi}x$.\n",
    "\n",
    "### 2. Write $\\theta(x, t) = \\theta_p(x)+\\theta_h(x, t)$. Because our PDE is linear, and both $\\theta(x, t)$ and $\\theta_p(x)$ satisfy the heat equation, it follows that $\\theta_h(x,t)$ also satisfies the heat equation\n",
    "## $$ \\frac{\\partial}{\\partial t} \\theta_h(x, t) = \\frac{\\partial^2}{\\partial x^2} \\theta_h(x, t), \\quad 0<x<\\pi $$\n",
    "### Moreover, $\\theta_h(x, t)$ has homogeneous boundary conditions\n",
    "## $$ \\theta_h(0,t) = 0,\\quad \\text{and}\\quad \\theta_h(\\pi, t) = 0, \\quad \\text{for}\\, t>0 $$\n",
    "### 3. The PDE with the homogeneous boundary conditions is what we solved earlier; therefore the general solution for $\\theta_h$ is\n",
    "## $$ \\theta_h = b_1 e^{-t} \\sin(x) + b_2 e^{-4t} \\sin(2x) + b_3 e^{-9t}\\sin(3x) + \\cdots $$\n",
    "### 4. The general solution to the PDE with inhomogeneous boundary conditions is\n",
    "## $$ \\theta(x, t) = \\theta_p+\\theta_h = \\frac{20}{\\pi}x + b_1 e^{-t} \\sin(x) + b_2 e^{-4t} \\sin(2x) + b_3 e^{-9t}\\sin(3x) + \\cdots $$\n",
    "### 5. To find the $b_n$, set $t=0$ and use the initial condition on the left:\n",
    "## $$ \\begin{array} {rcl} 1 & = & \\displaystyle \\frac{20}{\\pi}x + b_1 \\sin(x) + b_2 \\sin(2x) + b_3 \\sin(3x) + \\cdots \\quad \\text{for all}\\, x\\in(0,\\pi) \\\\ \\displaystyle 1-\\frac{20}{\\pi}x & = & \\displaystyle b_1 \\sin(x) + b_2 \\sin(2x) + b_3 \\sin(3x) + \\cdots\\quad \\text{for all}\\,x\\in(0,\\pi) \\end{array} $$\n",
    "### Extend $\\displaystyle 1-\\frac{20}{\\pi}x$ on $(0,\\pi)$ to an odd periodic function $f(x)$ of period $2\\pi$. Then use the Fourier coefficient formulas to find the $b_n$ such that\n",
    "## $$ f(x) = b_1 \\sin(x) + b_2 \\sin(2x) + b_3 \\sin(3x) + \\cdots $$\n",
    "### alternatively, find the Fourier series for the odd periodic extensions of $1$ and $x$ separately, and take a linear combination to get $\\displaystyle 1-\\frac{20}{\\pi}x$. Once the $b_n$ are found, plug them back into the general solution for the heat equation with inhomogeneous boundary conditions."
   ]
  },
  {
   "cell_type": "markdown",
   "id": "3b6d2ac5-b0a7-4ef1-80a7-0a14b97598d1",
   "metadata": {},
   "source": [
    "## A new boundary condition: insulated ends\n",
    "\n",
    "### ***Problem 8.1***\n",
    "### Consider the same insulated uniform metal rod as before ($\\nu =1$, length $\\pi$) but now assume that the ends are insulated too (instead of exposed and held in ice), and that the initial temperature is given by $\\theta(x,0)=x$ for $x\\in(0,\\pi)$. Now what is $\\theta(x, t)$?\n",
    "\n",
    "### ***Solution***: \n",
    "### As usual, we temporarily forget the initial condition, and use it only at the end.\n",
    "\n",
    "### “Insulated ends\" means that there is zero heat flow through the ends, so the heat flux density function $\\displaystyle q \\propto -\\frac{\\partial \\theta}{\\partial x}$ is $0$ when $x=0$ or $x=\\pi$. In other words, “insulated ends\" means that the boundary conditions are\n",
    "## $$ {\\color{red}{\\text{insulated ends:}}}\\quad \\frac{\\partial \\theta}{\\partial x}(0, t) = 0, \\quad \\frac{\\partial \\theta}{\\partial x}(\\pi, t) = 0\\quad \\text{for all}\\,t>0 $$\n",
    "### instead of $\\theta(0,t)=0$ and $\\theta(\\pi, t)=0$. So we need to solve the Heat Equation\n",
    "## $$ \\frac{\\partial \\theta}{\\partial t} = \\frac{\\partial^2 \\theta}{\\partial x^2}  $$\n",
    "### with the boundary conditions for insulated ends. Separation of variables $\\theta(x, t) = a(x)b(t)$ leads to\n",
    "## $$ \\begin{array} {rcl} a''(x) & = & \\lambda a(x) \\quad \\text{with}\\,a'(0) = 0\\,\\text{and}\\,a'(\\pi)=0 \\\\ \\dot{b}(t) & = & \\lambda b(t) \\end{array} $$\n",
    "### for a constant $\\lambda$. Looking at the cases $\\lambda>0, \\lambda=0,\\lambda<0$ we find that\n",
    "## $$ \\lambda = -n^2\\quad\\text{and}\\quad a(x)=\\cos(nx)\\,(\\text{times a scalar}) $$\n",
    "### where $n$ is one of $0,1,2,\\ldots$. (This time $n$ starts at $0$ since $\\cos(0x)$ is a nonzero function.) For each such $a(x)$, the corresponding $b$ is $b(t)$ (times a scalar), and the normal mode is\n",
    "## $$ \\theta_n(x,t) = e^{-n^2t}\\cos(nx) $$\n",
    "### The case $n=0$ is the constant function $1$, so the general solution is\n",
    "## $$ \\theta(x, t) = \\frac{a_0}{2}+a_1 e^{-t} \\cos(x)+a_2 e^{-4t} \\cos(2x)+a_3 e^{-9t} \\cos(3x)+\\cdots $$\n",
    "### Finally, we bring back the initial condition: substitute $t=0$ and use the initial condition on the left to get\n",
    "## $$ \\theta(x, 0) = \\frac{a_0}{2}+a_1 \\cos(x)+a_2 \\cos(2x)+a_3 \\cos(3x)+\\cdots $$\n",
    "### for all $x\\in(0,\\pi)$."
   ]
  },
  {
   "cell_type": "markdown",
   "id": "1a317dcc-e5cb-46c1-a318-6b3d01da4762",
   "metadata": {},
   "source": [
    "### The solution that satisfies the initial condition is\n",
    "## $$ \\theta(x, t) = \\frac{\\pi}{2}-\\frac{4}{\\pi}\\left( e^{-t} \\cos(x) + e^{-9t} \\frac{\\cos(3x)}{9} + e^{-25t}\\frac{\\cos(5x)}{25} + \\cdots \\right) $$\n",
    "### This answer makes physical sense: when the entire bar is insulated, its temperature tends to a constant equal to the average of the initial temperature."
   ]
  },
  {
   "cell_type": "markdown",
   "id": "39a8d61f-7a3a-474e-98f1-f01244a72540",
   "metadata": {},
   "source": [
    "## Procedure summary\n",
    "\n",
    "### Steps for solving\n",
    "## $$ \\frac{\\partial \\theta}{\\partial t} = \\nu \\frac{\\partial^2 \\theta}{\\partial x^2}, \\quad 0<x<L, t>0  $$\n",
    "### with given boundary conditions and initial condition $\\theta(x,t) = f(x)$.\n",
    "### 1. Ignore initial condition and focus on boundary conditions.\n",
    "### 2. If any boundary condition is nonzero, find a steady state solution $\\Theta(x)$ which satisfies the given boundary conditions. Reduce problem to solving $\\theta_h(x, t) = \\theta(x, t)-\\Theta(x)$ which has homogeneous boundary conditions and initial condition $\\theta_h(x, 0) = f(x) - \\Theta(x)$.\n",
    "### 3. Look up standard form of eigenvalues, eigenfunctions, and normal modes for the homogeneous cases already computed.\n",
    "###    Else, use separation of variables. That is, try $\\theta_h(x, t) = v(x) w(t)$ (or $\\theta(x, t) = v(x) w(t)$ if original problem is homogeneous) to find family of normal modes $\\theta_n(x, t) = v_n(x) w_n(t)$.\n",
    "### 4. Take linear combinations to get the general solution\n",
    "## $$ \\boxed{\\theta_h(x,t) = b_1 w_1(t) v_1(x) + b_2 w_2(t) v_2(x) + b_3 w_3(t) v_3(x) + \\cdots } $$\n",
    "### Extend the initial condition $f(x) - \\Theta(x)$ to have the correct base period and even/odd properties in order to be able to solve for the Fourier coefficients\n",
    "## $$ f(x) - \\Theta(x) = b_1 v_1(x) + b_2 v_2(x) + b_3 v_3(x) + \\cdots $$"
   ]
  },
  {
   "cell_type": "markdown",
   "id": "7297594f-9a1f-40de-8a6a-b53c4b11669a",
   "metadata": {},
   "source": [
    "## The diffusion equation\n",
    "\n",
    "### The equation\n",
    "##  $$ \\frac{\\partial u}{\\partial t} = \\alpha \\frac{\\partial^2 u}{\\partial x^2}, \\quad 0<x<L,\\, t>0  $$\n",
    "### was first introduced as a partial differential equation that describes the flow of heat in a rod. This equation can be used to model much more than heat flow, however, and appears across many fields in science and engineering. In the most general sense, equations of the above form are known as ***Diffusion Equations***.\n",
    "\n",
    "### Diffusion Equations are used to model the “spreading out\" of chemical species, biological cells, fluid vortices, and even people in a crowd. This all comes from the fact that the assumptions made when deriving the equation for heat are actual very simple assumptions based on the conservation of some quantity and the desire of that quantity to spread out in a simple way. We'll go through a problem that models the spreading of some chemical molecule along the length of a pipe. Such a model would be useful when designing a chemical reactor, an industrial device for synthesizing important chemicals from other more available inputs.\n",
    "\n",
    "### ***The physics for modeling concentrations in mixtures***.\n",
    "![img](img/rod-2-1.png)\n",
    "\n",
    "### A pipe of length $L$ and cross sectional area $A$ with gas diffused in a liquid\n",
    "### Imagine a pipe filled with carbonated water. In this fluid, the carbon dioxide, or $CO_2$, has a concentration which varies along the length of the pipe. (Assume the length of the pipe is very large compared to its diameter; this lets us ignore the variations in concentration in the radial direction of the pipe.) The $CO_2$ will “diffuse\" through the pipe as it randomly moves about, tending to spread out from areas of high concentration to low concentration. We'll list some of the important quantities for the model below. Note the similarities to the model used for heat transfer in a rod:\n",
    "\n",
    "### $L$ length of the pipe\n",
    "### $A$ cross sectional area of the inside of the pipe\n",
    "### $u_0$ initial concentration of $CO_2$ in the pipe\n",
    "### $t$ time\n",
    "### $x$ position along the length of the pipe\n",
    "### $u$ the concentration of $CO_2$ at a given point in the pipe at a given time, in terms of mass\n",
    "### $q$ $CO_2$ mass flux at a given point in the pipe at a given time\n",
    "### Note that these variables are all directly analogous to those used in the heat formulation. In addition, we have 2 basic laws that guide us with the model.\n",
    "\n",
    "### 1. ***Conservation of Mass***.  The total amount of carbon dioxide in the pipe is fixed–none is leaving or being created. This means that if the mass is changing in any small segment of pipe, this must occur because $CO_2$ is flowing into or out of the region.\n",
    "### 2. ***Fick's Law of Mass Transfer***. The idea is that $CO_2$ moves from regions of high concentration to regions of low concentration.\n",
    "\n",
    "### The equations that describe these two laws combine together (see below) to form the diffusion equation for concentration transfer:\n",
    "## $$ \\frac{\\partial u}{\\partial t}  = \\alpha \\frac{\\partial^2 u}{\\partial x^2}  $$"
   ]
  },
  {
   "cell_type": "markdown",
   "id": "a70814aa-c771-493f-832e-728303a2d596",
   "metadata": {},
   "source": [
    "## Putting it together to get the diffusion equation\n",
    "### 1. ***Conservation of Mass***: The change in the total mass of chemical in any region equals the net mass flowing into or out of that region. (We assume that no $CO_2$ being created through reactions—like active yeast cultures which produce $CO_2$ in beer.)\n",
    "\n",
    "### Concentration $u$ is a density, and therefore the units are $\\text{mass}/\\text{volume}$, which is equivalent to $\\text{mass}/\\text{length}^3$. Consider a small slice of pipe with cross sectional area $A$ and length $\\Delta x$. The volume of this slice is $A\\Delta x$ and the mass of $CO_2$ inside is approximately $u(x) A \\Delta x$.\n",
    "\n",
    "### How does this mass change in a small amount of time $\\Delta t$? The only way for the mass to change in our small volume is by diffusing in through either of the two ends. The diffusion through either end is called flux. Flux, in this case $CO_2$ flux density, has units of $\\text{mass}/[\\text{time}\\cdot\\text{length}^2]$. We can write the change in the $CO_2$ mass in a small volume $A\\Delta x$ that occurs in a short time $\\Delta t$ as\n",
    "## $$ (u(x, t+\\Delta t) -u(x, t) ) A\\Delta x = A \\Delta t (q(x, t) - q(x+\\Delta x, t)) $$\n",
    "### The sign on the $q(x+\\Delta x, t)$ term is negative because $Aq(x+\\Delta x, t) \\Delta t$ is the $CO_2$ mass passing to the right, out of the small $\\Delta x$ length over a small time interval $\\Delta t$, while the flux on the left side is bringing new mass in. Note that Dividing by $\\Delta t$ and $\\Delta x$ we get\n",
    "## $$ A\\frac{u(x, t+\\Delta t)-u(x, t)}{\\Delta t} = A\\frac{q(x+\\Delta x, t) - q(x, t)}{\\Delta x} $$\n",
    "### We can take the limit as both $\\Delta x$ and $\\Delta t$ go to zero and divide through by $A$ to get a relationship between the change in concentration and the change in flux:\n",
    "## $$ \\frac{\\partial u}{\\partial t}  = -\\frac{\\partial q}{\\partial x} $$\n",
    "\n",
    "### 2. ***Fick's Law of Mass Transfer***: Analogous to Fourier's law of heat transfer, Fick's law of Mass transfer says that the flux between two points is proportional to the difference in concentration between the two points, with the appropriate sign so that the flow is from higher to lower concentration. We also note that it states that the flow between two points is inversely proportional to the distance between the points. This makes intuitive sense, as a small difference in concentration is more likely to generate a greater flux when the difference is over a short distance compared to a longer one. If we imagine two points along our pipe, $x$ and $x+\\Delta x$, then the $CO_2$ concentration at these points will be $u(x, t)$ and $u(x+\\Delta x, t)$, respectively. We can write Fick's Law of Mass Transfer as\n",
    "## $$ q \\propto -\\frac{\\partial u}{\\partial x} $$\n",
    "### We can make this an equality by adding the “Diffusion Constant\" $\\alpha > 0$.\n",
    "## $$ q = -\\alpha\\frac{\\partial u}{\\partial x} $$\n",
    "### Why is there a negative sign on the right of the expression above? We want $q$ to be positive whenever we have a flux to the right, which means that $u(x+\\Delta x, t)<u(x, t)$ (and we assume $\\Delta x > 0$).Thus we have a negative sign in the above relation.\n",
    "\n",
    "### With the above two laws each giving an equation in terms of $q$ and $u$, we can plug the second equation into the first to get a partial differential equation for just $u$ as\n",
    "## $$ \\frac{\\partial u}{\\partial t} = \\frac{\\partial}{\\partial x}\\left(\\alpha \\frac{\\partial u}{\\partial x}\\right) $$\n",
    "### In the simplest cases, $\\alpha$ will be a constant, which simplifies the above equation to the most familiar form of the Diffusion Equation:\n",
    "## $$ \\frac{\\partial u}{\\partial t} = \\alpha \\frac{\\partial^2 u}{\\partial x^2} $$\n",
    "### ***Note***: In some cases, $\\alpha$ may vary with $x$ (such as a non-homogenous material where it is easier for cells to move in one region vs. another) and this changes the form of the equation. We will just assume $\\alpha$ is a constant, and thus get the familiar Diffusion Equation."
   ]
  },
  {
   "cell_type": "markdown",
   "id": "3a2d62f2-064c-42e3-83d2-848cdd482c4f",
   "metadata": {},
   "source": [
    "## Physical boundary conditions\n",
    "\n",
    "### The Diffusion Equation governs the evolution of the $CO_2$ concentration profile inside of the length of the pipe. Our pipe is a finite length $L$. How do we handle what happens at either end of the pipe?\n",
    "\n",
    "### We need to specify the initial condition, i.e. the initial concentration distribution of $CO_2$,\n",
    "## $$ u_0 = u(x, 0) $$\n",
    "### and constraints that tell us what the boundary condtions are at all positive times.\n",
    "\n",
    "### ***Question 11.1***\n",
    "### What are the boundary conditions? What can we specify?\n",
    "\n",
    "### The most natural thing to prescribe in a ***physical*** sense would be the flow rate of $CO_2$ into/out of the ends of the pipe: $\\displaystyle -\\alpha\\frac{\\partial u}{\\partial x}(0, t)$ and $\\displaystyle -\\alpha\\frac{\\partial u}{\\partial x}(L, t)$. \n",
    "### Another, less physically intuitive example in this case, but which will be mathematically simpler, is the case where the $CO_2$ concentration is prescribed at each end of the pipe: $u(0, t) = c_1$ and $u(L,t) = c_2$. We can imagine this is due to the pipe connecting into a large reservoir of constant concentration; even as $CO_2$ flows into and out of the pipe, the reservoir is so large that its net concentration remains constant. This could be represented as a large tank in a brewery with small pipes attached, for example.\n",
    "\n",
    "### ***Side Note: Fluid vs. Cell Flow***\n",
    "### It is important to note that for the model created above, we are only considering the diffusion of $CO_2$ in a non-flowing liquid, and not the transport of $CO_2$ by the flow of the liquid itself. Such a process is called advection, and is modeled by a different set of partial differential equations. Also, one can combine both of these methods of transport, and this results in a partial differential equation called the Advection-Diffusion Equation. For now we will assume that the fluid is near-stationary so that all the transport is dominated by diffusion, so we will be fine using the Diffusion Equation for our models."
   ]
  },
  {
   "cell_type": "markdown",
   "id": "32cdea82-5e9c-4203-a1d5-c783a66226e9",
   "metadata": {},
   "source": [
    "## Boundary conditions\n",
    "\n",
    "### ***Flux boundary condition***\n",
    "\n",
    "### If we are prescribing the flow rate of $CO_2$ at the boundary, this is just the flux times the cross section\n",
    "## $$ qA = -A\\alpha\\frac{\\partial u}{\\partial x} $$\n",
    "### For a pipe of length $L$ with boundaries at $x=0, L$, after multiplying the constant factors all together, we get the conditions for $t>0$ as\n",
    "## $$ \\begin{array} {rcl} \\displaystyle \\frac{\\partial u}{\\partial x}(0, t) & = & a \\\\ \\displaystyle \\frac{\\partial u}{\\partial x}(L, t) & = & b \\end{array}  $$\n",
    "### where $a$ and $b$ are constants. Note we could have $a$ and $b$ vary with time, but the techniques for solving such partial differential equations are beyond the level of this class. In general, boundary conditions that set the derivative at a boundary are known as ***Neumann*** boundary conditions.\n",
    "\n",
    "### ***Concentration boundary condition***\n",
    "\n",
    "### The concentration boundary condition is similar to the above, with the difference being that we prescribe $u$ itself instead of its derivative. We get an analogous set of equations to before, for \n",
    "## $$ \\begin{array} {rcl} u(0, t) & = & a \\\\ u(L, t) & = & b  \\end{array}  $$\n",
    "### We note that in mathematical terms these are called ***Dirichlet*** boundary conditions.\n",
    "\n",
    "### ***Other boundary conditions***\n",
    "\n",
    "### Besides the two simple boundary conditions we described above, there are a few others that can be useful. One other boundary condition, not used as often but still important, is what is know as the ***Robin*** boundary condition. This condition has the form on the boundary\n",
    "## $$ u+a\\frac{\\partial u}{\\partial x} = b $$\n",
    "### where $a$ and $b$ are constants. Such a condition is usually used to represent some sort of convective transport occurring at the boundaries. Imagine a glass of beer or soda with the top open to the atmosphere, and a wind is blowing over it. $CO_2$ naturally diffuses into the air above the beverage, and the wind will tend to carry it away. The above boundary condition deals with this case."
   ]
  },
  {
   "cell_type": "markdown",
   "id": "200ba1cb-c1fe-41ad-8a0b-eb79a114bbd6",
   "metadata": {},
   "source": [
    "## Heat equation in MATLAB\n",
    "\n",
    "### Simple Numerical Method to Solve the Heat Equation\n",
    "### We wish to numerically solve the heat equation\n",
    "## $$ \\frac{\\partial \\theta}{\\partial t} = \\nu \\frac{\\partial^2 \\theta}{\\partial x^2}, \\quad 0<x<L,\\,t>0 $$\n",
    "### with the boundary conditions $\\theta(0, t) = f(t)$ and $\\theta(L, t) = g(t)$ and initial condition $\\theta(x, 0) = h(x)$.\n",
    "### We will use a ***forward in time, centered in space*** numerical scheme. Let $\\Theta_j^i$ denote the solution at time $i\\Delta t$ and position $j\\Delta x$.\n",
    "### Then a discrete forward time derivative is\n",
    "## $$ \\frac{\\partial \\theta}{\\partial t} = \\frac{\\theta_j^{i+1}-\\theta_j^i}{\\Delta t} + (\\text{higher order terms in}\\,\\Delta t) $$\n",
    "### and a discrete centered space derivative is\n",
    "## $$ \\frac{\\partial^2 \\theta}{\\partial x^2} = \\frac{\\theta_{j+1}^i-2\\theta_j^i+\\theta_{j-1}^i}{\\Delta x^2} + (\\text{higher order terms in}\\,(\\Delta x)^2) $$\n",
    "### Substituting the discrete time and space derivatives into the heat equation gives\n",
    "## $$ \\begin{array} {rcl} \\displaystyle \\frac{\\theta_j^{i+1}-\\theta_j^i}{\\Delta t} & = & \\displaystyle \\nu \\frac{\\theta_{j+1}^i-2\\theta_j^i+\\theta_{j-1}^i}{} + \\,\\text{higher order terms} \\\\ \\displaystyle \\theta_j^{i+1} & = & \\displaystyle \\theta_j^i + \\frac{\\nu \\Delta t}{(\\Delta x)^2} \\left( \\theta_{j+1}^i -2\\theta_j^i + \\theta_{j-1}^i \\right)+\\,\\text{higher order terms} \\end{array} $$\n",
    "### In matrix notation, this becomes\n",
    "## $$ \\begin{pmatrix} \\theta _{1}^{i+1}\\\\ \\theta _{2}^{i+1}\\\\ \\vdots \\\\ \\theta _{N-1}^{i+1}\\\\ \\theta _{N}^{i+1} \\end{pmatrix} = \\begin{pmatrix} 1-2r &  r\\\\ r &  1-2r &  r\\\\ &  \\ddots &  \\ddots &  \\ddots \\\\ & &  r &  1-2r &  r\\\\ & & &  r &  1-2r \\end{pmatrix}\\begin{pmatrix} \\theta _{1}^{i}\\\\ \\theta _{2}^{i}\\\\ \\vdots \\\\ \\theta _{N-1}^{i}\\\\ \\theta _{N}^{i} \\end{pmatrix}, \\qquad r = \\frac{\\nu \\Delta t}{\\Delta x^2} $$\n",
    "### where at each time step $i$ we impose the boundary conditions $\\theta_j^i = f(i\\Delta t)$ and $\\theta_N^i = g(i\\Delta t)$.\n",
    "\n",
    "### ***Condition for Numerical Stability***\n",
    "## $$ \\boxed{\\frac{\\nu\\Delta t}{\\Delta x^2} \\leq \\frac{1}{2}} $$\n",
    "### One way to find the condition for numerical stability is to find the eigenvalues of the matrix for this system and find conditions on $r$ so that all of the eigenvalues have magnitude less than $1$."
   ]
  },
  {
   "cell_type": "markdown",
   "id": "2b0907d1-6c30-4a83-a5fa-72e650e7a58b",
   "metadata": {},
   "source": []
  }
 ],
 "metadata": {
  "kernelspec": {
   "display_name": "Python 3",
   "language": "python",
   "name": "python3"
  },
  "language_info": {
   "codemirror_mode": {
    "name": "ipython",
    "version": 3
   },
   "file_extension": ".py",
   "mimetype": "text/x-python",
   "name": "python",
   "nbconvert_exporter": "python",
   "pygments_lexer": "ipython3",
   "version": "3.8.8"
  }
 },
 "nbformat": 4,
 "nbformat_minor": 5
}
