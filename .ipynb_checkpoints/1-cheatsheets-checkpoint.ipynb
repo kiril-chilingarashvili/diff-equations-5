{
 "cells": [
  {
   "cell_type": "markdown",
   "id": "f3b97673",
   "metadata": {},
   "source": [
    "# Unit 1: Fourier Series"
   ]
  },
  {
   "cell_type": "markdown",
   "id": "6dc43fb9",
   "metadata": {},
   "source": [
    "## Motivation\n",
    "\n",
    "### The exponential response formula (ERF) is a quick method for finding the response to any input that is expressible in terms of an exponential, sine, or cosine function. (We will review this method on the next page.) What happens when the input is not one of these?\n",
    "\n",
    "### If the input function $f(t)$ is periodic (of period $2\\pi$), we can express the function (where it is continuous) as an infinite sum of sines and cosines. This series representation is called a ***Fourier series***:\n",
    "## $$ f(t) = c_0 + \\sum_{n=1}^{\\infty} \\left[ a_n \\cos(nt) + b_n \\sin(nt) \\right], \\quad c_0,a_n,b_n\\, \\text{real constants} $$\n",
    "### (Note that here we are giving an expression that only works for $2\\pi$-periodic functions. There is a formula that works more generally, which we will learn later)\n",
    "### The benefit is, given an inhomogeneous linear differential equation $P(D)y=f(t)$, we can apply ERF to every term in the Fourier series.\n",
    "## $$ \\begin{array} {rcl} \\displaystyle  \\text{Input} & \\displaystyle  & \\displaystyle  \\text{Response} \\\\ {\\color{orange}{b_n}}\\sin(nt) & \\displaystyle  \\rightsquigarrow & \\displaystyle  {\\color{orange}{b_n}}y_n^{(s)}(t) \\\\ {\\color{red}{a_n}}\\cos(nt) & \\displaystyle  \\rightsquigarrow & \\displaystyle {\\color{red}{a_n}}y_n^{(c)}(t) \\\\ c_0 & \\displaystyle  \\rightsquigarrow & \\displaystyle  c_1 \\end{array} $$\n",
    "\n",
    "### Taking the sum of all of the input terms we get an approximation to the input $f(t)$. Therefore by superposition (since our differential equation is linear), the sum of the terms on the right hand side is a series representation of the system response.\n",
    "## $$ \\begin{array} {rcl} \\displaystyle  \\text{Input} & \\displaystyle  & \\displaystyle  \\text{Response} \\\\ f(t) & \\displaystyle  \\rightsquigarrow & \\displaystyle  c_1+\\sum_{n=1}^{\\infty} \\left[ {\\color{red}{a_n}} y_n^{(c)}(t) + {\\color{orange}{b_n}} y_n^{(s)}(t) \\right] \\end{array} $$\n"
   ]
  },
  {
   "cell_type": "markdown",
   "id": "b19dbdb8",
   "metadata": {},
   "source": [
    "## Program for solving inhomogeneous DEs with periodic input\n",
    "### 1. Find a Fourier series approximation to the input signal (***What we will learn today.***)\n",
    "### 2. The system response is the sum of the response to each $\\sin(nt)$ and $\\cos(nt)$ input. (***Will explore in 2 lectures from now.***)\n",
    "\n",
    "### ***Question***: Is it really useful to have a particular solution that is expressed as an infinite sum?\n",
    "### ***Answer***: It is useful when you can determine which terms in the sum are dominant.\n",
    "### But first things first: we must define the Fourier series, determine how to compute it. In order to define the Fourier series, we start by reviewing the components necessary to define them – periodic functions."
   ]
  },
  {
   "cell_type": "markdown",
   "id": "1072d9d9",
   "metadata": {},
   "source": [
    "## Review the exponential response formula\n",
    "### Recall that the exponential response formula gives us a quick method for finding the particular solution to any linear, constant coefficient, differential equations whose input can be expressed in terms of an exponential function.\n",
    "\n",
    "### ***The exponential response formula (ERF)***: Let $P$ be a polynomial with real, constant coefficients, $D=\\frac{d}{dt}$ a differential operator, and $r$ a (real or complex) number. If $P(r)\\neq0$, then a particular solution to the inhomogeneous differential equation\n",
    "## $$ P(D)y = e^{rt} $$\n",
    "### is given by\n",
    "## $$ y_p = \\frac{e^{rt}}{P(r)} $$\n",
    "### ***Caveat***\n",
    "### Caveat: If $P(r) = P'(r) = P''(r) = \\cdots = P^{(k-1)}(r) = 0$, but $P^{(k)} \\neq 0$, then a particular solution to $P(D)y = e^{rt}$ is given by\n",
    "## $$ y_p = \\frac{t^k e^{rt}}{P^{(k)}(r)} $$\n",
    "\n",
    "## Sinusoidal input:\n",
    "## $$ \\begin{array} {rcl} \\displaystyle  P(D)x = \\cos(\\omega t) & \\displaystyle  \\text{is the real part of} & \\displaystyle  P(D)z=e^{i\\omega t} \\\\ P(D)x = \\sin(\\omega t) & \\displaystyle  \\text{is the imaginary part of} & \\displaystyle  P(D)z=e^{i\\omega t} \\end{array} $$\n",
    "### Therefore\n",
    "### - a particular solution to $P(D)x = \\cos(\\omega t)$ is given by $x_p = \\operatorname{Re}\\left[ \\frac{e^{i\\omega t}}{P(i\\omega)} \\right]$;\n",
    "### - a particular solution to $P(D)x = \\sin(\\omega t)$ is given by $x_p = \\operatorname{Im}\\left[ \\frac{e^{i\\omega t}}{P(i\\omega)} \\right]$."
   ]
  },
  {
   "cell_type": "markdown",
   "id": "9db43273",
   "metadata": {},
   "source": [
    "## Periodic functions\n",
    "### Because\n",
    "## $$ \\sin(t+2\\pi) = \\sin(t), \\quad \\cos(t+2\\pi) = \\cos(t) $$\n",
    "### hold for all $t$, the functions $\\sin t$ and $\\cos t$ are called periodic with period $2\\pi$. \n",
    "### In general a function $f(t)$ defined for all real $t$ is ***periodic of period*** $P$ if $f(t+P) = f(t)$ for all $t$.\n",
    "### There are many such functions beyond the sinusoidal functions. To construct one, divide the real line into intervals of length $P$, start with any function defined on one such interval $[t_0, t_0+P)$, and then copy its values in the other intervals. The entire graph consists of horizontally shifted copies of the width  graph.\n",
    "![img](img/periodic.png)\n",
    "### Figure 1: A periodic function of period $P$ created by copying and shifting the graph over the interval $[t_0, t_0+P)$.\n",
    "### For now we focus on functions with period $P=2\\pi$, which are defined over the interval $[-\\pi, \\pi)$.\n",
    "\n",
    "### ***Question 4.1***\n",
    "### Is $\\sin(3t)$ periodic of period $2\\pi$?\n",
    "\n",
    "### ***Answer***\n",
    "### The shortest period is $2\\pi/3$, but $\\sin(3t)$ is also periodic with period any positive integer multiple of $2\\pi/3$, including $3(2\\pi/3) = 2\\pi$:\n",
    "## $$ \\sin(3(t+2\\pi)) = \\sin(3t+6\\pi) = \\sin(3t) $$\n",
    "### So the answer is yes."
   ]
  },
  {
   "cell_type": "markdown",
   "id": "f34f186f",
   "metadata": {},
   "source": [
    "## Base period\n",
    "\n",
    "### The ***base period*** is the smallest common period of a collection of functions."
   ]
  },
  {
   "cell_type": "markdown",
   "id": "5ad6c9eb",
   "metadata": {},
   "source": [
    "## Fourier series\n",
    "\n",
    "### A linear combination like $2 \\sin(3t)-4 \\sin(7 t)$ is another periodic function of period $2\\pi$.\n",
    "![img](img/furier-1.png)\n",
    "\n",
    "### ***Defnition 5.1***\n",
    "### A ***Fourier series*** is a linear combination of the infinitely many functions $\\cos(nt)$ and $\\sin(nt)$ as $n$ ranges over integers:\n",
    "## $$ \\begin{array} {rcl} \\displaystyle  f(t) = \\frac{a_0}{2} & \\displaystyle + & \\displaystyle  a_1\\cos(t) + a_2\\cos(2t) + a_3\\cos(3t) + \\cdots \\\\ \\, & \\displaystyle  + & \\displaystyle  b_1\\sin(t)+b_2\\sin(2t)+b_3\\sin(3t)+\\cdots \\end{array} $$\n",
    "### (Terms like $-2t$ are redundant since $\\cos(-2t) = \\cos(2t)$. Also $\\sin(2t) = 0$ produces nothing new. But $\\cos(0t) = 1$ is included. We'll explain later why we write the first coefficient as $a_0$ divided by $2$ instead of $a_0$.)\n",
    "### Written using sigma-notation:\n",
    "## $$ f(t) = \\frac{a_0}{2}+\\sum_{n=1}^{\\infty} a_n \\cos(nt)+\\sum_{n=1}^{\\infty} b_n \\sin(nt) $$"
   ]
  },
  {
   "cell_type": "markdown",
   "id": "562bdd4d",
   "metadata": {},
   "source": [
    "### ***Example 5.2***\n",
    "### Recall that, for example, $\\displaystyle  g(t) = \\sum_{n=1}^{\\infty} b_n \\sin(nt)$ means the sum of the series whose $n^{\\text{th}}$ term is obtained by plugging in the positive integer $n$ into the expression $b_n \\sin(nt)$, so\n",
    "## $$ g(t) = \\sum_{n\\geq 1} b_n \\sin(nt) = b_1 \\sin(t) + b_2\\sin(2t)+b_3\\sin(3t) + \\cdots $$\n",
    "### In particular, at $t = 0$,\n",
    "## $$ g(t) = \\sum_{n\\geq 1}b_n\\sin(n0) = \\sum_{n\\geq 1} b_n\\cdot 0 = 0 $$"
   ]
  },
  {
   "cell_type": "markdown",
   "id": "437de828",
   "metadata": {},
   "source": [
    "### ***Example 5.3***\n",
    "### If $\\displaystyle  f(t) = \\frac{a_0}{2} + \\sum_{n=1}^{\\infty} a_n \\cos(nt)$, then\n",
    "## $$ \\begin{array} {rcl} \\displaystyle  f(\\pi) & \\displaystyle = & \\displaystyle  \\frac{a_0}{2} + \\sum_{n=1}^{\\infty} a_n \\cos(n\\pi) \\\\ \\, & \\displaystyle = & \\displaystyle  \\frac{a_0}{2} + \\sum_{n=1}^{\\infty} a_n(-1)^n \\\\ \\, & \\displaystyle = & \\displaystyle  \\frac{a_0}{2}-a_1+a_2-a_3+\\cdots \\end{array} $$\n",
    "### Any Fourier series as above is periodic of period $2\\pi$. (Later we'll extend to the definition of Fourier series to include functions of other periods.)\n",
    "### - The numbers $a_n$ and $b_n$ are called the ***Fourier coefficients*** of $f$.\n",
    "### - Each summand ($a_0/2$, $a_n \\cos(nt)$, or $b_n\\sin(nt)$) is called a ***Fourier component*** of $f$."
   ]
  },
  {
   "cell_type": "markdown",
   "id": "d17a1c44",
   "metadata": {},
   "source": [
    "### ***Example 5.4***\n",
    "### Define\n",
    "## $$ \\operatorname{Sq}(t) \\colon=\\left\\{ \\begin{array} {rcl} \\displaystyle  1, & \\displaystyle  \\text{if} & \\displaystyle 0<t<\\pi,\\\\-1, & \\displaystyle  \\text{if} & \\displaystyle -\\pi<t<0. \\end{array} \\right. $$\n",
    "### and extend it to a periodic function of period $2\\pi$, called a ***square wave***.\n",
    "\n",
    "### The function $\\operatorname{Sq}(t)$ has jump discontinuities, for example at $t=0$. The graph is usually drawn with vertical segments at the jumps (even though this violates the vertical line test).\n",
    "![img](img/periodic-2.png)\n",
    "### Figure 3: The $2\\pi$-periodic square wave.\n",
    "\n",
    "### It turns out that\n",
    "## $$ \\operatorname{Sq}(t) = \\frac{4}{\\pi}\\left( \\sin(t) + \\frac{\\sin(3t)}{3} + \\frac{\\sin(5t)}{5} + \\cdots \\right) $$\n",
    "\n",
    "### We'll explain later today where this comes from."
   ]
  },
  {
   "cell_type": "markdown",
   "id": "8e398cb1",
   "metadata": {},
   "source": [
    "## Fourier's Theorem. \n",
    "### “Every\" periodic function $f$ of period $2\\pi$ “is\" a Fourier series, and the Fourier coefficients are uniquely determined by $f$.\n",
    "\n",
    "### (The word “Every\" has to be taken with a grain of salt: The function has to be “reasonable\". Piecewise differentiable functions with jump discontinuities are reasonable, as are virtually all other functions that arise in physical applications. The word “is\" has to be taken with a grain of salt: If $f$ has a jump discontinuity at $\\tau$, then the Fourier series might disagree with $f$ there; the value of the Fourier series at $\\tau$ is always the average of the left limit $f(\\tau^-)$ and the right limit $f(\\tau^+)$, regardless of the actual value of $f(\\tau)$.)\n",
    "### In other words, the functions\n",
    "## $$ 1, \\cos(t), \\cos(2t), \\cos(3t), \\ldots, \\sin(t), \\sin(2t), \\sin(3t),\\ldots $$\n",
    "### form a basis for the vector space of “all\" periodic functions of period $2\\pi$.\n",
    "\n",
    "### ***Question 5.5***   \n",
    "### Given $f$, how do you find the Fourier coefficients $a_n$ and $b_n$?\n",
    "### In other words, how do you find the coordinates of $f$ with respect to the basis of cosines and sines?"
   ]
  },
  {
   "cell_type": "markdown",
   "id": "68e976ae",
   "metadata": {},
   "source": [
    "## Connecting to linear algebra - Orthogonality\n",
    "\n",
    "### If $\\bf{v}$ and $\\bf{w}$ are vectors in $\\mathbb{R}^n$, then\n",
    "## $$ \\bf{v} \\cdot \\bf{w} \\colon= \\sum_{k=1}^{n}v_k w_k $$\n",
    "### where $v_k$ and $w_k$ are the $k$th components of the vectors $\\bf{v}$ and $\\bf{w}$ respectively. Can one define the dot product of two functions? Sort of.\n",
    "### If we think of vectors $\\bf{v}$ and $\\bf{w}$ as functions from the finite sets\n",
    "## $$ \\begin{array} {rcl} \\displaystyle  \\bf{v}: \\left\\{ -\\pi+2\\pi/n, -\\pi+4\\pi/n,\\ldots,-\\pi+2n\\pi/n=\\pi \\right\\} & \\displaystyle  \\to & \\displaystyle  \\mathbb{R} \\\\ \\bf{w}: \\left\\{ -\\pi+2\\pi/n, -\\pi+4\\pi/n,\\ldots,-\\pi+2n\\pi/n=\\pi \\right\\} & \\displaystyle  \\to & \\displaystyle  \\mathbb{R} \\end{array} $$\n",
    "### then the inner product of these functions can be written as $\\langle \\bf{v}, \\bf{w} \\rangle$, where\n",
    "## $$ \\langle \\bf{v}, \\bf{w} \\rangle = \\sum_{k=1}^{n} \\bf{v} (-\\pi+2k\\pi/n)\\bf{w}(-\\pi+2k\\pi/n) $$\n",
    "### When we take the continuous limit as $n\\to \\infty$, $\\bf{v}$ and $\\bf{w}$ become continuous, real valued functions defined on $(-\\pi, \\pi]$, and then the infinite sum becomes an integral."
   ]
  },
  {
   "cell_type": "markdown",
   "id": "a5751f21",
   "metadata": {},
   "source": [
    "### ***Definition 6.1***\n",
    "### If $u(t)$ and $v(t)$ are real-valued periodic functions with period $2\\pi$, then we will define their ***inner product*** as\n",
    "## $$ \\langle u(t), v(t)\\rangle \\colon=\\int_{-\\pi}^{\\pi} u(t)v(t) dt $$\n",
    "### This is the continuous analogue of the dot product for vectors. (Sometimes the inner product is defined on different intervals for functions with different periods. In other definitions, for convenience there is a constant multiplier, which is a normalizing factor.)\n",
    "\n",
    "### ***Definition 6.2***   \n",
    "### We say that two $2\\pi$-periodic functions $u(t)$ and $v(t)$ are ***orthogonal*** if\n",
    "## $$ \\int_{-\\pi}^{\\pi} u(t) v(t) dt = 0 $$\n",
    "\n",
    "### ***Example 6.3***\n",
    "### For example,\n",
    "## $$ \\langle 1, \\cos(t) \\rangle = \\int_{-\\pi}^{\\pi} \\cos(t)dt = 0 $$\n",
    "### Thus the functions $1$ and $\\cos(t)$ are orthogonal."
   ]
  },
  {
   "cell_type": "markdown",
   "id": "6066f8ac",
   "metadata": {},
   "source": [
    "### ***Orthogonality continued***\n",
    "### Fourier's theorem (from the previous page) tells us that $\\left\\{ 1, \\cos(t), \\cos(2t), \\cos(3t), \\ldots,\\sin(t),\\sin(2t),\\sin(3t),\\ldots \\right\\}$ is a basis. So \"every\" $2\\pi$-periodic function can be represented as a Fourier series. The other incredibly useful property is that they are ***orthogonal***. \n",
    "### Orthogonality is what helps us answer our question on finding formulas for the Fourier coefficients.\n",
    "\n",
    "### ***Question 6.4***\n",
    "### Is $\\left\\{ 1, \\cos(t), \\cos(2t), \\cos(3t), \\ldots,\\sin(t),\\sin(2t),\\sin(3t),\\ldots \\right\\}$ an ***orthonormal*** basis for all $2\\pi$-periodic functions, which can be represented by a Fourier series?\n",
    "\n",
    "### ***Answer***\n",
    "### No, since\n",
    "## $$ \\langle 1,1 \\rangle = \\int_{-\\pi}^{\\pi} 1 dt = 2\\pi \\neq 1 $$"
   ]
  },
  {
   "cell_type": "markdown",
   "id": "d2980c4d",
   "metadata": {},
   "source": [
    "### ***Example 6.5***\n",
    "## $$ \\begin{array} {rcccl} \\langle \\sin(t), \\sin(t) \\rangle & \\displaystyle = & \\displaystyle  \\int_{-\\pi}^{\\pi} \\sin^2(t) dt & \\displaystyle = & \\displaystyle {\\color{red}{?}} \\\\ \\langle \\cos(t), \\cos(t) \\rangle & \\displaystyle = & \\displaystyle  \\int_{-\\pi}^{\\pi} \\cos^2(t) dt & \\displaystyle = & \\displaystyle {\\color{red}{?}} \\end{array} $$\n",
    "### Since $\\cos(t)$ is just a shift of $\\sin(t)$, the answers are going to be the same. Also, the two answers add up to\n",
    "## $$ \\int_{-\\pi}^{\\pi} \\underbrace{\\sin^2(t) + \\cos^2(t)}_{= 1}dt = 2\\pi $$\n",
    "### so each is \\pi.\n",
    "\n",
    "### The same idea works to show that\n",
    "## $$ \\langle \\cos(nt), \\cos(nt) \\rangle = \\pi $$\n",
    "## $$ \\langle \\sin(nt), \\sin(nt) \\rangle = \\pi $$\n",
    "### for each positive integer "
   ]
  },
  {
   "cell_type": "markdown",
   "id": "9cee009b",
   "metadata": {},
   "source": [
    "## Proof of orthogonality\n",
    "\n",
    "### Here we prove that if $\\displaystyle  m\\neq n $, then $\\sin(nt)$ and $\\cos(nt)$ are orthogonal to $\\sin(mt)$ and $\\cos(mt)$. To do this we use that fact that both $\\sin(nt)$ and $\\cos(nt)$ solve the differential equation $\\ddot{x}+n^2x = 0$, and both $\\sin(mt)$ and $\\cos(mt)$ solve the differential equation $\\ddot{x}+m^2x=0$.\n",
    "\n",
    "### Supose that $u(t)$ solves the differential equation $\\ddot{x}+n^2x = 0$. And suppose $v(t)$ solves the differential equation $\\ddot{x}+m^2x = 0$ and $n\\neq m$.\n",
    "### Then in particular\n",
    "## $$ \\int_{-\\pi}^{\\pi} \\ddot{u}(t) v(t) dt = \\dot{u}(t)v(t)|_{-\\pi}^{\\pi}-\\int_{-\\pi}^{\\pi}\\dot{u}(t)\\dot{v}(t)dt $$\n",
    "### Note that $\\displaystyle  \\dot{u}(t)v(t)|_{-\\pi}^{\\pi} = 0$. Both $u(t)$ and $v(t)$ are both periodic on $(-\\pi, \\pi]$, therefore so is $\\dot{u}(t)v(t)$. Therefore the difference $\\dot{u}(\\pi)v(\\pi)-\\dot{u}(-\\pi)v(-\\pi) = 0$.\n",
    "### Thus this reduces to the expression\n",
    "## $$ \\int_{-\\pi}^{\\pi} \\ddot{u}(t)v(t)dt = -\\int_{-\\pi}^{\\pi}\\dot{u}(t)\\dot{v}(t)dt $$ \n",
    "### A similar argument shows that\n",
    "## $$ \\int_{-\\pi}^{\\pi} \\ddot{v}(t)u(t)dt = -\\int_{-\\pi}^{\\pi}\\dot{u}(t)\\dot{v}(t)dt $$ \n",
    "### However, by using the substitution from the differential equation, we have that $\\ddot{u}(t) = -n^2u(t)$ and $\\ddot{v}(t) = -m^2v(t)$. Therefore it follows that\n",
    "## $$ n^2\\int_{-\\pi}^{\\pi}u(t)v(t)dt = m^2\\int_{-\\pi}^{\\pi}u(t)v(t)dt $$\n",
    "### Note that since we have assumed that $m\\neq n$, the only way for this to hold is for the integral $\\displaystyle  \\int_{-\\pi}^{\\pi} u(t)v(t)dt = 0 $.\n",
    "\n",
    "### ***Remark 7.1***   \n",
    "### In disguise, this is the same as showing that two eigenvectors corresponding to distinct eigenvalues of a symmetric matrix are orthogonal."
   ]
  },
  {
   "cell_type": "markdown",
   "id": "29722ff6",
   "metadata": {},
   "source": [
    "## Fourier coefficient\n",
    "\n",
    "### Given $f$, how do you find the $a_n$ and $b_n$ such that\n",
    "## $$ \\begin{array} {rcl} \\displaystyle  f(t) = \\frac{a_o}{2} & \\displaystyle + & \\displaystyle a_1 \\cos(t) + a_2\\cos(2t) + a_3\\cos(3t) + \\cdots \\\\ \\, & \\displaystyle + & \\displaystyle b_1 \\sin(t) + b_2\\sin(2t)+ b_3\\sin(3t) + \\cdots  ? \\end{array} $$\n",
    "### By the shortcut formulas,\n",
    "## $$ a_n = \\frac{\\langle f, \\cos(nt)\\rangle}{\\langle\\cos(nt),\\cos(nt)\\rangle} = \\frac{1}{\\pi}\\int_{-\\pi}^{\\pi}f(t)\\cos(nt)d $$\n",
    "## $$ b_n = \\frac{\\langle f, \\sin(nt)\\rangle}{\\langle\\sin(nt),\\sin(nt)\\rangle} = \\frac{1}{\\pi}\\int_{-\\pi}^{\\pi}f(t)\\sin(nt)d $$\n",
    "### and the coefficient of $1$ is\n",
    "## $$ \\frac{a_0}{2} = \\frac{\\langle f, 1 \\rangle}{\\langle 1, 1\\rangle} = \\frac{1}{2\\pi}\\int_{-\\pi}^{\\pi}f(t)dt $$\n",
    "### so\n",
    "## $$ a_0 = \\frac{1}{\\pi}\\int_{-\\pi}^{\\pi}f(t)dt $$\n",
    "### (Using $a_0/2$ in the series ensures that the formula for $a_n$ for $n>0$ works also for $n=0$.) A similar formula holds for $b_n$.\n",
    "\n",
    "### ***Conclusion***: Given $f$, its Fourier coefficients can be calculated as follows:\n",
    "## $$ a_n = \\frac{1}{\\pi}\\int_{-\\pi}^{\\pi}f(t)\\cos(nt)dt \\quad \\text{for all} \\quad n \\geq 0 $$\n",
    "## $$ b_n = \\frac{1}{\\pi}\\int_{-\\pi}^{\\pi}f(t)\\sin(nt)dt \\quad \\text{for all} \\quad n \\geq 1 $$"
   ]
  },
  {
   "cell_type": "markdown",
   "id": "f4175867",
   "metadata": {},
   "source": [
    "## Meaning of the constant term\n",
    "\n",
    "### Recall that the average value of a function $f(t)$ on an interval $(a,b)$ is defined to be the area under the curve over that interval, divided by the length of that interval:\n",
    "## $$ \\operatorname{ave}(f) \\colon = \\frac{\\int_{a}^{b} f(t) dt}{b - a} $$\n",
    "### The constant term of the Fourier series of $f$ is\n",
    "## $$ \\frac{a_0}{2} = \\frac{1}{2\\pi} \\int_{-\\pi}^{\\pi} f(t) dt = \\frac{\\int_{-\\pi}^{\\pi} f(t) dt}{\\pi - (-\\pi)} $$\n",
    "### which is the average value of $f$ on the interval $(-\\pi, \\pi)$.\n",
    "\n",
    "### ***Example 9.1***\n",
    "### Find the constant term of the $2\\pi$-periodic function\n",
    "## $$ f(t) = \\left \\{ \\begin{array} {rcl} \\displaystyle  t, & \\displaystyle  & \\displaystyle 0 < t < \\pi \\\\ 0, & \\displaystyle  & \\displaystyle -\\pi < t < 0 \\end{array} \\right. $$\n",
    "### ***Solution***: \n",
    "### The average value of this function over one period is given by the area under the curve, divided by the length of the interval, which in this case is $2\\pi$. By sketching the function over the interval $-\\pi<t<\\pi$,\n",
    "![img](img/sample-1.png)\n",
    "### we can compute the area under the curve directly to find the average value, which is\n",
    "## $$ \\frac{(1/2)\\pi^2}{2\\pi} = \\frac{\\pi}{4} $$"
   ]
  },
  {
   "cell_type": "markdown",
   "id": "6d693b73",
   "metadata": {},
   "source": [
    "## The Fourier series of the square wave\n",
    "\n",
    "### Here we provide the full computation of the Fourier series for the square wave of period $2\\pi$\n",
    "## $$ \\operatorname{Sq}(t) \\colon = \\left\\{ \\begin{array} {rcl} \\displaystyle  1 & \\displaystyle  \\text{if} & \\displaystyle 0 < t < \\pi, \\\\ -1 & \\displaystyle  \\text{if} & \\displaystyle -\\pi < t < 0 \\end{array} \\right. $$\n",
    "![The 2 pi periodic square wave](img/square.png)\n",
    "### First we compute the constant term,\n",
    "## $$ \\frac{a_0}{2} = \\frac{\\text{Signed area of one period}}{2\\pi} = \\frac{\\pi-\\pi}{2\\pi} = 0 $$ \n",
    "### Next we compute the rest of the Fourier coefficients $a_n$, $n>0$.\n",
    "## $$ \\begin{array} {rcl} \\displaystyle  a_n & \\displaystyle = & \\displaystyle  \\frac{1}{\\pi} \\left( \\int_{-\\pi}^{\\pi} \\operatorname{Sq}(t) \\cos(nt) dt \\right) \\\\ \\, & \\displaystyle = & \\displaystyle  \\frac{1}{\\pi} \\left( -\\int_{-\\pi}^{0} \\cos(nt) dt + \\int_{0}^{\\pi} \\cos(nt) dt \\right) \\\\ \\, & \\displaystyle = & \\displaystyle  \\frac{1}{\\pi} \\left( \\left.-\\frac{\\sin(nt)}{n}\\right|_{-\\pi}^{0} + \\left.\\frac{\\sin(nt)}{n}\\right|_{0}^{\\pi} \\right) = 0 \\end{array} $$\n",
    "### Finally, compute the coefficients $b_n$.\n",
    "## $$ \\begin{array} {rcl} \\displaystyle  b_n & \\displaystyle = & \\displaystyle  \\frac{1}{\\pi} \\left( \\int_{-\\pi}^{\\pi} \\operatorname{Sq}(t) \\sin(nt) dt \\right) \\\\ \\, & \\displaystyle = & \\displaystyle  \\frac{1}{\\pi} \\left( -\\int_{-\\pi}^{0} \\sin(nt) dt + \\int_{0}^{\\pi} \\sin(nt) dt \\right) \\\\ \\, & \\displaystyle = & \\displaystyle  \\frac{1}{\\pi} \\left( \\left.\\frac{\\cos(nt)}{n}\\right|_{-\\pi}^{0} - \\left.\\frac{\\cos(nt)}{n}\\right|_{0}^{\\pi} \\right) \\end{array} $$\n",
    "### Note that $\\cos(n\\pi) = \\cos(-n\\pi) = (-1)^n$, therefore\n",
    "## $$ \\begin{array} {rcl} \\displaystyle  \\frac{1}{\\pi} \\left( \\left.\\frac{\\cos(nt)}{n}\\right|_{-\\pi}^{0} - \\left.\\frac{\\cos(nt)}{n}\\right|_{0}^{\\pi} \\right) & \\displaystyle = & \\displaystyle  \\frac{1}{\\pi} \\left( \\frac{1-(-1)^n}{n} - \\frac{(-1)^n - 1}{n} \\right) \\\\ \\, & \\displaystyle = & \\displaystyle  \\frac{2}{\\pi}\\left( \\frac{1-(-1)^n}{n} \\right) \\\\ \\, & \\displaystyle = & \\displaystyle  \\left\\{ \\begin{array} {rcl} \\displaystyle  \\frac{4}{n\\pi} & \\displaystyle n & \\displaystyle  \\text{odd} \\\\ 0 & \\displaystyle n & \\displaystyle  \\text{even} \\end{array} \\right. \\end{array} $$\n",
    "### Therefore the Fourier series for the square wave is\n",
    "## $$ \\operatorname{Sq}(t) \"=\" \\frac{4}{\\pi}\\left( \\sin(t) + \\frac{\\sin(3t)}{3} + \\frac{\\sin(5t}{5} + \\cdots \\right) = \\frac{4}{\\pi} \\sum_{n\\,\\text{odd}}^{\\infty} \\frac{\\sin(nt)}{n} $$\n",
    "\n",
    "### ***Remark 10.1***\n",
    "### Note that while the square wave was undefined at the jump discontinuities at every integer multiple of $\\pi$, the Fourier series is well defined and is $0$ at each integer multiple of $\\pi$ (because $\\sin(n\\pi) = 0$ for all n)."
   ]
  },
  {
   "cell_type": "markdown",
   "id": "a5e41306",
   "metadata": {},
   "source": [
    "## A worked example\n",
    "### Find the Fourier series of the $2\\pi$-periodic function\n",
    "## $$ f(t) = \\left\\{ \\begin{array} {rcl} \\displaystyle  t & \\displaystyle  & \\displaystyle 0 < t < \\pi \\\\ 0 & \\displaystyle  & \\displaystyle -\\pi < t < 0 \\end{array} \\right. $$\n",
    "### ***Solution***: \n",
    "### In this example, we will work out the terms $a_n$ and leave it to you to find the coefficients $b_n$.\n",
    "### First, draw a picture.\n",
    "![img](img/triangular.png)\n",
    "### Next, find the constant term:\n",
    "## $$ \\frac{a_0}{2} = \\frac{1}{2\\pi}\\int_{-\\pi}^{\\pi}f(t)dt = \\frac{\\text{area under one period of curve}}{\\text{length of period}} = \\frac{\\pi^2/2}{2\\pi} = \\frac{\\pi}{4} $$\n",
    "### Now for the other terms $a_n$:\n",
    "## $$ \\begin{array} {rcl} \\displaystyle  a_n & \\displaystyle = & \\displaystyle  \\frac{1}{n}\\int_{-\\pi}^{\\pi} f(t) \\cos(nt) dt \\\\ \\, & \\displaystyle = & \\displaystyle  \\frac{1}{\\pi} \\int_{-\\pi}^{0} 0 \\cos(nt)dt + \\frac{1}{\\pi}\\int_{0}^{\\pi} t \\cos(nt) dt \\\\ \\, & \\displaystyle = & \\displaystyle  \\frac{1}{\\pi}\\int_{0}^{\\pi} t \\cos(nt) dt \\end{array} $$\n",
    "### Evaluating this integral, we find\n",
    "## $$ \\frac{1}{\\pi} \\int_{0}^{\\pi} t \\cos(nt) dt = \\frac{1}{\\pi} \\frac{\\cos(n\\pi)-1}{n^2} = \\frac{1}{\\pi} \\frac{(-1)^n-1}{n^2} = \\left\\{ \\begin{array} {rcl} \\displaystyle  \\frac{-2}{\\pi n} & \\displaystyle n & \\displaystyle  \\text{odd} \\\\ 0 & \\displaystyle n & \\displaystyle  \\text{even} \\end{array} \\right. $$\n",
    "### Therefore the Fourier series is given by\n",
    "## $$ f(t) = \\frac{\\pi}{4}+\\sum_{n\\, \\text{odd}} \\frac{-2}{\\pi n^2}\\cos(nt) + \\sum_{n} b_n \\sin(nt) $$\n",
    "### We leave the computation of the $b_n$ as an exercise for you."
   ]
  },
  {
   "cell_type": "markdown",
   "id": "ebec4f57",
   "metadata": {},
   "source": [
    "## Uniqueness of Fourier series\n",
    "\n",
    "### Recall that for any function $f(t)$ that is periodic and has period $2\\pi$, the Fourier series is given by\n",
    "## $$ f(t) = \\frac{a_0}{2} + \\sum_{n=1}^{\\infty} (a_n \\cos(nt) + b_n \\sin(nt)) $$\n",
    "### where the formulas for the coefficients $a_n$ and $b_n$ are given by\n",
    "## $$ \\begin{array} {rcl} \\displaystyle  \\frac{a_0}{2} & \\displaystyle = & \\displaystyle  \\frac{1}{2\\pi} \\int_{-\\pi}^{\\pi} f(t) dt = \\frac{\\langle f(t), 1 \\rangle}{\\langle 1, 1 \\rangle}, \\\\ a_n & \\displaystyle = & \\displaystyle  \\frac{1}{\\pi} \\int_{-\\pi}^{\\pi} f(t) \\cos(nt) dt = \\frac{\\langle f(t), \\cos(nt) \\rangle}{\\langle \\cos(nt), \\cos(nt) \\rangle}, \\quad m \\geq 1 \\\\ b_n & \\displaystyle = & \\displaystyle  \\frac{1}{\\pi} \\int_{-\\pi}^{\\pi} f(t) \\sin(nt) dt = \\frac{\\langle f(t), \\sin(nt) \\rangle}{\\langle \\sin(nt), \\sin(nt) \\rangle}, \\quad m \\geq 1 \\end{array} $$\n",
    "### By virtue of the fact that we have formulas for the coefficients (in terms of an inner product on functions with respect to an orthogonal basis of functions), a function has only one Fourier series. That is, if $f(t) = g(t)$, then the Fourier series for $f(t)$ is the same as the Fourier series for $g(t)$.\n",
    "\n",
    "### We will use this idea to come up with easier ways to compute Fourier series."
   ]
  },
  {
   "cell_type": "markdown",
   "id": "c7a5e7eb",
   "metadata": {},
   "source": [
    "## Even and Odd symmetry\n",
    "\n",
    "### - A function $f(t)$ is ***even*** if $f(-t) = f(t)$ for all $t$.\n",
    "### - A function $f(t)$ is ***odd*** if $f(-t) = -f(t)$ for all $t$.\n",
    "\n"
   ]
  },
  {
   "cell_type": "markdown",
   "id": "201d6529",
   "metadata": {},
   "source": [
    "### If\n",
    "## $$ f(t) = \\frac{a_0}{2}+\\sum_{n=1}^{\\infty} a_n\\cos(nt) + \\sum_{n=1}^{\\infty} b_n\\sin(nt) $$\n",
    "### then substituting $-t$ for $t$ gives:\n",
    "## $$ f(-t) = \\frac{a_0}{2}+\\sum_{n=1}^{\\infty} a_n\\cos(nt) + \\sum_{n=1}^{\\infty} (-b_n)\\sin(nt) $$\n",
    "### The right hand sides match if and only if $b_n = 0$ for all $n$."
   ]
  },
  {
   "cell_type": "markdown",
   "id": "5859927f",
   "metadata": {},
   "source": [
    "### ***Conclusion***\n",
    "### The Fourier series of an even function $f$ has only cosine terms (including the constant term):\n",
    "## $$ f(t) = \\frac{a_0}{2} + \\sum_{n=1}^{\\infty} a_n \\cos(nt) $$\n",
    "### Similarly, the Fourier series of an odd function $f$ has only sine terms:\n",
    "## $$ f(t) = \\sum_{n=1}^{\\infty} b_n \\sin(nt) $$"
   ]
  },
  {
   "cell_type": "markdown",
   "id": "b4ec11a9",
   "metadata": {},
   "source": [
    "## Fourier series of Square wave using oddness\n",
    "\n",
    "### The square wave,\n",
    "## $$ \\operatorname{Sq}(t) = \\left\\{ \\begin{array} {rcl} \\displaystyle  1 & \\displaystyle  & \\displaystyle 0 < t < \\pi \\\\ -1 & \\displaystyle  & \\displaystyle -\\pi < t < 0 \\end{array} \\right. $$\n",
    "### is an odd function, so\n",
    "## $$ \\operatorname{Sq}(t) = \\sum_{n=1}^{\\infty} b_n \\sin(nt) $$\n",
    "### for some numbers $b_n$.\n",
    "### The Fourier coefficient formula says:\n",
    "## $$ \\begin{array} {rcl} \\displaystyle  b_n & \\displaystyle = & \\displaystyle  \\frac{1}{\\pi} \\int_{-\\pi}^{\\pi} \\underbrace{\\operatorname{Sq}(t)\\sin(nt)}_{{\\color{red}{even}}} dt \\\\ \\, & \\displaystyle = & \\displaystyle  \\frac{2}{\\pi} \\int_{0}^{\\pi} \\operatorname{Sq}(t)\\sin(nt) dt \\quad (\\text{the two halves of the integral are equal, by symmetry}) \\\\ \\, & \\displaystyle = & \\displaystyle  \\frac{2}{\\pi} \\int_{0}^{\\pi} \\sin(nt) dt \\quad (\\text{since}\\, \\operatorname{Sq}(t) = 1\\, \\text{whenever}\\,0<t<\\pi) \\\\ \\, & \\displaystyle = & \\displaystyle  \\left. \\frac{2(-\\cos(nt))}{\\pi n} \\right|_{0}^{\\pi} \\\\ \\, & \\displaystyle = & \\displaystyle  \\frac{2}{\\pi n} \\left( -\\cos(nt) + \\cos(0) \\right) \\\\ \\, & \\displaystyle = & \\displaystyle  \\left\\{ \\begin{array} {rcl} \\displaystyle  \\frac{4}{\\pi n} & \\displaystyle  \\text{if} & \\displaystyle n\\, \\text{is odd} \\\\ 0 & \\displaystyle  \\text{if} & \\displaystyle n\\,\\text{is even} \\end{array} \\right. \\end{array} $$"
   ]
  },
  {
   "cell_type": "markdown",
   "id": "24723ce9",
   "metadata": {},
   "source": [
    "### Thus\n",
    "## $$ b_1 = \\frac{4}{\\pi}, \\quad b_3 = \\frac{4}{3\\pi}, \\quad b_5 = \\frac{4}{5\\pi}, \\ldots $$\n",
    "### and all other Fourier coefficients are 0."
   ]
  },
  {
   "cell_type": "markdown",
   "id": "a48bdaef",
   "metadata": {},
   "source": [
    "### ***Conclusion***\n",
    "## $$ \\operatorname{Sq}(t) = \\frac{4}{\\pi} \\left( \\sin(t) + \\frac{\\sin(3t)}{3} + \\frac{\\sin(5t)}{5} + \\cdots \\right) $$"
   ]
  },
  {
   "cell_type": "markdown",
   "id": "dbb7e47d",
   "metadata": {},
   "source": [
    "## Even and odd simplified formulas\n",
    "\n",
    "### ***Even functions***: If $f(t)$ is an even, $2\\pi$ periodic function, its Fourier series is\n",
    "## $$ f(t) = \\frac{a_0}{2} + \\sum_{n=1}^{\\infty} a_n \\cos(nt), $$\n",
    "### where (since $f(t) \\cos(nt)$ is an even function as well)\n",
    "## $$ a_n = \\frac{2}{\\pi}\\int_{0}^{\\pi} f(t) \\cos(nt) dt, \\quad b_n = 0 $$\n",
    "### ***Odd functions***:\n",
    "### If $f(t)$ is an odd, $2\\pi$ periodic function, its Fourier series is\n",
    "## $$ f(t) = \\sum_{n=1}^{\\infty} b_n \\sin(nt) $$\n",
    "### where (since $f(t)\\sin(nt)$ is an even function)\n",
    "## $$ b_n = \\frac{2}{\\pi} \\int_{0}^{\\pi} f(t) \\sin(nt) dt, \\quad a_n = 0 $$\n"
   ]
  },
  {
   "cell_type": "markdown",
   "id": "38a48fc8",
   "metadata": {},
   "source": [
    "## Worked example: odd periodic function\n",
    "\n",
    "### Find the Fourier series of the $2\\pi$-periodic sawtooth wave\n",
    "## $$ f(t) = t, \\quad -\\pi < t < \\pi $$\n",
    "\n",
    "### Figure 5: The sawtooth wave.\n",
    "![img](img/sawtooth.png)\n",
    "\n",
    "### ***Solution***: The function is odd, therefore $a_n = 0$.\n",
    "### Using our simplified formula for $b_n$, we find\n",
    "## $$ \\begin{array} {rcl} \\displaystyle  b_n & \\displaystyle = & \\displaystyle  \\frac{2}{\\pi} \\int_{0}^{\\pi} t \\sin(nt) dt \\\\ \\, & \\displaystyle = & \\displaystyle  \\frac{2}{n} \\left[ \\left. \\frac{-t\\cos(nt)}{n} \\right|_{0}^{\\pi} - \\int_{0}^{\\pi} \\frac{-\\cos(nt)}{n} dt \\right] \\\\ \\, & \\displaystyle = & \\displaystyle  \\frac{2}{n} \\left[ -\\frac{\\pi (-1)^n}{n} + \\left. \\frac{\\sin(nt)}{n^2} \\right|_{0}^{\\pi} \\right] \\\\ \\, & \\displaystyle = & \\displaystyle  \\frac{2(-1)^{n+1}}{n} \\end{array} $$ \t \t\t\t \t \n",
    "### Therefore the Fourier series for the sawtooth wave is\n",
    "## $$ \\sum_{n=1}^{\\infty} \\frac{2(-1)^{n+1}}{n} \\sin(nt) $$\n"
   ]
  },
  {
   "cell_type": "markdown",
   "id": "c4f31423",
   "metadata": {},
   "source": [
    "## Recall Fourier series\n",
    "\n",
    "### Here are the Fourier series of some $2\\pi$-periodic functions.\n",
    "\n",
    "### 1. ***Square wave***\n",
    "###    Function: $\\displaystyle  \\operatorname{Sq}(t) = \\left\\{ \\begin{array} {rcl} \\displaystyle  1 & \\displaystyle  & \\displaystyle 0 < t < \\pi \\\\ -1 & \\displaystyle  & \\displaystyle -\\pi < t < 0 \\end{array} \\right. $\n",
    "###    Fourier series: $\\displaystyle  \\operatorname{Sq}(t) = \\frac{4}{\\pi} \\sum_{n\\,\\text{odd}} \\frac{\\sin(nt)}{n} $\n",
    "### 2. ***Sawtooth wave***\n",
    "###    Function: $\\displaystyle  \\operatorname{W}(t) = t \\quad -\\pi < t < \\pi $\n",
    "###    Fourier series: $\\displaystyle  \\operatorname{W}(t) = 2 \\sum_{n=1}^{\\infty} \\frac{(-1)^{n+1}}{n} \\sin(nt) $\n",
    "### 3. ***Triangle wave***\n",
    "###    Function: $\\displaystyle  \\operatorname{T}(t) = |t|, \\quad -\\pi < t < \\pi $\n",
    "###    Fourier series: $\\displaystyle  \\operatorname{T}(t) = \\frac{\\pi}{2} - \\frac{4}{\\pi} \\sum_{n\\,\\text{odd}} \\frac{\\cos(nt)}{n^2} $"
   ]
  },
  {
   "cell_type": "markdown",
   "id": "50096789",
   "metadata": {},
   "source": [
    "## How does the Fourier series really work?\n",
    "\n",
    "### The square wave of height $\\frac{\\pi}{4}$, which we denote by $S(t) = \\frac{\\pi}{4} \\operatorname{Sq}(t)$ has Fourier series\n",
    "## $$ \\begin{array} {rcl} \\displaystyle  S(t) = \\frac{\\pi}{4} \\operatorname{Sq}(t) & \\displaystyle = & \\displaystyle \\sin(t) + \\frac{1}{3}\\sin(3t) + \\frac{1}{5} \\sin(5t) + \\cdots \\\\ \\, & \\displaystyle = & \\displaystyle  \\sum_{n\\,\\text{odd}}^{\\infty} \\frac{1}{n} \\sin(nt) \\end{array} $$\n",
    "### Note that the discontinuities are at the integer multiples of $\\pi$.\n",
    "### You can visualize the sum of the first few terms of this Fourier series using the mathlet below. The partial sum\n",
    "## $$ b_1\\sin(t) + \\cdots + b_11\\sin(11t) $$\n",
    "### is displayed in blue. (Initially these coefficients are all zero, so the display shows a horizontal blue line. )\n",
    "### - Choose the radio button for ***Target A*** to see the graph of $S(t)$.\n",
    "### - We know that the function is odd, so all the $a_n = 0$. Thus we represent this as a Sine series $S(t)$.\n",
    "### - We know that the coefficients $b_n$ involve only odd terms, so we can also select the radio button ***Odd terms***.\n",
    "### Use the sliders to select the coefficients $b_n$ for $S(t)$. Observe how each successive $b_n$ creates a better and better approximation to $S(t)$.\n"
   ]
  },
  {
   "cell_type": "code",
   "execution_count": 8,
   "id": "54e20f8c",
   "metadata": {
    "jupyter": {
     "source_hidden": true
    },
    "tags": []
   },
   "outputs": [
    {
     "data": {
      "text/html": [
       "<iframe width=\"900\" height=\"650\" src=\"https://mathlets1803.surge.sh/fourierCoefficients.html\" title=\"YouTube video player\" frameborder=\"0\" allow=\"accelerometer; autoplay; clipboard-write; encrypted-media; gyroscope; picture-in-picture\" allowfullscreen></iframe>\n"
      ],
      "text/plain": [
       "<IPython.core.display.HTML object>"
      ]
     },
     "metadata": {},
     "output_type": "display_data"
    }
   ],
   "source": [
    "%%html\n",
    "<iframe width=\"900\" height=\"650\" src=\"https://mathlets1803.surge.sh/fourierCoefficients.html\" title=\"YouTube video player\" frameborder=\"0\" allow=\"accelerometer; autoplay; clipboard-write; encrypted-media; gyroscope; picture-in-picture\" allowfullscreen></iframe>"
   ]
  },
  {
   "cell_type": "markdown",
   "id": "8e47e703",
   "metadata": {},
   "source": [
    "## How to understand partial sums of the Fourier series\n",
    "### Very roughly, the idea of the Fourier series of a function, such as $S(t)$, is that it is the closest possible sum of sines that approximate the function on the interval, and at each degree, it is the best.\n",
    "\n",
    "### In what sense is it the closest?\n",
    "\n",
    "### We might want to say that it is the closest possible at every point. This is not possible since at points of discontinuity this automatically fails. The next thought is that we might want to say that it is closest in that the area between the function and the sine term of frequency $n$ is as small as possible. This is more forgiving at discontinuities. Remarkably, there is a correct notion of closest, and it is the integral of the difference of the functions quantity squared that is minimized.\n",
    "## $$ \\int \\left( f(x) - g(x) \\right)^2 dx $$\n",
    "### (This is called the ***root-mean-squared distance*** between two functions.)\n",
    "\n",
    "### ***Remark 3.1***   \n",
    "### Extending our analogy with vectors used in the introduction of scalar product, this new distance is (almost) the same as the usual distance for vectors: $\\displaystyle |a-b| = \\sqrt{\\langle a-b, a-b \\rangle}$."
   ]
  },
  {
   "cell_type": "markdown",
   "id": "1cddbfd8",
   "metadata": {},
   "source": [
    "## Gibbs' Phenomenon\n",
    "\n",
    "### You might be wondering how we can use Fourier series, series composed of continuous functions, to approximate a discontinuous function. While it's true that we can get a Fourier series that converges to a function with discontinuities, the convergence fails at the discontinuities, and near points of discontinuity ***the convergence is very slow*** and very peculiar. Namely, the ***partial sums*** of the Fourier series overshoot and undershoot the values of the function near these points of discontinuity. This is known as the ***Gibbs' Phenomenon***. All discontinuous functions exhibit Gibbs' phenomenon.\n",
    "\n",
    "### We illustrate this phenomenon using the example of the square wave of height $\\displaystyle \\frac{\\pi}{4}$ — which we denote by $\\displaystyle S(t) = \\frac{\\pi}{4} \\operatorname{Sq}(t)$. In this case the discontinuities are at the integer multiples of $\\pi$. The Fourier series for $S(t)$ is\n",
    "## $$ \\begin{array} {rcl} S(t) & = & \\displaystyle \\frac{\\pi}{4} \\operatorname{Sq}(t) = \\sin(t) + \\frac{1}{3}\\sin(3t) + \\frac{1}{5}\\sin(5t) + \\cdots \\\\ \\, & = & \\displaystyle \\sum_{n\\,\\text{odd}}^{\\infty} \\frac{1}{n} \\sin(nt) \\end{array} $$\n",
    "### For an odd positive integer $N$, write $S_N(t)$ for the $N^{\\text{th}}$ ***partial sum***\n",
    "## $$ S_N(t) \\colon= \\sum_{n\\,\\text{odd}}^{N} \\frac{1}{N} \\sin(nt) $$\n",
    "### Then $S(t)$ is the limit of the functions $S_N(t)$ as $N \\to \\infty$. It turns out that it is possible to do a calculation that's a little bit beyond the scope of this class that for $N$ very large, $S_N$ overshoots $\\displaystyle \\frac{pi}{4}$ (or undershoots ) at a point of discontinuity by about . This overshooting and undershooting can easily be seen in the figures below.\n",
    "![img](img/fourier-2.png)\n",
    "### This overshoot/undershoot by about 9% happens ***always***, not just for the case of $S(t)$, but for any function with discontinuities. In practice, one can only generate approximate Fourier series (with only a finite number of Fourier coefficients, known with some error). Thus the poor convergence of Fourier series for functions with discontinuities — and particularly the Gibb's phenomenon — creates (serious) difficulties in areas such as signal processing.\n",
    "\n",
    "### The intuitive reason that the approximation $S_N$ behaves so poorly near discontinuities is that $S_N$ is continuous (it is a finite sum of continuous functions). A continuous function cannot perfectly approximate a discontinuous one. A confusing point, is that even though for $N$ arbitrarily large, the function $S_N$ acts poorly at the discontinuity, the series $\\displaystyle \\sum_{n\\,\\text{odd}}^{\\infty}$ doesn't. This illustrates how limits can act strangely sometimes, as well as the fact that the convergence of $S_N(t)$ to $S(t)$ “doesn't happen in the best possible way\". If you're interested in questions like this, you might find ***18.311*** or ***18.100*** interesting.\n"
   ]
  },
  {
   "cell_type": "markdown",
   "id": "ad0a041c",
   "metadata": {},
   "source": [
    "## Convergence of a Fourier series\n",
    "\n",
    "### ***Definition 5.1***\n",
    "### A periodic function $f$ of period $2L$ is called ***piecewise differentiable*** if\n",
    "### - at points where the derivative exists it is bounded, (that is, there is an $M$ such that $|f'(t)|\\leq M < \\infty$ at all $t$ for which $f'(t)$ exists),\n",
    "### - there are at most finitely many points in $[-L, L)$ where $f'(t)$ does not exist, and\n",
    "### - at each such point $\\tau$, the left limit $\\displaystyle f(\\tau^-):=\\lim_{t\\to\\tau^-}$ and right limit $\\displaystyle f(\\tau^+):=\\lim_{t\\to\\tau^+}$ exist (although they might be unequal, in which case we say that $f$ has a ***jump discontinuity*** at $\\tau$).\n",
    "\n",
    "### ***Theorem 5.2***\n",
    "### If $f$ is a piecewise differentiable periodic function, then the Fourier series of $f$ (with the $a_n$ and $b_n$ defined by the Fourier coefficient formulas)\n",
    "### - converges to $f(t)$ at values of $t$ where $f$ is continuous, and\n",
    "### - converges to $\\displaystyle \\frac{f(t^-)+f(t^+)}{2}$ where $f$ has a jump discontinuity.\n",
    "\n",
    "### ***Example 5.3***\n",
    "### The left limit $\\operatorname{Sq}(0^-) = -1$ and right limit $\\operatorname{Sq}(0^+) = 1$ average to $0$. The Fourier series\n",
    "## $$ \\frac{4}{\\pi}(\\sin(t) + \\frac{\\sin(3t)}{3} + \\frac{\\sin(5t)}{5} + \\cdots) $$\n",
    "### evaluated at $t=0$ converges to $0$ too.\n",
    "\n",
    "### (Note that the examples here are for $2\\pi$-periodic functions, but this theorem on convergence holds for periodic functions of any period, which we will discuss below)"
   ]
  },
  {
   "cell_type": "markdown",
   "id": "0c7b090f",
   "metadata": {},
   "source": [
    "## Functions of arbitrary period\n",
    "\n",
    "### Everything we did with periodic functions of period $2\\pi$ can be generalized to periodic functions of other periods.\n",
    "\n",
    "### ***Problem 6.1***\n",
    "### Define\n",
    "## $$ f(t) := \\left\\{ \\begin{array} {rcl} 1 & \\text{if} & 0 < t < 1 \\\\ 0 & \\text{if} & -1<t<0 \\end{array} \\right. $$\n",
    "![img](img/arb-1.png)\n",
    "### and extend it to a periodic function of period $2$. Express this new square wave $f(t)$ in terms of $\\operatorname{Sq}$. Then use the known Fourier series of $\\operatorname{Sq}$ to find the Fourier series for $f(t)$.\n",
    "\n",
    "### ***Solution***: \n",
    "### This function is neither even nor odd. However, if we shift the function downwards by $\\displaystyle \\frac{1}{2}$, it is an odd function.\n",
    "![img](img/arb-2.png)\n",
    "\n",
    "### Write the shifted function\n",
    "## $$ s(t) = f(t) - \\frac{1}{2} = \\left\\{ \\begin{array} {rcl} \\displaystyle \\frac{1}{2} & & 0 < t < 1 \\\\ \\displaystyle -\\frac{1}{2} & & -1 < t < 0 \\end{array} \\right. $$ \n",
    "### If we multiply this function by $2$,\n",
    "## $$ 2s(t) = 2f(t) - 1 = \\left\\{ \\begin{array} {rcl} 1 & \\text{if} & 0 < t < 1 \\\\ -1 & \\text{if} & -1<t<0 \\end{array} \\right. $$\n",
    "![img](img/arb-3.png)\n",
    "### what we get is very similar to the square wave of period $2\\pi$.\n",
    "![img](img/arb-4.png)\n",
    "### To avoid confusion, let's use $u$ as the variable for $\\operatorname{Sq}$. Scaling the horizontal axis by factor of $\\displaystyle \\frac{1}{\\pi}$ produces the graph of $2s(t)$.\n",
    "![img](img/arb-5.png)\n",
    "\n",
    "### In other words, if $t$ and $u$ are related by $u=\\pi t$ (so that $u=\\pi$ corresponds to $t=1$), then $2s(t) = \\operatorname{Sq}(u)$. In other words,\n",
    "## $$ 2s(t) = \\operatorname{Sq}(\\pi t) $$\n",
    "### Therefore,\n",
    "## $$ f(t) = \\frac{1}{2} + s(t) = \\frac{1}{2} + \\frac{1}{2} \\operatorname{Sq}(\\pi t) $$\n",
    "### Since we know the Fourier series\n",
    "## $$ \\operatorname{Sq}(u) = \\frac{4}{\\pi} \\sum_{n\\,\\text{odd}} \\frac{\\sin(nu)}{n} $$\n",
    "### the Fourier series for $f(t)$ is\n",
    "## $$ f(t) = \\frac{1}{2} + \\frac{2}{\\pi} \\sum_{n\\,\\text{odd}} \\frac{\\sin(n\\pi t)}{n} $$"
   ]
  },
  {
   "cell_type": "markdown",
   "id": "405a49b7",
   "metadata": {},
   "source": [
    "## Period $2L$ functions\n",
    "### Similarly we can scale the horizontal axis of any function of period $2\\pi$ to get a function of different period. Let $L$ be a positive real number. Start with “any\" periodic function\n",
    "## $$ g(u) = \\frac{a_0}{2} + \\sum_{n\\geq 1} a_n \\cos(n u) + \\sum_{n\\geq 1} b_n \\sin(n u) $$\n",
    "### of period $2\\pi$. \n",
    "### Stretching horizontally by a factor $\\displaystyle \\frac{L}{\\pi}$ gives a periodic function $f(t)$ of period $2L$, and “every\" $f$ of period $2L$ arises this way. By the same calculation as above,\n",
    "## $$ \\begin{array} {rcl} f(t) & = & \\displaystyle g\\left( \\frac{\\pi t}{L} \\right) \\\\ \\, & = & \\displaystyle \\frac{a_0}{2} + \\sum_{n\\geq 1} a_n \\cos\\left(\\frac{n\\pi t}{L}\\right) + \\sum_{n\\geq 1} b_n \\sin\\left(\\frac{n\\pi t}{L}\\right) \\end{array} $$\n",
    "### The substitution $\\displaystyle u = \\frac{\\pi t}{L} $ (and $\\displaystyle du = \\frac{\\pi}{L}dt$) also leads to Fourier coefficient formulas for period $2L$:\n",
    "## $$ \\begin{array} {rcl} a_n & = & \\displaystyle \\frac{1}{\\pi} \\int_{-\\pi}^{\\pi} g(u) \\cos(nu) du \\\\ \\, & = & \\displaystyle \\frac{1}{\\pi} \\int_{-L}^{L} g\\left( \\frac{\\pi t}{L} \\right) \\cos \\left( \\frac{n\\pi t}{L} \\right) \\frac{\\pi}{L} dt \\\\ \\, & = & \\displaystyle \\frac{1}{L} \\int_{-L}^{L} f(t) \\cos\\left( \\frac{n\\pi t}{L} \\right) dt \\end{array} $$ \t \n",
    "### A similar formula gives $b_n$ in terms of $f$."
   ]
  },
  {
   "cell_type": "markdown",
   "id": "db0b4886",
   "metadata": {},
   "source": [
    "## The inner product for periodic functions of arbitrary period\n",
    "\n",
    "### Adapt the definition of the inner product to the case of functions $f$ and $g$ of period $2L$:\n",
    "## $$ {\\color{orange}{\\langle f, g \\rangle}} := \\int_{-L}^{L} f(t) g(t) dt $$\n",
    "### (This conflicts with the earlier definition of $\\langle f, g \\rangle$, for functions for which both make sense, so perhaps it would be better to write $\\langle f, g \\rangle_L$ for the new inner product, but we won't bother to do so.)\n",
    "\n",
    "### The same calculations as before show that the functions\n",
    "## $$ 1,\\cos \\left( \\frac{\\pi t}{L} \\right),\\cos \\left( \\frac{2\\pi t}{L} \\right),\\cos \\left( \\frac{3\\pi t}{L} \\right),\\ldots,\\sin \\left( \\frac{\\pi t}{L} \\right),\\sin \\left( \\frac{2\\pi t}{L} \\right),\\sin \\left( \\frac{3\\pi t}{L} \\right),\\ldots $$\n",
    "### form an orthogonal basis for the vector space of “all\" periodic functions of period $2L$, with\n",
    "## $$ \\begin{array} {rcl} \\langle 1,1 \\rangle & = & 2L \\\\ \\displaystyle \\langle \\cos \\left( \\frac{n\\pi t}{L}  \\right), \\cos \\left( \\frac{n\\pi t}{L} \\right) \\rangle & = & L \\\\ \\displaystyle \\langle \\sin \\left( \\frac{n\\pi t}{L}  \\right), \\sin \\left( \\frac{n\\pi t}{L} \\right) \\rangle & = & L \\end{array} $$\n",
    "### (the average value over the whole period of $\\cos^2(\\omega t)$ is $\\displaystyle \\frac{1}{2}$ for any $\\omega$, and the average value of $\\sin^2(\\omega t)$ is $\\displaystyle \\frac{1}{2}$ too).\n",
    "### This gives another way to derive the Fourier coefficient formulas for functions of period $2L$."
   ]
  },
  {
   "cell_type": "markdown",
   "id": "5db91712",
   "metadata": {},
   "source": [
    "## Summary: Fourier coefficient formulas\n",
    "\n",
    "### Fourier's theorem: “Every\" periodic function $f$ of period $2L$ is a Fourier series\n",
    "## $$ f(t) = \\frac{a_0}{2} + \\sum_{n\\geq 1} a_n \\cos \\left( \\frac{n \\pi t}{L} \\right) + \\sum_{n\\geq 1} b_n \\sin \\left( \\frac{n\\pi t}{L} \\right) $$\n",
    "### Given $f$, the Fourier coefficients $a_n$ and $b_n$ can be computed using:\n",
    "## $$ \\begin{array} {rclcl} \\displaystyle \\frac{a_0}{2} & = & \\displaystyle \\frac{1}{2L} \\int_{-L}^{L} f(t) dt & = & \\displaystyle \\frac{\\langle f(t), 1 \\rangle}{\\langle 1,1 \\rangle} \\\\ a_n & = & \\displaystyle \\frac{1}{L} \\int_{-L}^{L} f(t) \\cos \\left( \\frac{n\\pi t}{L} \\right) dt & = & \\displaystyle \\frac{\\langle f(t), \\cos \\left( \\frac{n \\pi}{L} t \\right) \\rangle}{\\langle \\cos \\left( \\frac{n\\pi}{L}t \\right), \\cos \\left( \\frac{n\\pi}{L}t  \\right) \\rangle} \\quad \\text{for all}\\,n\\geq 1 \\\\ b_n & = & \\displaystyle \\frac{1}{L} \\int_{-L}^{L} f(t) \\sin \\left( \\frac{n\\pi t}{L} \\right) dt & = & \\displaystyle \\frac{\\langle f(t), \\sin \\left( \\frac{n \\pi}{L} t \\right) \\rangle}{\\langle \\sin \\left( \\frac{n\\pi}{L}t \\right), \\sin \\left( \\frac{n\\pi}{L}t  \\right) \\rangle} \\quad \\text{for all}\\,n\\geq 1  \\end{array} $$\n",
    "### - If $f$ is even, then only the cosine terms (including the $\\displaystyle \\frac{a_0}{2}$ term) appear.\n",
    "### - If $f$ is odd, then only the sine terms appear."
   ]
  },
  {
   "cell_type": "markdown",
   "id": "d0ca5883",
   "metadata": {},
   "source": [
    "### ***Problem 8.1***\n",
    "### Define\n",
    "## $$ s(t) := \\left\\{ \\begin{array} {rcl} 8 & \\text{if} & 0 < t < 5 \\\\ 2 & \\text{if} & -5<t<0 \\end{array} \\right. $$\n",
    "### and extend it to a periodic function of period $10$. Find the Fourier series for $s(t)$.\n",
    "\n",
    "### ***Solution***: \n",
    "### One way would be to use the Fourier coefficient formulas directly. But we will instead obtain the Fourier series for $s(t)$ from the Fourier series for $\\operatorname{Sq}(t)$, by stretching and shifting.\n",
    "\n",
    "### First, stretch horizontally by a factor of $\\displaystyle \\frac{5}{\\pi}$ to get\n",
    "## $$ \\operatorname{Sq} \\left( \\frac{\\pi t}{5} \\right) = \\left\\{ \\begin{array} {rcl} 1 & \\text{if} & 0 < t < 5 \\\\ -1 & \\text{if} & -5 < t < 0 \\end{array} \\right. $$\n",
    "### Here the difference between the upper and lower values is $2$, but for $s(t)$ we want a difference of $6$, so multiply by $3$:\n",
    "## $$ 3\\operatorname{Sq} \\left( \\frac{\\pi t}{5} \\right) = \\left\\{ \\begin{array} {rcl} 3 & \\text{if} & 0 < t < 5 \\\\ -3 & \\text{if} & -5 < t < 0 \\end{array} \\right. $$\n",
    "### Finally add $5$:\n",
    "## $$ 5+3\\operatorname{Sq} \\left( \\frac{\\pi t}{5} \\right) = \\left\\{ \\begin{array} {rcl}8 & \\text{if} & 0 < t < 5 \\\\ 2 & \\text{if} & -5 < t < 0 \\end{array} \\right. $$\n",
    "### Since\n",
    "## $$ \\operatorname{Sq}(t) = \\frac{4}{\\pi} \\sum_{n\\geq1,\\, \\text{odd}} \\frac{1}{n} \\sin(nt) $$\n",
    "### we get\n",
    "## $$ \\begin{array} {rcl} s(t) & = & \\displaystyle 5 + 3 \\operatorname{Sq} \\left( \\frac{\\pi t}{5} \\right) \\\\ \\, & = & \\displaystyle 5 + 3 \\left( \\frac{4}{\\pi} \\right) \\sum_{n\\geq1,\\, \\text{odd}} \\frac{1}{n} \\sin \\left( \\frac{\\pi n t}{5} \\right) \\\\ \\, & = & \\displaystyle 5 + \\sum_{n\\geq1,\\, \\text{odd}} \\frac{12}{n\\pi} \\sin \\left( \\frac{n\\pi t}{5} \\right) \\end{array} $$ \t\t"
   ]
  },
  {
   "cell_type": "markdown",
   "id": "9780f17a",
   "metadata": {},
   "source": [
    "## When a function is defined on a finite interval (not periodic)\n",
    "\n",
    "### You can use a Fourier series expansion any time you have a function $f(t)$ defined on a finite interval $[0, L]$. First you create a periodic extension of this function defined everywhere, and then find the Fourier series of the periodic function. (In order to simplify the Fourier series, we typically choose to extend our function to be either even or odd, so that we end up with a cosine or sine series.)\n",
    "\n",
    "### ***Example 9.1***\n",
    "### Consider the function $f(t) = t^2$ defined on the interval $[0, 1]$.\n",
    "### The even periodic extension is the period $2$ function defined by\n",
    "## $$ f(t) = t^2,\\quad -1<t<1 $$\n",
    "![img](img/t2-1.png)\n",
    "### The odd periodic extension is the period $2$ function defined by\n",
    "## $$ f(t) = \\left\\{ \\begin{array} {rcl} t^2 & & 0 < t < 1 \\\\ -t^2 & & -1<t<0 \\end{array} \\right. $$\n",
    "![img](img/t2-2.png)"
   ]
  },
  {
   "cell_type": "markdown",
   "id": "bb7bb892",
   "metadata": {},
   "source": [
    "## Differentiating Fourier series\n",
    "\n",
    "### ***Key Insight***: if a function is differentiable, you can simply differentiate its Fourier series term by term to obtain the Fourier series for the derivative.\n",
    "\n",
    "### ***Note***:\n",
    "### There are many subtle, but important, questions in Fourier series that we will not cover here (but which courses such as 18.100 (Real Analysis) do, at least partially). For example: If I write some arbitrary Fourier series, how do I know if it comes from a differentiable function? If I differentiate term by term the Fourier series for a function that is not differentiable (like the square wave function), is the result the Fourier series for something?\n",
    "\n",
    "### ***Example 10.1***   \n",
    "### The Fourier series for the period $2\\pi$ triangle wave is:\n",
    "## $$ g(t) = \\frac{\\pi}{2} - \\frac{4}{\\pi}\\left(\\cos(t) + \\frac{\\cos(3t)}{3^2} + \\frac{\\cos(5t)}{5^2} + \\cdots \\right) $$\n",
    "### What is $g'(t)$?\n",
    "\n",
    "### ***Solution***\n",
    "### Differentiating the Fourier series $g(t)$ term-by-term gives\n",
    "## $$ g'(t) = \\frac{4}{\\pi} \\left( \\sin(t) + \\frac{\\sin(3t)}{3} + \\frac{\\sin(5t)}{5} + \\cdots \\right) $$\n",
    "### which is the Fourier series of the $2\\pi$-periodic square wave!"
   ]
  },
  {
   "cell_type": "markdown",
   "id": "f2cfdc92",
   "metadata": {},
   "source": [
    "## Antiderivative of a Fourier series\n",
    "\n",
    "### Suppose that $f$ is a piecewise differentiable periodic function, and that $F$ is an antiderivative of $f$. (If $f$ has jump discontinuities, one can still define  $\\displaystyle F(t) := \\int_{t}^{0} f(\\tau) d\\tau + C $, but at the jump discontinuities $F$ will be only continuous, not differentiable.)\n",
    "### The function $F$ might not be periodic. For example, if $f$ is a function of period $2$ such that\n",
    "## $$ f(t) := \\left\\{ \\begin{array} {rcl} 2 & \\text{if} & 0 < t < 1 \\\\ -1 & \\text{if} & -1<t<0 \\end{array} \\right. $$\n",
    "### then $F(t)$ creeps upward over time.\n",
    "![img](img/anti-1.png)\n",
    "### An even easier example: if $\\displaystyle f(t) = 1$, then $\\displaystyle F(t) = t + C$ for some $C$, so $F(t)$ is not periodic.\n",
    "### But if the constant term $\\displaystyle \\frac{a_0}{2}$ in the Fourier series of $f$ is $0$, then $F$ ***is*** periodic, and its Fourier series can be obtained by taking the simplest antiderivative of each cosine and sine term, and adding an overall $+C$, where $C$ is the average value of $F$."
   ]
  },
  {
   "cell_type": "markdown",
   "id": "9cd03b86",
   "metadata": {},
   "source": [
    "### ***Problem 11.1***\n",
    "### Let $T(t)$ be the triangle wave of period $2$ and amplitude $1$: so that $T(t) = |t|$ for $-1\\leq t\\leq 1$. Find the Fourier series of $T(t)$.\n",
    "\n",
    "### ***Solution***: \n",
    "### We could use the Fourier coefficient formula. But instead, notice that $T(t)$ has slope $-1$ on $(-1, 0)$ and slope $1$ on $(0, 1)$, so $T(t)$ is an antiderivative of the period $2$ square wave\n",
    "## $$ \\operatorname{Sq}(\\pi t) = \\sum_{n\\geq1, \\,\\text{odd}} \\frac{4}{n\\pi} \\sin(n\\pi t) $$\n",
    "### Taking an antiderivative termwise (and using that the average value of $T(t)$ is $\\displaystyle \\frac{1}{2}$) gives\n",
    "## $$ \\begin{array} {rcl} T(t) & = & \\displaystyle \\frac{1}{2} + \\sum_{n\\geq1, \\, \\text{odd}} \\frac{4}{n\\pi} \\left( \\frac{-\\cos(n\\pi t)}{n \\pi} \\right) \\\\ \\, & = & \\displaystyle \\frac{1}{2} - \\sum_{n\\geq1,\\,\\text{odd}}\\frac{4}{n^2\\pi^2} \\cos(n\\pi t) \\end{array} $$\n",
    "### ***Warning***:\n",
    "### If a periodic function $f(t)$ is not continuous, it will not be an antiderivative of any piecewise differentiable function, so you cannot find the Fourier series of $f(t)$ by integration.\n",
    "\n",
    "### ***Remark 11.2***\n",
    "### The Fourier series for a function with discontinuities can (formally) be differentiated term by term, but the ***result will not converge***. For example, the term-wise derivative of the Fourier series for $\\operatorname{Sq}(t)$ is\n",
    "## $$ \\frac{4}{\\pi}\\sum_{n\\,\\text{odd}}\\cos(nt) $$\n",
    "### This does not converge anywhere (since the $n$th term does not even vanish as $n\\to\\infty$). However, note that it is possible to make sense of this series, and of the anti-derivative of the square wave function, in terms of Dirac's delta functions and the theory of distributions — seen in more advanced courses than this one."
   ]
  },
  {
   "cell_type": "markdown",
   "id": "91fabb0b",
   "metadata": {},
   "source": [
    "### ***Example***\n",
    "### Find the Fourier series of the function $f(t) = t^2$ defined on $-1, 1$.\n",
    "\n",
    "### ***Solution***\n",
    "### The function $\\displaystyle f(t) = t^2, \\quad -1<t<1$ is even of period $2$. This function is continuous, so it could be the antiderivative of another function. In particular, note that $f(t)$ is the antiderivative of the period $2$ sawtooth wave $g(t) = 2t, \\quad -1<t<1$.\n",
    "### The Fourier series for the $2\\pi$-periodic sawtooth wave $W(u)$ is\n",
    "## $$ W(u) = 2\\sum_{n=1}^{\\infty} \\frac{(-1)^{n+1}}{n}\\sin(n u) $$\n",
    "### Therefore, scaling by $u=\\pi t$ so that when $u=\\pi$, we have $t=1$ we get that\n",
    "## $$ g(t) = \\frac{2}{\\pi} W(u) = \\frac{2}{\\pi} W(\\pi t) = \\frac{4}{\\pi}\\sum_{n=1}^{\\infty}\\frac{(-1)^{n+1}}{n}\\sin(n\\pi t) $$\n",
    "### Finally, to find the Fourier series for $f(t)$, we integrate the Fourier series for $g(t)$ term-by-term.\n",
    "## $$ \\begin{array} {rcl} \\displaystyle\\int g(t)dt & = & \\displaystyle\\frac{4}{\\pi}\\sum_{n=1}^{\\infty}\\int\\frac{(-1)^{n+1}}{n}\\sin(n\\pi t) dt \\\\ \\, & = & \\displaystyle\\frac{4}{\\pi}\\sum_{n=1}^{\\infty}\\frac{-(-1)^{n+1}}{n^2\\pi}\\cos(n\\pi t) dt \\\\ \\, & = & \\displaystyle\\frac{4}{\\pi^2}\\sum_{n=1}^{\\infty}\\frac{(-1)^n}{n^2}\\cos(n\\pi t) dt \\end{array} $$\n",
    "### To find the constant term, we find the average value of $f(t)$ on the interval $-1<t<1$.\n",
    "## $$ \\frac{a_0}{2} = \\frac{\\displaystyle\\int_{-1}^{1}t^2dt}{1-(-1)} = \\frac{1}{2} \\left( \\frac{1-(-1)}{3} \\right) = \\frac{1}{3} $$"
   ]
  },
  {
   "cell_type": "markdown",
   "id": "2c2a96c8",
   "metadata": {},
   "source": [
    "## Complex Fourier series\n",
    "\n",
    "### Here's an idea: Euler's formula\n",
    "## $$ e^{it} = \\cos(t) + i \\sin(t) $$ \t\t \t \n",
    "### tells us that complex exponentials can be written as a sum of a sine and a cosine function. This suggests that we might be able to write a Fourier series\n",
    "## $$ \\frac{a_0}{2} + \\sum_{n=1}^{\\infty} \\left( a_n \\cos(nt) + b_n \\sin(nt) \\right) $$\n",
    "### with real coefficients $a_n$ and $b_n$ as a series of complex exponentials $\\displaystyle \\sum_{n=-\\infty}^{\\infty} c_n e^{i n t}$, for some ***complex coefficients*** $c_n$. As it turns out, this is true, that is, we can always write a Fourier series in terms of complex exponentials. Since the two series turn out to be equal, we'll also call the series in terms of complex exponentials a Fourier series.\n",
    "### So let's walk through the process of converting a series of the form\n",
    "## $$ \\frac{a_0}{2}+\\sum_{n=1}^{\\infty}\\left(a_n\\cos(nt)+b_n\\sin(nt) \\right) $$\n",
    "### to a series of the form\n",
    "## $$ \\sum_{n=-\\infty}^{\\infty} c_n e^{i n t} $$\n",
    "\n",
    "### ***Step 1: Rewriting the sum***.\n",
    "### Using Euler's formula and the fact that $\\sin(t)$ is an odd function and  is an even function, we notice that\n",
    "## $$ \\sin(t) = \\frac{i}{2} \\left( e^{-it} - e^{it} \\right) $$\n",
    "### and\n",
    "## $$ \\cos(t) = \\frac{1}{2} \\left( e^{it} + e^{-it} \\right) $$\t \t \n",
    "### Then we see that given any Fourier series $f$, we can write\n",
    "## $$ \\begin{array} {rcl} f(t) & = & \\displaystyle \\frac{a_0}{2} + \\sum_{n=1}^{\\infty} \\left( a_n \\cos(nt) + b_n \\sin(nt) \\right) \\\\ \\, & = & \\displaystyle \\frac{a_0}{2} + \\sum_{n=1}^{\\infty}\\left( \\frac{a_n}{2}(e^{int}+e^{-int}) + \\frac{i b_n}{2}(e^{-int}-e^{int}) \\right) \\\\ \\, & = & \\displaystyle \\frac{a_0}{2} + \\frac{1}{2} \\sum_{n=1}^{\\infty}\\left( (a_n-i b_n)e^{int}+(a_n+i b_n)e^{-int} \\right) \\end{array} $$\n",
    "\n",
    "### ***Step 2: Defining coefficients***.\n",
    "### We can see that $f$ can be written as a sum of complex exponentials. Let's write the coefficients of these exponentials nicely so that we can easily convert back and forth between the two forms. \n",
    "### Define $\\displaystyle c_0 := \\frac{a_0}{2}$. For $n>0$, define\n",
    "## $$ c_n := \\frac{a_n - ib_n}{2} $$\n",
    "### and\n",
    "## $$ c_{-n} := \\overline{c_n} = \\frac{a_n + ib_n}{2} $$\t \t \n",
    "### Then we can write $f$ compactly as\n",
    "## $$ f(t) = \\sum_{n=-\\infty}^{\\infty} c_n e^{int} $$\n",
    "\n",
    "### ***Step 3: Relating coefficients to inner products***.\n",
    "### ***Remark about inner products***:\n",
    "### Note that for real valued $2\\pi$-periodic functions $f$ and $g$ we define an inner product as\n",
    "## $$ \\langle f, g \\rangle = \\int_{-\\pi}^{\\pi} f \\cdot g dt $$\n",
    "### If $f$ and $g$ are complex valued functions, we must define the inner product as\n",
    "## $$ \\langle f, g \\rangle = \\int_{-\\pi}^{\\pi} f \\cdot \\overline{g} dt $$\n",
    "### where $\\overline{g}$ is the complex conjugate of $g$."
   ]
  },
  {
   "cell_type": "markdown",
   "id": "43d8c2b6",
   "metadata": {},
   "source": [
    "### ***Example 13.1***\n",
    "## $$ \\langle e^{int}, e^{int} \\rangle = \\int_{-\\pi}^{\\pi} e^{int} \\cdot e^{-int} dt = \\int_{-\\pi}^{\\pi} dt = 2\\pi $$\n",
    "### If $m\\neq n$,\n",
    "## $$ \\begin{array} {rcl} \\langle e^{int}, e^{imt} \\rangle & = & \\displaystyle \\int_{-\\pi}^{\\pi} e^{int} \\cdot e^{-imt} dt \\\\ \\, & = & \\displaystyle \\int_{-\\pi}^{\\pi} e^{i(n-m)t} dt \\\\ \\, & = & \\displaystyle \\left. \\frac{e^{i(n-m)t}}{i(n-m)} \\right|_{-\\pi}^{\\pi} \\\\ \\, & = & \\displaystyle \\frac{e^{i(n-m)\\pi}-e^{-i(n-m)\\pi}}{i(n-m)} \\\\ \\, & = & \\displaystyle \\frac{2}{n-m}\\sin((n-m)\\pi) = 0 \\end{array} $$ \t \n",
    "### Therefore the $e^{int}$ are orthogonal.\n",
    "### In particular, notice that for $n>0$, we can compute $c_n$ by the formula\n",
    "## $$ c_n = \\frac{\\langle f, e^{int} \\rangle}{\\langle e^{int}, e^{int} \\rangle} $$\n",
    "### This definition is in agreement with the definition of $\\displaystyle c_n = \\frac{a_n-ib_n}{2}$. \n",
    "\n",
    "### Lets check this\n",
    "### Notice that for $n>0$,\n",
    "## $$ \\begin{array} {rcl} c_n & = & \\displaystyle\\frac{a_n-ib_n}{2} \\\\ \\, & = & \\displaystyle \\frac{1}{2} \\left( \\frac{1}{\\pi} \\int_{-\\pi}^{\\pi} f(t) \\cos(nt) dt - \\frac{i}{\\pi} \\int_{-\\pi}^{\\pi} f(t) \\sin(nt) dt \\right) \\\\ \\, & = & \\displaystyle \\frac{1}{2\\pi} \\int_{-\\pi}^{\\pi} f(t) \\left( \\cos(nt) - i\\sin(nt) \\right) dt \\\\ \\, & = & \\displaystyle \\frac{1}{2\\pi} \\int_{-\\pi}^{\\pi} f(t) \\left( \\cos(-nt) + i\\sin(-nt) \\right) dt \\\\ \\, & = & \\displaystyle \\int_{-\\pi}^{\\pi} f(t) e^{-int} dt \\\\ \\, & = & \\displaystyle \\frac{1}{2\\pi} \\langle f, e^{int} \\rangle \\\\ \\, & = & \\displaystyle \\frac{\\langle f, e^{int} \\rangle}{\\langle e^{int}, e^{int} \\rangle} \\end{array} $$\n",
    "### An analagous computation shows that for any $n$,\n",
    "## $$ c_n = \\frac{1}{2\\pi} \\int_{-\\pi}^{\\pi} f(t) e^{-int} dt = \\frac{\\langle f, e^{int} \\rangle}{\\langle e^{int}, e^{int} \\rangle} $$\n",
    "\n",
    "### ***Key properties of complex Fourier series***\n",
    "### - Often integrals involving complex exponentials are actually much easier to compute than integrals involving sines and cosines.\n",
    "### - We can also make sense of Fourier series of complex-valued functions more easily in this setting."
   ]
  },
  {
   "cell_type": "markdown",
   "id": "65a85d59",
   "metadata": {},
   "source": [
    "## The coefficients of the complex Fourier series\n",
    "\n",
    "### The coefficients of the complex Fourier series, $c_n$, are complex numbers. To visualize them, we typically look at the magnitudes $|c_n|$, which are real. For example, suppose we have a real, $2\\pi$-periodic signal, such as the square wave.\n",
    "### ***Figure 8***: The Square wave with period $2\\pi$.\n",
    "![img](img/complex-1.png)\n",
    "### Then we can visualize the coefficients $|c_n|$ graphically as follows.\n",
    "### ***Figure 9***: The frequencies  are displayed along the horizontal axis. Magnitudes of the coefficients  are plotted on the vertical axis.\n",
    "![img](img/complex-2.png)\n",
    "### The horizontal axis represents the frequency $\\displaystyle \\frac{\\omega_n}{2\\pi}$, and the height of each bar represents the magnitude of each coefficient $c_n$. Because the signal is real, $|c_n| = |c_{-n}|$, hence the graph is symmetric about $n=0$.\n",
    "\n",
    "### To understand what this graph is telling us, remember that a sinusoid of frequency $\\omega$ can be written in three equivalent ways.\n",
    "### Recall that\n",
    "## $$ \\operatorname{Re}(ce^{i\\theta}) = \\operatorname{Re}(\\overline{c}e^{-i\\theta}) = A\\cos(\\theta - \\phi) $$\n",
    "## $$ |c| = A, \\quad \\operatorname{Arg}(c) = -\\phi $$\n",
    "### (This was discussed in the lecture on sinusoids in course 1 Introduction to Differential Equations.)\n",
    "### Therefore\n",
    "## $$ ce^{i\\theta} + \\overline{c}e^{-i\\theta} = 2A\\cos(\\theta-\\phi) $$\n",
    "### and\n",
    "## $$ \\begin{array} {rcl} \\displaystyle \\sum_{n=-\\infty}^{\\infty} c_n e^{i\\omega_n t} & = & \\displaystyle c_0 + \\sum_{n=1}^{\\infty} \\left( c_n e^{i\\omega_n t} + \\overline{c_n} e^{-\\omega_n t} \\right) \\\\ \\, & = & c_0 + \\sum_{n=1}^{\\infty} 2 A_n \\cos(\\omega_n t - \\phi_n) \\end{array} $$ \t\t\t \t \n",
    "### Therefore by knowing the magnitudes of the coefficients $|c_n|$, we know the amplitudes of the terms $A_n$, but we lose the information about the phase shifts $\\phi_n$.\n",
    "\n",
    "### When we are interested in real signals that are coming from the sound of a single note, losing the information about the phase shift is OK. The reason being that we cannot actually discern phase shifts in sound signals. So this loss of information is not detrimental to our understanding of the signal.\n"
   ]
  },
  {
   "cell_type": "markdown",
   "id": "f540ad2c",
   "metadata": {},
   "source": [
    "### Verify to yourself that you cannot hear phase shifts using the mathlet below.\n",
    "### 1. Create a real signal. Set values of $|c_n|$, and make sure that $|c_{-n}|=|c_n|$ by clicking the box \"f(t) real\" in the upper left corner.\n",
    "### 2. By default all of the phase shifts are zero. You can change the phase shifts for each $c_n$ using the sliders in the bottom screen.\n",
    "### 3. Press play. Manipulate the phase shifts and see if you can hear any difference in the sound signal!"
   ]
  },
  {
   "cell_type": "code",
   "execution_count": 7,
   "id": "ead73919",
   "metadata": {
    "jupyter": {
     "source_hidden": true
    }
   },
   "outputs": [
    {
     "data": {
      "text/html": [
       "<iframe width=\"850\" height=\"650\" src=\"https://mathlets1803.surge.sh/fourierCoefficientsComplex.html\" title=\"YouTube video player\" frameborder=\"0\" allow=\"accelerometer; autoplay; clipboard-write; encrypted-media; gyroscope; picture-in-picture\" allowfullscreen></iframe>\n"
      ],
      "text/plain": [
       "<IPython.core.display.HTML object>"
      ]
     },
     "metadata": {},
     "output_type": "display_data"
    }
   ],
   "source": [
    "%%html\n",
    "<iframe width=\"850\" height=\"650\" src=\"https://mathlets1803.surge.sh/fourierCoefficientsComplex.html\" title=\"YouTube video player\" frameborder=\"0\" allow=\"accelerometer; autoplay; clipboard-write; encrypted-media; gyroscope; picture-in-picture\" allowfullscreen></iframe>"
   ]
  },
  {
   "cell_type": "markdown",
   "id": "4787a26c",
   "metadata": {},
   "source": [
    "## Generalizing Fourier series: The Fourier transform\n",
    "\n",
    "### So far, we have only worked with periodic functions and signals. In the real world, signals may not be periodic.\n",
    "\n",
    "### ***Example 15.1***\n",
    "### The function $f(t) = e^{-t^2}$ is a non periodic function that is important in probability and differential equations.\n",
    "\n",
    "### ***Example 15.2***\n",
    "### Sound signals are not truly periodic as the signal exists for finite time.\n",
    " \n",
    "### ***Figure 12***: A sound wave coming from a narration of text.\n",
    "![img](img/signal-1.png)\n",
    "\n",
    "### Below let's generalize the method of Fourier series to non-periodic signals. This is known as the Fourier transform.\n",
    "### Suppose you have a radio signal, sound wave, or other signal $f(t)$ with period $2L$. Then we can write the signal in the form\n",
    "## $$ f(t) = \\sum_{k=-\\infty}^{\\infty} c_k e^{(ik\\pi/L)t} $$\n",
    "### where the $c_k$ are the coefficients determined by\n",
    "## $$ c_k = \\frac{1}{2L} \\int_{-L}^{L} f(t) e^{-(ik\\pi/L)t} dt $$\n",
    "### We can think of a non-periodic signal as the limit as $L$ goes to infinity of a periodic signal of period $2L$. As $L$ increases, the spacing between the frequencies in our sum are approaching zero. This turns the sum into an integral in the limit, and we have the equations:\n",
    "## $$ \\begin{array} {rcl} f(t) & = & \\displaystyle \\int_{-\\infty}^{\\infty} \\widehat{f}(k) e^{ikt} dk \\\\ \\widehat{f}(k) & = & \\displaystyle \\frac{1}{2\\pi} \\int_{-\\infty}^{\\infty} f(t) e^{-ikt} dt \\end{array} $$\n",
    "### We call $\\widehat{f}(k)$ the ***Fourier transform*** of $f(t)$.\n",
    "\n",
    "### Note that the continuous function $\\widehat{f}(k)$ replaces the discrete coefficients $c_k$. So now $f(t)$ can be composed of a continuous infinite sum (an integral) of complex sinusoids $e^{ikt}$ with the weights being given by the $\\widehat{f}(k)$ function."
   ]
  },
  {
   "cell_type": "markdown",
   "id": "84d8d9e1",
   "metadata": {},
   "source": [
    "## A derivation of Fourier transform\n",
    "### The following argument does not constitute proof, but does show you how the formula for the Fourier transform arises. We leave out some technical conditions related to the convergence of the finite Fourier series and improper integral of $f(t)$ (the function $f(t)$ satisfies the Dirichlet conditions on every finite interval and $\\displaystyle \\int_{-\\infty}^{\\infty} |f(x)| dx$ is finite).\n",
    "### Start with\n",
    "## $$ f(t) = \\sum_{k=-\\infty}^{\\infty} c_k e^{i\\frac{k\\pi}{L}t} $$\n",
    "### and make a change of variable so that $\\displaystyle\\omega_k = \\frac{k\\pi}{L}$, and $\\displaystyle\\omega_{k+1}-\\omega_k = \\frac{\\pi}{L} = \\Delta \\omega$. The Fourier series can be rewritten as the following, where the dummy variable $t$ has been replaced by $u$ in the equation for $c_k$ to avoid confusion.\n",
    "## $$ \\begin{array} {rcl} f(t) & = & \\displaystyle \\sum_{n=-\\infty}^{\\infty} c_k e^{i\\omega_k t} \\\\ c_k & = & \\displaystyle \\frac{1}{2L} \\int_{-L}^{L} f(t) e^{-i\\omega_k t} dt \\\\ \\, & = & \\displaystyle \\frac{1}{2L} \\int_{-L}^{L} f(u) e^{-i \\omega_k u} du \\end{array} $$\n",
    "### Substituting the expression for $c_k$ into the formula for $f(t)$ and using the fact that $\\displaystyle \\frac{1}{2L} = \\frac{\\Delta \\omega}{2\\pi}$, we get\n",
    "## $$ \\begin{array} {rcl} f(t) & = & \\displaystyle\\sum_{k=-\\infty}^{\\infty} \\left[ \\frac{\\Delta \\omega}{2\\pi} \\int_{-L}^{L} f(u) e^{-i\\omega_k u} du \\right] e^{i\\omega_k t} \\\\ \\, & = & \\displaystyle \\sum_{k=-\\infty}^{\\infty} \\frac{\\Delta \\omega}{2\\pi} \\int_{-L}^{L} f(u) e^{-i\\omega_k u}e^{i\\omega_k t} du \\end{array} $$\n",
    "### Now take the limit as $L$ tends to $\\infty$. We obtain\n",
    "## $$ \\begin{array} {rcl} \\displaystyle\\lim_{L\\to\\infty} \\sum_{k=-\\infty}^{\\infty} \\frac{\\Delta \\omega}{2\\pi} \\int_{-L}^{L} f(u) e^{-i\\omega_k u} e^{i\\omega_k t} du & = & \\displaystyle \\int_{-\\infty}^{\\infty} \\frac{d\\omega}{2\\pi}\\int_{-\\infty}^{\\infty} f(u) e^{-i\\omega u}e^{i\\omega t} du \\\\ \\, & = & \\displaystyle \\int_{-\\infty}^{\\infty} \\frac{1}{2\\pi} \\int_{-\\infty}^{\\infty}f(u) e^{-i\\omega u}e^{i\\omega t} du d\\omega \\\\ \\, & = & \\displaystyle \\int_{-\\infty}^{\\infty} \\left( \\frac{1}{2\\pi} \\int_{-\\infty}^{\\infty} f(u) e^{-i\\omega u} du \\right) e^{i\\omega t} d\\omega \\end{array} $$\n",
    "### Define\n",
    "## $$ \\widehat{f}(\\omega) = \\frac{1}{2\\pi} \\int_{-\\infty}^{\\infty} f(u) e^{-i\\omega u} du = \\frac{1}{2\\pi} \\int_{-\\infty}^{\\infty} f(t) e^{-i\\omega t} dt $$\n",
    "### then it follows that\n",
    "## $$ f(t) = \\int_{-\\infty}^{\\infty} \\widehat{f}(\\omega) e^{i\\omega t} d\\omega $$\n",
    "### In practice, the above Fourier transform is often a starting point for analysis of signals. However, discrete Fourier series are sufficient approximations in many cases. You'll likely encounter a Fourier transform in other courses. See for example 18.103, 18.303, 18.311, 18.353, and 18.354."
   ]
  },
  {
   "cell_type": "markdown",
   "id": "ac16d189",
   "metadata": {},
   "source": []
  }
 ],
 "metadata": {
  "kernelspec": {
   "display_name": "Python 3",
   "language": "python",
   "name": "python3"
  },
  "language_info": {
   "codemirror_mode": {
    "name": "ipython",
    "version": 3
   },
   "file_extension": ".py",
   "mimetype": "text/x-python",
   "name": "python",
   "nbconvert_exporter": "python",
   "pygments_lexer": "ipython3",
   "version": "3.6.15"
  }
 },
 "nbformat": 4,
 "nbformat_minor": 5
}
