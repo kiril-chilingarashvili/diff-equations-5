{
 "cells": [
  {
   "cell_type": "markdown",
   "id": "853dde42-3d95-4a23-aa24-7739de95aee7",
   "metadata": {},
   "source": [
    "# Unit 3: Partial Differential Equations (part b)"
   ]
  },
  {
   "cell_type": "markdown",
   "id": "8541ac95-a7f6-4ade-9cf7-ee88c4d02092",
   "metadata": {},
   "source": [
    "## Modeling transverse waves\n",
    "\n",
    "### The wave equation is a PDE that models light waves, sound waves, waves along a string, etc.\n",
    "\n",
    "## ***Problem 2.1***\n",
    "### Model a vibrating guitar string.\n",
    "\n",
    "### ***Variables and functions***: Define\n",
    "\n",
    "### $L$ length of the string\n",
    "### $\\mu$ mass per unit length\n",
    "### $T$ ***magnitude*** of the tension force\n",
    "### $t$ time\n",
    "### $x$ position along the string (from $0$ to $L$)\n",
    "### $u$ vertical displacement of a point on the string\n",
    "\n",
    "### Here\n",
    "\n",
    "### - $L, \\mu, T$ are constants;\n",
    "### - $t, x$ are independent variables; and\n",
    "### - $u=u(x, t)$ is a function defined for $x\\in[0,L]$ and $t\\geq 0$. The vertical displacement is measured relative to the equilibrium position in which the string makes a straight line.\n",
    "\n",
    "### At any given time $t$, the string is in the shape of the graph of $u(x, t)$ as a function of $x$.\n",
    "### ***Assumption***: The string is taut, so the vertical displacement of the string is small, and the slope of the string at any point is small.\n",
    "### Consider the piece of string between positions $x$ and $x+\\Delta x$. Let $\\theta$ be the (small) angle formed by the string and the horizontal line at position $x$, and let $\\theta+\\Delta \\theta$ be the same angle at position $x+\\Delta x$.\n",
    "![img](img/string.png)\n",
    "\n",
    "### ***Derivation of the Wave Equation***\n",
    "### Newton's second law says that $m \\alpha = \\bf{F}$. Taking the vertical component of each side gives\n",
    "## $$ \\begin{array} {rcl} \\displaystyle \\underbrace{\\mu dx}_{{\\color{red}{\\text{mass}}}} \\underbrace{\\frac{\\partial^2 u}{\\partial t^2}}_{{\\color{red}{\\text{acceleration}}} } & = & \\displaystyle \\underbrace{T\\sin(\\theta+d\\theta)-T\\sin(\\theta)}_{{\\color{red}{\\text{vertical component of force}}}} \\\\ \\, & = & \\displaystyle T d(\\sin(\\theta)) \\end{array} $$\n",
    "### Side calculation:\n",
    "## $$ \\begin{array} {rcl} \\displaystyle d(\\sin(\\theta)) & = & \\displaystyle \\cos(\\theta)d\\theta \\\\ \\displaystyle d(\\tan(\\theta)) & = & \\displaystyle \\frac{1}{\\cos^2(\\theta)} d\\theta \\end{array} $$\t\t \t \n",
    "### but $\\displaystyle \\cos(\\theta) = 1-\\frac{\\theta^2}{2!} + \\cdots \\approx 1$, so up to a factor that is very close to $1$ (because we are assuming $\\theta$ is small), we get\n",
    "## $$ d(\\sin(\\theta)) \\approx d \\underbrace{\\tan(\\theta)}_{{\\color{red}{\\text{slope of string}}}} = d\\left(\\frac{\\partial u}{\\partial x}\\right) $$\n",
    "### Substituting this in gives\n",
    "## $$ \\mu dx \\frac{\\partial^2 u}{\\partial t^2} \\approx T d\\left(\\frac{\\partial u}{\\partial x}\\right) $$\t \t \n",
    "### Divide by $\\mu dx$ to get\n",
    "## $$ \\begin{array} {rcl} \\displaystyle \\frac{\\partial^2 u}{\\partial t^2} & \\approx & \\displaystyle T \\mu^{-1}\\frac{d\\left(\\frac{\\partial u}{\\partial x}\\right)}{dx} \\\\ \\, & \\approx & \\displaystyle T\\mu^{-1}\\frac{\\partial^2 u}{\\partial x^2} \\end{array} $$\n",
    "### If we define a new constant $c:= \\sqrt{T\\mu^{-1}}$, then this becomes the\n",
    "## $$ {\\color{orange}{\\text{wave equation:}}} \\quad \\frac{\\partial^2 u}{\\partial t^2} = c^2 \\frac{\\partial^2 u}{\\partial x^2} $$\n",
    "### ***Note about dimensions***: Observe that $T$ is a force, so it has dimension of mass times length over time squared $[mL/t^2]$. And $\\mu$ is a mass per unit length $[m/L]$. So the constant $c=\\sqrt{T\\mu^{-1}}$ has dimension of $[L/t]$ velocity.\n",
    "\n",
    "### The resulting equation describing the evolution of the wave over time is given by the following PDE:\n",
    "## $$ {\\color{orange}{\\text{wave equation:}}} \\quad \\frac{\\partial^2 u}{\\partial t^2} = c^2 \\frac{\\partial^2 u}{\\partial x^2} $$\n",
    "### This makes sense intuitively, since at places where the graph of the string is concave up $\\displaystyle \\left( \\frac{\\partial^2 u}{\\partial t^2} > 0 \\right)$ the tension pulling on both sides should combine to produce an upward force, and hence an upward acceleration.\n",
    "\n",
    "### Comparing units of both sides of the wave equation shows that the units for $c$ are $m/s$. The physical meaning of $c$ as a velocity will be explained later.\n",
    "\n",
    "### The ends of a guitar string are fixed, so we have boundary conditions\n",
    "## $$ \\begin{array} {rcl} u(0, t) & = & 0\\quad\\text{for all}\\, t\\geq 0 \\\\ u(L, t) & = & 0\\quad\\text{for all}\\, t\\geq 0 \\end{array} $$"
   ]
  },
  {
   "cell_type": "markdown",
   "id": "2bf50d21-f6fd-4df1-ba05-8ef5be955726",
   "metadata": {},
   "source": []
  }
 ],
 "metadata": {
  "kernelspec": {
   "display_name": "Python 3",
   "language": "python",
   "name": "python3"
  },
  "language_info": {
   "codemirror_mode": {
    "name": "ipython",
    "version": 3
   },
   "file_extension": ".py",
   "mimetype": "text/x-python",
   "name": "python",
   "nbconvert_exporter": "python",
   "pygments_lexer": "ipython3",
   "version": "3.8.8"
  }
 },
 "nbformat": 4,
 "nbformat_minor": 5
}
