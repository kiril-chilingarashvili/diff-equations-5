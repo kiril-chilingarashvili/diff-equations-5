{
 "cells": [
  {
   "cell_type": "markdown",
   "id": "545b41ec-e832-41c9-b42f-85db8081c0d5",
   "metadata": {},
   "source": [
    "# Unit 2: Differential equations revisited"
   ]
  },
  {
   "cell_type": "markdown",
   "id": "17fef308-f637-4ac7-a8e2-9353c85c0cf6",
   "metadata": {},
   "source": [
    "## Review the exponential response formula\n",
    "\n",
    "### Recall that the exponential response formula gives us a quick method for finding the particular solution to any linear, constant coefficient, differential equations whose input can be expressed in terms of an exponential function.\n",
    "\n",
    "### ***The exponential response formula (ERF)***: \n",
    "### Let $P$ be a polynomial with real, constant coefficients, $\\displaystyle D=\\frac{d}{dt}$ a differential operator, and $r$ a (real or complex) number. If $P(r)\\neq 0$, then a particular solution to the inhomogeneous differential equation\n",
    "## $$ p(D)y = e^{rt} \\quad \\text{is given by} \\quad y_p = \\frac{e^{rt}}{P(r)} $$\n",
    "\n",
    "### ***Caveat***:\n",
    "### If $\\displaystyle P(r) = P'(r) = P''(r) = \\ldots = P^{(k-1)}(r) = 0$, but $P^{(k)}(r) \\neq 0$, then a particular solution to $P(D)y = e^{rt}$ is given by\n",
    "## $$ y_p = \\frac{t^k e^{rt}}{P^{(k)}}(r) $$\n",
    "\n",
    "### ***Sinusoidal input***:\n",
    "## $$ \\begin{array} {rcl} P(D)x = \\cos(\\omega t) & \\text{is the real part of} & P(D)z = e^{i\\omega t} \\\\ P(D)x = \\sin(\\omega t) & \\text{is the imaginary part of} & P(D)z = e^{i\\omega t} \\end{array} $$\n",
    "\n",
    "### Therefore\n",
    "### - a particular solution to $\\displaystyle P(D)x = \\cos(\\omega t)$ is given by $\\displaystyle x_p = \\operatorname{Re} \\left[ \\frac{e^{i\\omega t}}{P(i\\omega)} \\right]$;\n",
    "### - a particular solution to $\\displaystyle P(D)x = \\sin(\\omega t) $ is given by $\\displaystyle x_p = \\operatorname{Im}\\left[ \\frac{e^{i\\omega t}}{P(i\\omega)} \\right]$."
   ]
  },
  {
   "cell_type": "markdown",
   "id": "bfa71de0-c362-41ba-9e8f-c0fa88fdfa13",
   "metadata": {},
   "source": [
    "## Application of Fourier series\n",
    "\n",
    "### ***Problem 3.1***\n",
    "### Suppose that $f(t)$ is an odd periodic function of period $2\\pi$. Find the periodic function $x(t)$ of period $2\\pi$ that is a solution to\n",
    "## $$ \\ddot{x}+50 x = f(t) $$\n",
    "### Think of $f(t)$ as the input signal, and the solution $x(t)$ as the system response (output signal).\n",
    "\n",
    "### ***Special case***: What is the system response to the input signal $\\sin(nt)$? In other words, what is a solution to\n",
    "## $$ \\ddot{x} + 50x = \\sin(\\omega t) $$\n",
    "### with the same (smallest) period as $\\sin(nt)$?\n",
    "\n",
    "### ***Solution***: \n",
    "### First find the response to $e^{int}$, and then take the imaginary part. In other words, we first solve\n",
    "## $$ \\ddot{z} + 50z = e^{int} $$\n",
    "### The characteristic polynomial is $\\displaystyle P(r) = r^2+50$, so by ERF, the system response to $e^{int}$ is\n",
    "## $$ z = \\frac{e^{int}}{P(in)} = \\frac{e^{int}}{50-n^2} $$\n",
    "### The complex gain is $\\displaystyle \\frac{1}{50-n^2} $. Then\n",
    "## $$ x = \\operatorname{Im}\\left[ \\frac{e^{int}}{50-n^2} \\right] = \\frac{\\sin(nt)}{50-n^2} $$\n",
    "### is the system response to $\\sin(nt)$. \n",
    "### This explains all the rows of the table below except the last row.\n",
    "\n",
    "## $$ \\begin{array} {cc} \\text{Input Signal} & \\text{System Response} \\\\ \\displaystyle e^{int} & \\displaystyle\\frac{e^{int}}{50-n^2} \\\\ \\displaystyle\\sin(nt) & \\displaystyle\\frac{\\sin(nt)}{50-n^2} \\\\ \\displaystyle\\sin(t) & \\displaystyle\\frac{\\sin(t)}{49} \\\\ \\displaystyle\\sin(2t) & \\displaystyle\\frac{\\sin(2t)}{46} \\\\ \\displaystyle\\sin(3t) & \\displaystyle\\frac{\\sin(nt)}{41} \\\\ \\displaystyle\\vdots & \\displaystyle\\vdots \\\\ \\displaystyle\\sum_{n\\geq 1}b_n\\sin(nt) & \\displaystyle\\sum_{n\\geq 1}\\frac{b_n \\sin(nt)}{50-n^2} \\end{array} $$"
   ]
  },
  {
   "cell_type": "markdown",
   "id": "5826bdf9-fade-4ae2-af66-c3b45f484282",
   "metadata": {},
   "source": [
    "## System response\n",
    "\n",
    "### Now let's return to the original problem. Suppose that the input signal $\\displaystyle f$ is an odd periodic function of period $2\\pi$. Since $f$ is odd, the Fourier series of $f$ is a linear combination of sine functions\n",
    "## $$ f(t) = b_1 \\sin(t) + b_2\\sin(2t)+b_3\\sin(3t)+\\cdots $$\n",
    "### Let $f(t)$ be the input of the system\n",
    "## $$ \\ddot{x}+50x = f(t) $$\n",
    "### By the superposition principle, the system response to $f(t)$ is\n",
    "## $$ x(t) = b_1\\frac{1}{49}\\sin(t) + b_2\\frac{1}{46}\\sin(2t)+b_3\\frac{1}{41}\\sin(3t)+\\cdot $$\n",
    "### Note that each Fourier component $\\sin(nt)$ has a different gain: the gain depends on the frequency.\n",
    "\n",
    "### One could write a particular solution using sigma-notation:\n",
    "## $$ \\boxed{ x_p(t) = \\sum_{n\\geq 1} \\frac{1}{50-n^2}b_n \\sin(nt) } $$\n"
   ]
  },
  {
   "cell_type": "markdown",
   "id": "d70b5a79-7c9b-4bb3-b1e5-d41e60cfe2d6",
   "metadata": {},
   "source": []
  }
 ],
 "metadata": {
  "kernelspec": {
   "display_name": "Python 3",
   "language": "python",
   "name": "python3"
  },
  "language_info": {
   "codemirror_mode": {
    "name": "ipython",
    "version": 3
   },
   "file_extension": ".py",
   "mimetype": "text/x-python",
   "name": "python",
   "nbconvert_exporter": "python",
   "pygments_lexer": "ipython3",
   "version": "3.8.8"
  }
 },
 "nbformat": 4,
 "nbformat_minor": 5
}
