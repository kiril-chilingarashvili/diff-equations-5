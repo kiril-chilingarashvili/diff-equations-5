{
 "cells": [
  {
   "cell_type": "markdown",
   "id": "6a33b50f-16a9-4c6b-a386-24a521c3235f",
   "metadata": {},
   "source": [
    "## Unit 3: Partial Differential Equations"
   ]
  },
  {
   "cell_type": "markdown",
   "id": "c573bc46-3b66-49ed-ae3e-6e9c403df63d",
   "metadata": {},
   "source": [
    "## Introduction to the Heat Equation\n",
    "\n",
    "### In this section we meet our first partial differential equation (PDE)\n",
    "## $$ \\frac{\\partial \\theta}{\\partial t} = \\nu \\frac{\\partial^2\\theta}{\\partial x^2} $$\n",
    "### This is the equation satisfied by the temperature $\\theta(x,t)$ at position $x$ and time $t$ of a bar depicted as a segment,\n",
    "## $$ 0 \\leq x\\leq L,\\quad t\\geq 0 $$\n",
    "![img](img/barline-1.png)\n",
    "### The constant $\\nu$ is the heat diffusion coefficient, which depends on the material of the bar.\n",
    "\n",
    "### We will focus on one physical experiment. Suppose that the initial temperature is $1$, and then the ends of the bar are put in ice. We write this as\n",
    "## $$ \\begin{array} {rcl} {\\color{orange}{\\theta(x,0)=1,\\quad 0\\leq x \\leq L}} & & \\\\ {\\color{red}{\\theta(0,t)=0,\\quad t>0}} & & \\\\ {\\color{red}{\\theta(L, t), \\quad t>0}} \\end{array} $$\n",
    "### The value(s) of $\\theta=1$ at $t=0$ are called ***initial conditions***. The values at the ends are called ***endpoint or boundary conditions***. We think of the initial and endpoint values of $\\theta$ as the input, and the temperature $\\theta(x,t)$ for $t>0, 0<x<L$,  as the response.\n",
    "\n",
    "### ***Remark 2.1***\n",
    "### For simplicity, we assume that only the ends are exposed to the lower temperature. The rest of the bar is insulated, not subject to any external change in temperature. Fourier's techniques also yield answers even when there is heat input over time at other points along the bar.\n",
    "\n",
    "### As time passes, the temperature decreases as cooling from the ends spreads toward the middle. At the midpoint, $L/2$, one finds Newton's law of cooling,\n",
    "## $$ \\theta(L/2, t) \\approx c e^{0t/\\tau},\\quad t> \\tau $$\n",
    "### The so-called [characteristic time](https://en.wikipedia.org/wiki/Time_constant#Thermal_time_constant) $\\tau$ is inversely proportional to the conductivity of the material and is proportional to the material thermal capacitance. If we choose units so that $\\tau=1$ for copper, then according to Wikipedia,\n",
    "## $$ \\tau \\sim 7 \\quad (\\text{cast iron});\\quad \\tau \\sim 7000 (\\text{dry snow}) $$\n",
    "### The constant $c$, on the other hand, is ***universal***:\n",
    "## $$ c = \\frac{4}{\\pi} \\approx 1.3 $$\n",
    "### It depends only on the fact that the shape is a bar (modeled as a line segment).\n",
    "\n",
    "### Fourier figured out not only how to explain $c$ using differential equations, but the whole\n",
    "## $$ {\\color{red}{\\text{temperature profle:}}} \\quad \\theta(x,t) \\approx e^{-t/\\tau} h(x);\\quad h(x) = \\frac{4}{\\pi} \\sin\\left(\\frac{\\pi}{L}x\\right),\\quad t>\\tau $$\n",
    "### The shape of $h$ shows that the temperature drop is less in the middle than at the ends. It's natural that $h$ should be some kind of hump, symmetric around $L/2$."
   ]
  },
  {
   "cell_type": "markdown",
   "id": "d6eabc14-3bb9-4877-b980-cd88d1c6e56c",
   "metadata": {},
   "source": [
    "### ***Heat Equation mathlet***"
   ]
  },
  {
   "cell_type": "code",
   "execution_count": 1,
   "id": "a4c5f7b3-d2b2-4452-99de-e95ba0c2601c",
   "metadata": {
    "jupyter": {
     "source_hidden": true
    },
    "tags": []
   },
   "outputs": [
    {
     "data": {
      "text/html": [
       "<iframe width=\"900\" height=\"650\" src=\"https://1803mathlets.netlify.app/heatequation\" title=\"Mathlet\" frameborder=\"0\" allow=\"accelerometer; autoplay; clipboard-write; encrypted-media; gyroscope; picture-in-picture\" allowfullscreen></iframe> \n"
      ],
      "text/plain": [
       "<IPython.core.display.HTML object>"
      ]
     },
     "metadata": {},
     "output_type": "display_data"
    }
   ],
   "source": [
    "%%html\n",
    "<iframe width=\"900\" height=\"650\" src=\"https://1803mathlets.netlify.app/heatequation\" title=\"Mathlet\" frameborder=\"0\" allow=\"accelerometer; autoplay; clipboard-write; encrypted-media; gyroscope; picture-in-picture\" allowfullscreen></iframe> "
   ]
  },
  {
   "cell_type": "markdown",
   "id": "eb40673f-f631-491e-9f77-e8c9d66923fd",
   "metadata": {},
   "source": [
    "### See the heat profile emerge as $t$ increases. It's remarkable that a sine function emerges out of the input $\\theta(x, 0) = 1$. There is no evident mechanism creating a sine function, no spring, no circle, no periodic input. The sine function and the number $4/\\pi$ arise naturally out of differential equations alone."
   ]
  },
  {
   "cell_type": "markdown",
   "id": "13267918-a5fb-4c50-bceb-d2af85739534",
   "metadata": {},
   "source": [
    "## Deriving the heat equation\n",
    "\n",
    "### To explain the Heat Equation, we start with a thought experiment. If we fix the temperature at the ends, $\\theta(0, t)=0$ and $\\theta(L,t)=T$, what will happen in the long term as $t\\to\\infty$? Assume for the moment that there is a steady state. That is, that $\\theta(x,t)$ converges to some temperature profile $\\Theta(x)$:\n",
    "## $$ \\theta(x,t) \\to \\Theta(x), \\text{as}\\, t\\to\\infty $$\n",
    "### The answer is that\n",
    "## $$ \\Theta(x) = \\frac{T}{L}x\\quad(\\text{linear}) $$\n",
    "### The temperature $\\theta(L/2,t)$ at the midpoint $L/2$ tends to the average of $0$ and $T$, namely $T/2$. At the point $L/4$, halfway between $0$ and $L/2$, the temperature tends to the average of the temperature at $0$ and $T/2$, and so forth.\n",
    "\n",
    "### At a very small scale, this same mechanism, the tendency of the temperature profile toward a straight line equilibrium means that if $\\theta$ is concave down then the temperature in the middle should decrease (so the profile becomes closer to being straight). If $\\theta$ is concave up, then the temperature in the middle should increase (so that, once again, the profile becomes closer to being straight). We write this as\n",
    "## $$ \\begin{array} {rcl} \\displaystyle \\frac{\\partial^2\\theta}{\\partial x^2} < 0 & \\implies & \\displaystyle \\frac{\\partial \\theta}{\\partial t} < 0 \\\\ \\displaystyle \\frac{\\partial^2\\theta}{\\partial x^2} > 0 & \\implies & \\displaystyle \\frac{\\partial \\theta}{\\partial t} > 0 \\end{array} $$\n",
    "### The simplest relationship that reflects this is a linear (proportional) relationship,\n",
    "## $$ \\frac{\\partial \\theta}{\\partial t} = \\nu \\frac{\\partial^2\\theta}{\\partial x^2},\\quad \\nu>0 $$\n",
    "### Fourier introduced the Heat Equation, solved it, and confirmed in many cases that it predicts correctly the behavior of temperature in experiments like the one with the metal bar.\n",
    "\n",
    "### Actually, Fourier crushed the problem, figuring out the whole formula for $\\theta(x,t)$ and not just when the initial value is $\\theta(x,0) =1$, but also when the initial temperature varies with $x$. His formula even predicts accurately what happens when $0<t<\\tau$.\n",
    "\n",
    "### See below a scale model derivation of the Heat Equation.\n",
    "\n",
    "### We are going to look at one way to derive a partial differential equation describing the evolution of temperature in an insulated, uniform bar of length $L$. We first looked at this problem in the course Linear Algebra and NxN Systems of Differential equations, when we were studying $n\\times n$ systems. Initially, we considered a rod of length $L$, with two thermometers placed evenly along its length, at the points $x_1=L/3$ and $x_2=2L/3$. The left end of the rod was held at the temperature $\\theta_L$ and the right end was held at $\\theta_R$. We used Newton's law of cooling, which said that the rate of change of temperature at $x_1$, $\\frac{d\\theta_1}{dt}$ is affected by the adjacent temperatures $\\theta_l$ and $\\theta_R$.The left contribution is proportional to the difference in temperature $\\theta_L-\\theta_1$, while the right contribution is proportional to $\\theta_2-\\theta_1$. This meant that we could write down a system of two equations for $\\theta_1$ and $\\theta_2$:\n",
    "## $$ \\begin{array} {rcccl} \\displaystyle \\frac{d\\theta_1}{dt} & = & k(\\theta_L-\\theta_1)+k(\\theta_2-\\theta_1) & = & k(\\theta_L-2\\theta_1+\\theta_2) \\\\ \\displaystyle \\frac{d\\theta_2}{dt} & = & k(\\theta_1-\\theta_2)+k(\\theta_r-\\theta_2) & = & k(\\theta_1 - 2\\theta_2+\\theta_r) \\end{array} $$\n",
    "### We were a little careless when we first looked at this system. Looking more carefully, we can see that if we want to place many thermometers on the bar and track the interaction of temperatures at many points, then we should adjust the constant $k$ for the distance between points. Let's suppose that we place $N$ thermometers at points $x_n=n\\Delta x,\\, n=1,\\ldots,N$ equally spaced along the bar, with $\\displaystyle  \\Delta x = \\frac{L}{N+1}$. If $\\theta_n(t)$ is the temperature at $x_n$, then the correct scaling for the influence of $\\theta_{n+1}$ and $\\theta_{n-1}$ on $\\theta_n$ is the following version of Newton's law:\n",
    "## $$ \\frac{d\\theta_n}{dt} = \\nu \\frac{(\\theta_{n-1}-\\theta_n)}{(\\Delta x)^2} - \\nu \\frac{(\\theta_n-\\theta_{n+1})}{(\\Delta x)^2} $$\n",
    "### In other words, $k=\\nu/(\\Delta x)^2$ is the appropriate scaling for $k$, with $\\nu$ a property of the material. (This inverse square law is what Fourier discovered by testing bars of metal of various lengths. He then applied the insight that calculus brings, namely that the same rule should work at infinitesimal scales.) We can now simplify the right hand side to obtain\n",
    "## $$ \\frac{d\\theta_n}{dt} = \\nu\\frac{(\\theta_{n+1}-2\\theta_n+\\theta_{n+1})}{(\\Delta x)^2} $$\n",
    "### We want to consider the limit $N\\to\\infty$ so that $\\Delta x\\to 0$. We are interested in deriving a partial differential equation for the temperature $\\theta(x,t)$ at any position $x$ along the bar. We therefore need to choose $n$ so that $x_n\\to x$ as $N\\to\\infty$. A possible choice is $n=\\left\\lfloor x/\\Delta x\\right\\rfloor=\\left\\lfloor x(N+1)/L \\right\\rfloor$. As $N\\to\\infty$, the right hand side of the equation for $\\displaystyle \\frac{d\\theta_n}{dt}$ becomes $\\displaystyle \\frac{\\partial^2 \\theta}{\\partial x^2}(x)$. In this limit, we have the following partial differential equation describing the continuous evolution of temperature in the bar:\n",
    "## $$ \\frac{\\partial \\theta}{dt} = \\nu \\frac{\\partial^2 \\theta}{\\partial x^2} $$\n",
    "### This is the heat equation.\n",
    "\n",
    "### The heat equation does not determine the solution completely by itself. We also need to specify what are known as ***boundary conditions*** and ***initial conditions***.\n",
    "\n",
    "### ***Boundary conditions*** are the temperatures at the two ends of the rod at each time. For example, we can impose the boundary conditions that temperature is fixed for all time on the left and right sides at given temperatures:\n",
    "## $$ \\theta(0, t) = \\theta_L, \\quad \\text{and}\\quad \\theta(L,t) = \\theta_R $$\n",
    "### ***The initial condition*** can be any smooth function $\\theta_0(x)$ so that\n",
    "## $$ \\theta(x, t=0) = \\theta_0(x) $$\n",
    "### As we shall see later, the boundary conditions and initial conditions together with the heat equation determine a ***unique*** temperature profile $\\theta(x,t)$ for all future times $t>0$."
   ]
  },
  {
   "cell_type": "markdown",
   "id": "35ca611e-4a6c-4666-a80d-7387027b52af",
   "metadata": {},
   "source": [
    "## Separation of variables: solving a PDE with homogeneous boundary conditions\n",
    "\n",
    "### Let's now try to solve the PDE. For simplicity, suppose that $L=\\pi, \\theta_1=1$ and $\\nu=1$. (The general case is similar. In fact, one could reduce to this special case by changes of variable.)\n",
    "\n",
    "### So now we are solving\n",
    "## $$ \\begin{array} {rcl} \\displaystyle \\frac{\\partial \\theta}{\\partial t} & = & \\displaystyle \\frac{\\partial^2 \\theta}{\\partial x^2}, \\quad 0< x < \\pi, t>0, \\\\ \\theta(0, t) & = & 0\\quad\\text{for}\\,t\\geq 0 \\\\ \\theta(\\pi, t) & = & 0\\quad\\text{for}\\,t\\geq 0 \\\\ \\theta(x, 0) & = & 1\\quad\\text{for}\\,x \\in(0,\\pi) \\\\  \\end{array} $$\n",
    "### ***Idea (separation of variables)***: \n",
    "### Forget about the initial condition $\\theta(x, 0) = 1$ for now, but look for nonzero solutions of the form\n",
    "## $$ \\theta(x, t) = v(x) w(t) $$\n",
    "### (Note that we are making a slight change in notation.) Substituting into the PDE gives\n",
    "## $$ \\begin{array} {rcl} \\displaystyle  v(x) \\dot{w}(t) & = & w(t) v''(x) \\\\ \\displaystyle \\frac{\\dot{w}(t)}{w(t)} & = & \\frac{v''(x)}{v(x)} \\end{array} $$\n",
    "### (at least where $v(x)$ and $w(t)$ are nonzero).\n",
    "### The only way for a function of $x$ to equal to a function of $t$ is if both functions are the same constant. That is, there is a constant $\\lambda$ such that\n",
    "## $$ \\frac{v''(x)}{v(x)} = \\lambda \\quad \\text{and} \\quad \\frac{\\dot{w}(t)}{w(t)} = \\lambda $$\n",
    "### or in other words,\n",
    "## $$ v''(x) = \\lambda v(x) \\quad \\text{and} \\quad \\dot{w}(t) = \\lambda w(t) $$\n",
    "### Substituting $\\theta(x, t) = v(x) w(t)$ into the first boundary condition $\\theta(0, t) = 0$ gives $v(0)w(t) = 0$ for all $t$, but $w(t)$ is not the zero function, so this translates into $v(0) = 0$. Similarly, the second boundary condition $\\theta(\\pi, t) = 0$ translates into $v(\\pi) = 0$.\n",
    "\n",
    "### We already solved $v''(x) = \\lambda v(x)$ subject to the boundary conditions $v(0) = 0$ and $v(\\pi) = 0$: nonzero solutions $v(x)$ exist only if $\\lambda = -n^2$ for some positive integer $n$, and in that case $v(x)$ is a scalar times $\\sin(n x)$.\n",
    "\n",
    "### For $\\lambda = -n^2$, what is a matching possibility for $w$? Since $\\dot{w} = -n^2w$, the function $w$ is a scalar times $e^{-n^2t}$.\n",
    "### This gives rise to one solution\n",
    "## $$ \\theta_n(x, t) = e^{-n^2t}\\sin(n x) $$\n",
    "### for each positive integer $n$, to the PDE with boundary conditions. Each such solution is called a ***normal mode***.\n",
    "### Because the boundary conditions are homogeneous, we can get other solutions by taking linear combinations that also satisfy the homogeneous boundary conditions:\n",
    "## $$ \\theta(x, t) = b_1 e^{-t} \\sin(x) + b_2 e^{-4 t} \\sin(2x)+b_3 e^{-9t}\\sin(3x)+\\cdots $$\n",
    "### This turns out to be the general solution to the PDE $\\displaystyle \\frac{\\partial \\theta}{\\partial t} =\\nu \\frac{\\partial^2 \\theta}{\\partial x^2}$ with the boundary conditions $\\theta(0, t) = 0$ and $\\theta(\\pi, t) = 0$."
   ]
  },
  {
   "cell_type": "markdown",
   "id": "92c41d88-772a-4d10-b028-42b2f2ea8e4d",
   "metadata": {},
   "source": [
    "## Initial conditions\n",
    "\n",
    "### ***Summary***:\n",
    "### - We modeled an insulated metal rod with exposed ends held at $0^\\circ C$.\n",
    "### - Using physics, we found that its temperature $\\theta(x, t)$ was governed by the PDE\n",
    "## $$ \\frac{\\partial \\theta}{\\partial t} =\\nu \\frac{\\partial^2 \\theta}{\\partial x^2},\\quad 0<x<\\pi  $$\n",
    "### - For simplicity, we specialized to the case $\\nu =1$, length $\\pi$, and initial temperature $\\theta(x, 0) = 1$.\n",
    "### - Trying $\\theta = v(x)w(t)$ led to separate ODEs for $v$ and $w$, leading to solutions $e^{-n^2t} \\sin(nx)$ for $n=1,2,\\ldots$ to the PDE with boundary conditions.\n",
    "### - We took linear combinations to get the general solution\n",
    "## $$ \\boxed{\\theta(x, t) = b_1 e^{-t}\\sin(x) + b_2 e^{-4t}\\sin(2t) + b_3 e^{-9t}\\sin(3x) + \\cdots} $$\n",
    "### to the PDE with homogeneous boundary conditions $\\theta(0, t) = 0$, and $\\theta(\\pi, t) = 0$.\n",
    "\n",
    "### ***Initial conditions***. As usual, we postponed imposing the initial condition, but now it is time to impose it.\n",
    "\n",
    "### ***Question 5.1***\n",
    "### Which choices of $b_1, b_2, \\ldots$ make the general solution above also satisfy the initial condition $\\theta(x, 0) = 1$ for $x\\in(0,\\pi)$?\n",
    "### Set $t=0$ in\n",
    "## $$ \\text{General solution:}\\,\\, \\theta(x, t) = b_1 e^{-t}\\sin(x) + b_2 e^{-4t}\\sin(2t) + b_3 e^{-9t}\\sin(3x) + \\cdots $$\n",
    "### (the general solution to the Heat Equation) and use the initial condition on the left to get\n",
    "## $$ 1 = b_1 \\sin(x) + b_2 \\sin(2t) + b_3 \\sin(3x) + \\cdots \\quad \\text{for}\\,x\\in(0,\\pi) $$\n",
    "### which must be solved for $b_1, b_2, \\ldots$.\n",
    "\n",
    "### Because the right hand side is odd and of base period $2\\pi$, to find such $b_i$, the left hand side must be extended to an odd period $2\\pi$ function, namely $\\operatorname{Sq}(x)$. So we need to solve\n",
    "## $$\\operatorname{Sq}(x) = b_1 \\sin(x) + b_2 \\sin(2x) + b_3\\sin(3x) + \\cdots \\quad \\text{for all}\\,x\\in \\mathbb{R}$$\n",
    "### We already know the answer:\n",
    "## $$ \\operatorname{Sq}(x) = \\frac{4}{\\pi}\\sin(x)+\\frac{4}{3\\pi}\\sin(3x)+\\frac{4}{5\\pi}\\sin(5x)+\\cdots $$\n",
    "### In other words $b_n = 0$ for even $n$, and $\\displaystyle b_n = \\frac{4}{n\\pi}$ for odd $n$. Substituting these $b_n$ back into the general solution to the heat equation gives\n",
    "## $$ \\theta(x, t) = \\frac{4}{\\pi}e^{-t}\\sin(x)+\\frac{4}{3\\pi}e^{-9t}\\sin(3x)+\\frac{4}{5\\pi}e^{-25t}\\sin(5x)+\\cdots $$\n",
    "\n",
    "### ***Question 5.2***\n",
    "### What does the temperature profile look like when $t$ is large?\n",
    "\n",
    "### ***Answer***: \n",
    "### All the Fourier components are decaying, so $\\theta(x,t) \\to 0$ as $t\\to +\\infty$ at every position. Thus the temperature profile approaches a horizontal segment, the graph of the zero function. But the Fourier components of higher frequency decay much faster than the first Fourier component, so when $t$ is large, the formula\n",
    "## $$ \\theta(x, t) \\approx \\frac{4}{\\pi} e^{-t} \\sin(x) $$\n",
    "### is a very good approximation. Eventually, the temperature profile is indistinguishable from a sinusoid of angular frequency $1$ whose amplitude is decaying to $0$. This can be observed in the mathlet."
   ]
  },
  {
   "cell_type": "code",
   "execution_count": 3,
   "id": "44312879-547e-4d69-b56f-3a815144258b",
   "metadata": {
    "jupyter": {
     "source_hidden": true
    },
    "tags": []
   },
   "outputs": [
    {
     "data": {
      "text/html": [
       "<iframe width=\"900\" height=\"650\" src=\"https://1803mathlets.netlify.app/heatequation\" title=\"YouTube video player\" frameborder=\"0\" allow=\"accelerometer; autoplay; clipboard-write; encrypted-media; gyroscope; picture-in-picture\" allowfullscreen></iframe>\n"
      ],
      "text/plain": [
       "<IPython.core.display.HTML object>"
      ]
     },
     "metadata": {},
     "output_type": "display_data"
    }
   ],
   "source": [
    "%%html\n",
    "<iframe width=\"900\" height=\"650\" src=\"https://1803mathlets.netlify.app/heatequation\" title=\"YouTube video player\" frameborder=\"0\" allow=\"accelerometer; autoplay; clipboard-write; encrypted-media; gyroscope; picture-in-picture\" allowfullscreen></iframe>"
   ]
  },
  {
   "cell_type": "markdown",
   "id": "224f48e5-e13b-4c92-b426-50def6530de6",
   "metadata": {},
   "source": [
    "## Linear algebra and Fourier analogy\n",
    "\n",
    "### Here we provide a table that outlines the analogy between linear algebra and Fourier techniques. On the left hand side, we present a general linear algebra example, on the right hand side, we illustrate the analogy using the specific example we worked through on the previous two pages. We wanted to introduce this analogy early, but you may want to come back and review this analogy once you have had more practice solving the heat equation.\n",
    "\n",
    "### $$ \\begin{array} {rcl} \\text{System of ODEs} & & \\text{THe Heat Equation} \\\\ \\text{vector}\\,v && \\text{function}\\,v(x) \\\\ \\displaystyle \\text{matrix}\\,\\bf{A} && \\displaystyle \\text{linear operator} \\, \\frac{d^2}{dx^2} \\\\ \\bf{A}\\bf{v} = \\bf{v} && \\displaystyle \\frac{d^2}{dx^2}v(x) = f(x) \\,\\text{on}\\, 0<x<\\pi; v(0)=v(\\pi)=0 \\\\ \\text{eigenvalue-eigenvector problem} && \\text{eigenvalue-eigenfunction problem} \\\\ \\bf{A}\\bf{v} = \\lambda\\bf{v} && \\displaystyle \\frac{d^2}{dx^2}v=\\lambda v, v(0)=0,v(\\pi)=0 \\\\ \\text{eigenvalues}\\,\\lambda_1,\\lambda_2,\\ldots,\\lambda_N && \\text{eigenvalues}\\,\\lambda=-1,-4,-9,\\ldots,-n^2,\\ldots,\\text{for}\\,n=1,2,3,\\ldots \\\\ \\text{eigenvectors}\\,\\bf{v_1},\\bf{v_2},\\ldots,\\bf{v_n} && \\text{eigenfunctions}\\,v(x)=\\sin(nx)\\,\\text{for}\\,n=1,2,3,\\ldots \\\\ \\text{linear system of ODEs} && \\text{Heat Equation with boundary conditions} \\\\ \\dot{\\bf{x}} = \\bf{A}\\bf{x} && \\displaystyle \\dot{\\theta} = \\frac{\\partial^2}{\\partial x^2}\\theta \\, \\text{on}\\,0<x<\\pi,\\,\\theta(0,t)=0,\\,\\theta(\\pi,t)=0 \\\\ \\text{normal modes:}\\,e^{\\lambda_n t}\\bf{v_n}\\,\\text{for}\\,n=1,\\ldots,N && \\text{normal modes:}\\,e^{\\lambda_n t}v(x)=e^{-n^2t}\\sin(nx)\\,\\text{for}\\,n=1,2,3,\\ldots \\\\ \\text{General solution:},\\bf{u}(t)=\\sum c_n e^{\\lambda_n t}\\bf{v_n} && \\text{General solution:}\\,\\theta(x,t)=\\sum b_n e^{-n^2 t} \\sin(nx) \\\\ \\text{Solve}\\, \\bf{u}(0) = \\sum c_n \\bf{v_n}\\,\\text{to get the}\\, c_n && \\text{Solve}\\,\\theta(x,0) = \\sum b_n \\sin(nx)\\,\\text{to get the}\\,b_n \\end{array} $$"
   ]
  },
  {
   "cell_type": "markdown",
   "id": "71a0497a-43c3-495a-8fb4-471ec4e52f84",
   "metadata": {},
   "source": []
  }
 ],
 "metadata": {
  "kernelspec": {
   "display_name": "Python 3",
   "language": "python",
   "name": "python3"
  },
  "language_info": {
   "codemirror_mode": {
    "name": "ipython",
    "version": 3
   },
   "file_extension": ".py",
   "mimetype": "text/x-python",
   "name": "python",
   "nbconvert_exporter": "python",
   "pygments_lexer": "ipython3",
   "version": "3.8.8"
  }
 },
 "nbformat": 4,
 "nbformat_minor": 5
}
