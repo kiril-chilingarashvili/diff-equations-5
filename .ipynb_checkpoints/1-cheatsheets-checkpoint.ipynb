{
 "cells": [
  {
   "cell_type": "markdown",
   "id": "9dda93ef",
   "metadata": {},
   "source": [
    "# Unit 1: Fourier Series"
   ]
  },
  {
   "cell_type": "markdown",
   "id": "3c2d66aa",
   "metadata": {},
   "source": [
    "## Motivation\n",
    "\n",
    "### The exponential response formula (ERF) is a quick method for finding the response to any input that is expressible in terms of an exponential, sine, or cosine function. (We will review this method on the next page.) What happens when the input is not one of these?\n",
    "\n",
    "### If the input function $f(t)$ is periodic (of period $2\\pi$), we can express the function (where it is continuous) as an infinite sum of sines and cosines. This series representation is called a ***Fourier series***:\n",
    "## $$ f(t) = c_0 + \\sum_{n=1}^{\\infty} \\left[ a_n \\cos(nt) + b_n \\sin(nt) \\right], \\quad c_0,a_n,b_n\\, \\text{real constants} $$\n",
    "### (Note that here we are giving an expression that only works for $2\\pi$-periodic functions. There is a formula that works more generally, which we will learn later)\n",
    "### The benefit is, given an inhomogeneous linear differential equation $P(D)y=f(t)$, we can apply ERF to every term in the Fourier series.\n",
    "## $$ \\begin{array} {rcl} \\text{Input} & & \\text{Response} \\\\ {\\color{orange}{b_n}}\\sin(nt) & \\rightsquigarrow & {\\color{orange}{b_n}}y_n^{(s)}(t) \\\\ {\\color{red}{a_n}}\\cos(nt) & \\rightsquigarrow & {\\color{red}{a_n}}y_n^{(c)}(t) \\\\ c_0 & \\rightsquigarrow & c_1 \\end{array} $$\n",
    "\n",
    "### Taking the sum of all of the input terms we get an approximation to the input $f(t)$. Therefore by superposition (since our differential equation is linear), the sum of the terms on the right hand side is a series representation of the system response.\n",
    "## $$ \\begin{array} {rcl} \\text{Input} & & \\text{Response} \\\\ f(t) & \\rightsquigarrow & c_1+\\sum_{n=1}^{\\infty} \\left[ {\\color{red}{a_n}} y_n^{(c)}(t) + {\\color{orange}{b_n}} y_n^{(s)}(t) \\right] \\end{array} $$\n"
   ]
  },
  {
   "cell_type": "markdown",
   "id": "3417f860-1152-41d1-95d9-76b93b8e5844",
   "metadata": {},
   "source": [
    "## Program for solving inhomogeneous DEs with periodic input\n",
    "### 1. Find a Fourier series approximation to the input signal (***What we will learn today.***)\n",
    "### 2. The system response is the sum of the response to each $\\sin(nt)$ and $\\cos(nt)$ input. (***Will explore in 2 lectures from now.***)\n",
    "\n",
    "### ***Question***: Is it really useful to have a particular solution that is expressed as an infinite sum?\n",
    "### ***Answer***: It is useful when you can determine which terms in the sum are dominant.\n",
    "### But first things first: we must define the Fourier series, determine how to compute it. In order to define the Fourier series, we start by reviewing the components necessary to define them – periodic functions."
   ]
  },
  {
   "cell_type": "markdown",
   "id": "91866ae6-97fa-4a03-9e92-0141ba334ba8",
   "metadata": {},
   "source": []
  }
 ],
 "metadata": {
  "kernelspec": {
   "display_name": "Python 3",
   "language": "python",
   "name": "python3"
  },
  "language_info": {
   "codemirror_mode": {
    "name": "ipython",
    "version": 3
   },
   "file_extension": ".py",
   "mimetype": "text/x-python",
   "name": "python",
   "nbconvert_exporter": "python",
   "pygments_lexer": "ipython3",
   "version": "3.8.8"
  }
 },
 "nbformat": 4,
 "nbformat_minor": 5
}
