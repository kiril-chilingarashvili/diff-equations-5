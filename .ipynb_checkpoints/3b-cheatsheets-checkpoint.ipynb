{
 "cells": [
  {
   "cell_type": "markdown",
   "id": "853dde42-3d95-4a23-aa24-7739de95aee7",
   "metadata": {},
   "source": [
    "# Unit 3: Partial Differential Equations (part b)"
   ]
  },
  {
   "cell_type": "markdown",
   "id": "8541ac95-a7f6-4ade-9cf7-ee88c4d02092",
   "metadata": {},
   "source": []
  }
 ],
 "metadata": {
  "kernelspec": {
   "display_name": "Python 3",
   "language": "python",
   "name": "python3"
  },
  "language_info": {
   "codemirror_mode": {
    "name": "ipython",
    "version": 3
   },
   "file_extension": ".py",
   "mimetype": "text/x-python",
   "name": "python",
   "nbconvert_exporter": "python",
   "pygments_lexer": "ipython3",
   "version": "3.8.8"
  }
 },
 "nbformat": 4,
 "nbformat_minor": 5
}
