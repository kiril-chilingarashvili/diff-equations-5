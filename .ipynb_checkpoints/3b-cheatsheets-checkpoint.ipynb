{
 "cells": [
  {
   "cell_type": "markdown",
   "id": "853dde42-3d95-4a23-aa24-7739de95aee7",
   "metadata": {},
   "source": [
    "# Unit 3: Partial Differential Equations (part b)"
   ]
  },
  {
   "cell_type": "markdown",
   "id": "8541ac95-a7f6-4ade-9cf7-ee88c4d02092",
   "metadata": {},
   "source": [
    "## Modeling transverse waves\n",
    "\n",
    "### The wave equation is a PDE that models light waves, sound waves, waves along a string, etc.\n",
    "\n",
    "## ***Problem 2.1***\n",
    "### Model a vibrating guitar string.\n",
    "\n",
    "### ***Variables and functions***: Define\n",
    "\n",
    "### $L$ length of the string\n",
    "### $\\mu$ mass per unit length\n",
    "### $T$ ***magnitude*** of the tension force\n",
    "### $t$ time\n",
    "### $x$ position along the string (from $0$ to $L$)\n",
    "### $u$ vertical displacement of a point on the string\n",
    "\n",
    "### Here\n",
    "\n",
    "### - $L, \\mu, T$ are constants;\n",
    "### - $t, x$ are independent variables; and\n",
    "### - $u=u(x, t)$ is a function defined for $x\\in[0,L]$ and $t\\geq 0$. The vertical displacement is measured relative to the equilibrium position in which the string makes a straight line.\n",
    "\n",
    "### At any given time $t$, the string is in the shape of the graph of $u(x, t)$ as a function of $x$.\n",
    "### ***Assumption***: The string is taut, so the vertical displacement of the string is small, and the slope of the string at any point is small.\n",
    "### Consider the piece of string between positions $x$ and $x+\\Delta x$. Let $\\theta$ be the (small) angle formed by the string and the horizontal line at position $x$, and let $\\theta+\\Delta \\theta$ be the same angle at position $x+\\Delta x$.\n",
    "![img](img/string.png)\n",
    "\n",
    "### ***Derivation of the Wave Equation***\n",
    "### Newton's second law says that $m \\alpha = \\bf{F}$. Taking the vertical component of each side gives\n",
    "## $$ \\begin{array} {rcl} \\displaystyle \\underbrace{\\mu dx}_{{\\color{red}{\\text{mass}}}} \\underbrace{\\frac{\\partial^2 u}{\\partial t^2}}_{{\\color{red}{\\text{acceleration}}} } & = & \\displaystyle \\underbrace{T\\sin(\\theta+d\\theta)-T\\sin(\\theta)}_{{\\color{red}{\\text{vertical component of force}}}} \\\\ \\, & = & \\displaystyle T d(\\sin(\\theta)) \\end{array} $$\n",
    "### Side calculation:\n",
    "## $$ \\begin{array} {rcl} \\displaystyle d(\\sin(\\theta)) & = & \\displaystyle \\cos(\\theta)d\\theta \\\\ \\displaystyle d(\\tan(\\theta)) & = & \\displaystyle \\frac{1}{\\cos^2(\\theta)} d\\theta \\end{array} $$\t\t \t \n",
    "### but $\\displaystyle \\cos(\\theta) = 1-\\frac{\\theta^2}{2!} + \\cdots \\approx 1$, so up to a factor that is very close to $1$ (because we are assuming $\\theta$ is small), we get\n",
    "## $$ d(\\sin(\\theta)) \\approx d \\underbrace{\\tan(\\theta)}_{{\\color{red}{\\text{slope of string}}}} = d\\left(\\frac{\\partial u}{\\partial x}\\right) $$\n",
    "### Substituting this in gives\n",
    "## $$ \\mu dx \\frac{\\partial^2 u}{\\partial t^2} \\approx T d\\left(\\frac{\\partial u}{\\partial x}\\right) $$\t \t \n",
    "### Divide by $\\mu dx$ to get\n",
    "## $$ \\begin{array} {rcl} \\displaystyle \\frac{\\partial^2 u}{\\partial t^2} & \\approx & \\displaystyle T \\mu^{-1}\\frac{d\\left(\\frac{\\partial u}{\\partial x}\\right)}{dx} \\\\ \\, & \\approx & \\displaystyle T\\mu^{-1}\\frac{\\partial^2 u}{\\partial x^2} \\end{array} $$\n",
    "### If we define a new constant $c:= \\sqrt{T\\mu^{-1}}$, then this becomes the\n",
    "## $$ {\\color{orange}{\\text{wave equation:}}} \\quad \\frac{\\partial^2 u}{\\partial t^2} = c^2 \\frac{\\partial^2 u}{\\partial x^2} $$\n",
    "### ***Note about dimensions***: Observe that $T$ is a force, so it has dimension of mass times length over time squared $[mL/t^2]$. And $\\mu$ is a mass per unit length $[m/L]$. So the constant $c=\\sqrt{T\\mu^{-1}}$ has dimension of $[L/t]$ velocity.\n",
    "\n",
    "### The resulting equation describing the evolution of the wave over time is given by the following PDE:\n",
    "## $$ {\\color{orange}{\\text{wave equation:}}} \\quad \\frac{\\partial^2 u}{\\partial t^2} = c^2 \\frac{\\partial^2 u}{\\partial x^2} $$\n",
    "### This makes sense intuitively, since at places where the graph of the string is concave up $\\displaystyle \\left( \\frac{\\partial^2 u}{\\partial t^2} > 0 \\right)$ the tension pulling on both sides should combine to produce an upward force, and hence an upward acceleration.\n",
    "\n",
    "### Comparing units of both sides of the wave equation shows that the units for $c$ are $m/s$. The physical meaning of $c$ as a velocity will be explained later.\n",
    "\n",
    "### The ends of a guitar string are fixed, so we have boundary conditions\n",
    "## $$ \\begin{array} {rcl} u(0, t) & = & 0\\quad\\text{for all}\\, t\\geq 0 \\\\ u(L, t) & = & 0\\quad\\text{for all}\\, t\\geq 0 \\end{array} $$"
   ]
  },
  {
   "cell_type": "markdown",
   "id": "2bf50d21-f6fd-4df1-ba05-8ef5be955726",
   "metadata": {},
   "source": [
    "## Understanding the wave equation\n",
    "\n",
    "### The wave equation is\n",
    "## $$ \\underbrace{\\mu \\frac{\\partial^2 u}{\\partial t^2}}_{\\text{mass times acceleration / unit length}} = \\underbrace{T\\frac{\\partial^2 u}{\\partial x^2}}_{\\text{force / unit length}} , \\quad \\mu, T > 0 $$\n",
    "### where the left hand side describes the mass times acceleration per unit length, and the right hand side is the force per unit length on the string.\n",
    "\n",
    "### Let's think about what this is telling us physically.\n",
    "\n",
    "### ***Case 1***:\n",
    "### Suppose $\\displaystyle \\frac{\\partial^2 u}{\\partial t^2} > 0$, that is a small segment of string is concave up.\n",
    "![img](img/wave-1.png)\n",
    "\n",
    "### The equation says that the net force is positive, hence the net acceleration is upwards.\n",
    "\n",
    "### This agrees with our expectations that if you imagine pulling on a concave up string along the tension forces, the string will accelerate upwards toward a straight configuration.\n",
    "\n",
    "### ***Case 2***:\n",
    "### Suppose $\\displaystyle \\frac{\\partial^2 u}{\\partial t^2} < 0$, that is a small segment of string is concave down.\n",
    "![img](img/wave-2.png)\n",
    "\n",
    "### The equation says that the net force is negative, hence the net acceleration is downwards.\n",
    "\n",
    "### This agrees with our expectations that if you imagine pulling on a concave down string along the tension forces, the string will accelerate downwards toward a straight configuration.\n",
    "\n",
    "### ***Case 3***:\n",
    "### Suppose $\\displaystyle \\frac{\\partial^2 u}{\\partial t^2} = 0$, that is a small segment of string is straight.\n",
    "![img](img/wave-3.png)\n",
    "\n",
    "### The equation says that the net force is zero, hence the net acceleration is zero.\n",
    "\n",
    "### This agrees with our expectations that if you imagine pulling on a straight segment string along the tension forces, the string will not accelerate at all, and will remain straight."
   ]
  },
  {
   "cell_type": "markdown",
   "id": "8e541157-01c5-4c9c-a3f4-2914d09d7541",
   "metadata": {},
   "source": [
    "## Separation of variables in PDEs\n",
    "\n",
    "### For simplicity, suppose that $c=1$ and $L=\\pi$. So now we are solving the PDE with boundary conditions\n",
    "## $$ \\begin{array} {rcl} \\displaystyle \\frac{\\partial^2 u}{\\partial t^2} & = & \\displaystyle  \\frac{\\partial^2 u}{\\partial x^2}, \\quad 0 < x < \\pi, \\, t>0 \\\\ u(0, 1) & = & 0 \\\\ u(\\pi, t) & = & 0 \\end{array} $$\n",
    "### As with the heat equation, we try separation of variables. In other words, try to find normal modes of the form\n",
    "## $$ u(x, t) = v(x) w(t) $$\n",
    "### for some nonzero functions $v(x)$ and $w(t)$. Substituting this into the PDE gives\n",
    "## $$ \\begin{array} {rcl} \\displaystyle v(x) \\ddot{w}(t) & = & v''(x) w(t) \\\\ \\displaystyle \\frac{\\ddot{w}(t)}{w(t)} & = & \\displaystyle \\frac{v''(x)}{v(x)} \\end{array} $$\n",
    "### As usual, a function of $t$ can equal a function of $x$ only if both are equal to the same constant, say $\\lambda$, so this breaks into two ODEs:\n",
    "## $$ \\ddot{w}(t) = \\lambda w(t),\\quad v''(x) = \\lambda v(x) $$\n",
    "### Moreover, the boundary conditions become $v(0) = 0$ and $v(\\pi) = 0$.\n",
    "\n",
    "### We already solved the eigenfunction equation $v''(x) = \\lambda v(x)$ with the boundary conditions $v(0) = 0$ and $v(\\pi) = 0$: nonzero solutions exist only when $\\lambda = -n^2$ for some positive integer $n$, and in this case $v=\\sin(nx)$ (times a scalar). What is different this time is that $w$ satisfies a ***second***-order ODE\n",
    "## $$ \\ddot{w}(t) = -n^2 w(t) $$\n",
    "### The characteristic polynomial is $r^2+n^2$, which has roots $\\pm i n$, so\n",
    "## $$ w(t) = \\cos(nt) \\quad \\text{and} \\quad w(t) = \\sin(nt) $$\n",
    "### are possibilities (and all the others are linear combinations). Multiplying each by the $v(x)$ with the matching $\\lambda$ gives the normal modes\n",
    "## $$ \\cos(nt) \\sin(nx), \\quad \\quad \\sin(nt) \\sin(nx) $$ \n",
    "### Any linear combination\n",
    "## $$ u(x, t) = \\sum_{n\\geq 1} a_n \\cos(nt) \\sin(nx) + \\sum_{n\\geq 1} b_n \\sin(nt) \\sin(nx) $$\n",
    "### is a solution to the PDE with boundary conditions, and this turns out to be the general solution."
   ]
  },
  {
   "cell_type": "markdown",
   "id": "4cc26489-04d3-4892-9b91-3a1e2286673e",
   "metadata": {},
   "source": [
    "## Initial conditions\n",
    "\n",
    "### To specify a unique solution, we need two initial conditions: not only the initial position $u(x, 0)$, but also the initial velocity $\\displaystyle \\frac{\\partial u}{\\partial t}(x, 0)$, at each position of the string. (Those ***two*** initial conditions are needed because of the fact that the PDE is ***second***-order in the $t$ variable.)\n",
    "\n",
    "### For a plucked string, it is reasonable to assume that the initial velocity is $0$, so one initial condition is $\\displaystyle \\frac{\\partial u}{\\partial t}(x, 0) = 0$. What condition does this impose on the $a_n$ and $b_n$? Well, for the general solution above,\n",
    "## $$ \\begin{array} {rcl} \\displaystyle \\frac{\\partial u}{\\partial t} & = & \\displaystyle \\sum_{n\\geq 1} -na_n \\sin(nt) \\sin(nx) + \\sum_{n\\geq 1} nb_n \\cos(nt) \\sin(nx) \\\\ \\displaystyle \\frac{\\partial u}{\\partial t}(x,0) & = & \\displaystyle \\sum_{n\\geq 1}nb_n \\sin(nx) \\end{array} $$\n",
    "### so the initial condition says that $b_n = 0$ for every $n$; in other words,\n",
    "## $$ u(x, t) = \\sum_{n\\geq 1} a_n \\cos(nt) \\sin(nx) $$\n",
    "### If we also knew the initial position $u(x, 0)$, we could solve for the $a_n$ by extending to an odd, period $2\\pi$ function of $x$ and using the Fourier coefficient formula.\n",
    "\n",
    "### ***Wave equation mathlet***\n",
    "\n",
    "### The first few coefficients are the amplitudes of the “harmonics\" in the Wave Equation Mathlet."
   ]
  },
  {
   "cell_type": "code",
   "execution_count": 1,
   "id": "d6e210d4-c519-4355-a97f-5326f140ffc9",
   "metadata": {
    "jupyter": {
     "source_hidden": true
    },
    "tags": []
   },
   "outputs": [
    {
     "data": {
      "text/html": [
       "<iframe width=\"900\" height=\"650\" src=\"https://1803mathlets.netlify.app/waveequation\" title=\"Mathlet\" frameborder=\"0\" allow=\"accelerometer; autoplay; clipboard-write; encrypted-media; gyroscope; picture-in-picture\" allowfullscreen></iframe> \n"
      ],
      "text/plain": [
       "<IPython.core.display.HTML object>"
      ]
     },
     "metadata": {},
     "output_type": "display_data"
    }
   ],
   "source": [
    "%%html\n",
    "<iframe width=\"900\" height=\"650\" src=\"https://1803mathlets.netlify.app/waveequation\" title=\"Mathlet\" frameborder=\"0\" allow=\"accelerometer; autoplay; clipboard-write; encrypted-media; gyroscope; picture-in-picture\" allowfullscreen></iframe> "
   ]
  },
  {
   "cell_type": "markdown",
   "id": "35e2a058-46b9-41ec-bb93-b1091b57e7e7",
   "metadata": {},
   "source": [
    "## Normal modes: standing waves\n",
    "\n",
    "### In the previous example of transverse waves in a string with fixed ends, the eigenfunctions $c_n v_n (x)$ correspond to standing waves. These standing waves are the normal modes for this system, and are depicted below.\n",
    "\n",
    "### $n=1$, with eigenfunction $\\sin(x)$ on $0<x<\\pi$:\n",
    "![img](img/eig-1.png)\n",
    "### $n=2$, with eigenfunction $\\sin(2x)$ on $0<x<\\pi$:\n",
    "![img](img/eig-2.png)\n",
    "### $n=3$, with eigenfunction $\\sin(3x)$ on $0<x<\\pi$:\n",
    "![img](img/eig-3.png)\n",
    "### $n=4$, with eigenfunction $\\sin(4x)$ on $0<x<\\pi$:\n",
    "![img](img/eig-4.png)"
   ]
  },
  {
   "cell_type": "markdown",
   "id": "3d627519-66fc-4b04-9446-7abff3d6fdde",
   "metadata": {},
   "source": []
  }
 ],
 "metadata": {
  "kernelspec": {
   "display_name": "Python 3",
   "language": "python",
   "name": "python3"
  },
  "language_info": {
   "codemirror_mode": {
    "name": "ipython",
    "version": 3
   },
   "file_extension": ".py",
   "mimetype": "text/x-python",
   "name": "python",
   "nbconvert_exporter": "python",
   "pygments_lexer": "ipython3",
   "version": "3.8.8"
  }
 },
 "nbformat": 4,
 "nbformat_minor": 5
}
