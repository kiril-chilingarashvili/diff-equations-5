{
 "cells": [
  {
   "cell_type": "markdown",
   "id": "853dde42-3d95-4a23-aa24-7739de95aee7",
   "metadata": {},
   "source": [
    "# Unit 3: Partial Differential Equations (part b)"
   ]
  },
  {
   "cell_type": "markdown",
   "id": "8541ac95-a7f6-4ade-9cf7-ee88c4d02092",
   "metadata": {},
   "source": [
    "## Modeling transverse waves\n",
    "\n",
    "### The wave equation is a PDE that models light waves, sound waves, waves along a string, etc.\n",
    "\n",
    "## ***Problem 2.1***\n",
    "### Model a vibrating guitar string.\n",
    "\n",
    "### ***Variables and functions***: Define\n",
    "\n",
    "### $L$ length of the string\n",
    "### $\\mu$ mass per unit length\n",
    "### $T$ ***magnitude*** of the tension force\n",
    "### $t$ time\n",
    "### $x$ position along the string (from $0$ to $L$)\n",
    "### $u$ vertical displacement of a point on the string\n",
    "\n",
    "### Here\n",
    "\n",
    "### - $L, \\mu, T$ are constants;\n",
    "### - $t, x$ are independent variables; and\n",
    "### - $u=u(x, t)$ is a function defined for $x\\in[0,L]$ and $t\\geq 0$. The vertical displacement is measured relative to the equilibrium position in which the string makes a straight line.\n",
    "\n",
    "### At any given time $t$, the string is in the shape of the graph of $u(x, t)$ as a function of $x$.\n",
    "### ***Assumption***: The string is taut, so the vertical displacement of the string is small, and the slope of the string at any point is small.\n",
    "### Consider the piece of string between positions $x$ and $x+\\Delta x$. Let $\\theta$ be the (small) angle formed by the string and the horizontal line at position $x$, and let $\\theta+\\Delta \\theta$ be the same angle at position $x+\\Delta x$.\n",
    "![img](img/string.png)\n",
    "\n",
    "### ***Derivation of the Wave Equation***\n",
    "### Newton's second law says that $m \\alpha = \\bf{F}$. Taking the vertical component of each side gives\n",
    "## $$ \\begin{array} {rcl} \\displaystyle \\underbrace{\\mu dx}_{{\\color{red}{\\text{mass}}}} \\underbrace{\\frac{\\partial^2 u}{\\partial t^2}}_{{\\color{red}{\\text{acceleration}}} } & = & \\displaystyle \\underbrace{T\\sin(\\theta+d\\theta)-T\\sin(\\theta)}_{{\\color{red}{\\text{vertical component of force}}}} \\\\ \\, & = & \\displaystyle T d(\\sin(\\theta)) \\end{array} $$\n",
    "### Side calculation:\n",
    "## $$ \\begin{array} {rcl} \\displaystyle d(\\sin(\\theta)) & = & \\displaystyle \\cos(\\theta)d\\theta \\\\ \\displaystyle d(\\tan(\\theta)) & = & \\displaystyle \\frac{1}{\\cos^2(\\theta)} d\\theta \\end{array} $$\t\t \t \n",
    "### but $\\displaystyle \\cos(\\theta) = 1-\\frac{\\theta^2}{2!} + \\cdots \\approx 1$, so up to a factor that is very close to $1$ (because we are assuming $\\theta$ is small), we get\n",
    "## $$ d(\\sin(\\theta)) \\approx d \\underbrace{\\tan(\\theta)}_{{\\color{red}{\\text{slope of string}}}} = d\\left(\\frac{\\partial u}{\\partial x}\\right) $$\n",
    "### Substituting this in gives\n",
    "## $$ \\mu dx \\frac{\\partial^2 u}{\\partial t^2} \\approx T d\\left(\\frac{\\partial u}{\\partial x}\\right) $$\t \t \n",
    "### Divide by $\\mu dx$ to get\n",
    "## $$ \\begin{array} {rcl} \\displaystyle \\frac{\\partial^2 u}{\\partial t^2} & \\approx & \\displaystyle T \\mu^{-1}\\frac{d\\left(\\frac{\\partial u}{\\partial x}\\right)}{dx} \\\\ \\, & \\approx & \\displaystyle T\\mu^{-1}\\frac{\\partial^2 u}{\\partial x^2} \\end{array} $$\n",
    "### If we define a new constant $c:= \\sqrt{T\\mu^{-1}}$, then this becomes the\n",
    "## $$ {\\color{orange}{\\text{wave equation:}}} \\quad \\frac{\\partial^2 u}{\\partial t^2} = c^2 \\frac{\\partial^2 u}{\\partial x^2} $$\n",
    "### ***Note about dimensions***: Observe that $T$ is a force, so it has dimension of mass times length over time squared $[mL/t^2]$. And $\\mu$ is a mass per unit length $[m/L]$. So the constant $c=\\sqrt{T\\mu^{-1}}$ has dimension of $[L/t]$ velocity.\n",
    "\n",
    "### The resulting equation describing the evolution of the wave over time is given by the following PDE:\n",
    "## $$ {\\color{orange}{\\text{wave equation:}}} \\quad \\frac{\\partial^2 u}{\\partial t^2} = c^2 \\frac{\\partial^2 u}{\\partial x^2} $$\n",
    "### This makes sense intuitively, since at places where the graph of the string is concave up $\\displaystyle \\left( \\frac{\\partial^2 u}{\\partial t^2} > 0 \\right)$ the tension pulling on both sides should combine to produce an upward force, and hence an upward acceleration.\n",
    "\n",
    "### Comparing units of both sides of the wave equation shows that the units for $c$ are $m/s$. The physical meaning of $c$ as a velocity will be explained later.\n",
    "\n",
    "### The ends of a guitar string are fixed, so we have boundary conditions\n",
    "## $$ \\begin{array} {rcl} u(0, t) & = & 0\\quad\\text{for all}\\, t\\geq 0 \\\\ u(L, t) & = & 0\\quad\\text{for all}\\, t\\geq 0 \\end{array} $$"
   ]
  },
  {
   "cell_type": "markdown",
   "id": "2bf50d21-f6fd-4df1-ba05-8ef5be955726",
   "metadata": {},
   "source": [
    "## Understanding the wave equation\n",
    "\n",
    "### The wave equation is\n",
    "## $$ \\underbrace{\\mu \\frac{\\partial^2 u}{\\partial t^2}}_{\\text{mass times acceleration / unit length}} = \\underbrace{T\\frac{\\partial^2 u}{\\partial x^2}}_{\\text{force / unit length}} , \\quad \\mu, T > 0 $$\n",
    "### where the left hand side describes the mass times acceleration per unit length, and the right hand side is the force per unit length on the string.\n",
    "\n",
    "### Let's think about what this is telling us physically.\n",
    "\n",
    "### ***Case 1***:\n",
    "### Suppose $\\displaystyle \\frac{\\partial^2 u}{\\partial t^2} > 0$, that is a small segment of string is concave up.\n",
    "![img](img/wave-1.png)\n",
    "\n",
    "### The equation says that the net force is positive, hence the net acceleration is upwards.\n",
    "\n",
    "### This agrees with our expectations that if you imagine pulling on a concave up string along the tension forces, the string will accelerate upwards toward a straight configuration.\n",
    "\n",
    "### ***Case 2***:\n",
    "### Suppose $\\displaystyle \\frac{\\partial^2 u}{\\partial t^2} < 0$, that is a small segment of string is concave down.\n",
    "![img](img/wave-2.png)\n",
    "\n",
    "### The equation says that the net force is negative, hence the net acceleration is downwards.\n",
    "\n",
    "### This agrees with our expectations that if you imagine pulling on a concave down string along the tension forces, the string will accelerate downwards toward a straight configuration.\n",
    "\n",
    "### ***Case 3***:\n",
    "### Suppose $\\displaystyle \\frac{\\partial^2 u}{\\partial t^2} = 0$, that is a small segment of string is straight.\n",
    "![img](img/wave-3.png)\n",
    "\n",
    "### The equation says that the net force is zero, hence the net acceleration is zero.\n",
    "\n",
    "### This agrees with our expectations that if you imagine pulling on a straight segment string along the tension forces, the string will not accelerate at all, and will remain straight."
   ]
  },
  {
   "cell_type": "markdown",
   "id": "8e541157-01c5-4c9c-a3f4-2914d09d7541",
   "metadata": {},
   "source": [
    "## Separation of variables in PDEs\n",
    "\n",
    "### For simplicity, suppose that $c=1$ and $L=\\pi$. So now we are solving the PDE with boundary conditions\n",
    "## $$ \\begin{array} {rcl} \\displaystyle \\frac{\\partial^2 u}{\\partial t^2} & = & \\displaystyle  \\frac{\\partial^2 u}{\\partial x^2}, \\quad 0 < x < \\pi, \\, t>0 \\\\ u(0, 1) & = & 0 \\\\ u(\\pi, t) & = & 0 \\end{array} $$\n",
    "### As with the heat equation, we try separation of variables. In other words, try to find normal modes of the form\n",
    "## $$ u(x, t) = v(x) w(t) $$\n",
    "### for some nonzero functions $v(x)$ and $w(t)$. Substituting this into the PDE gives\n",
    "## $$ \\begin{array} {rcl} \\displaystyle v(x) \\ddot{w}(t) & = & v''(x) w(t) \\\\ \\displaystyle \\frac{\\ddot{w}(t)}{w(t)} & = & \\displaystyle \\frac{v''(x)}{v(x)} \\end{array} $$\n",
    "### As usual, a function of $t$ can equal a function of $x$ only if both are equal to the same constant, say $\\lambda$, so this breaks into two ODEs:\n",
    "## $$ \\ddot{w}(t) = \\lambda w(t),\\quad v''(x) = \\lambda v(x) $$\n",
    "### Moreover, the boundary conditions become $v(0) = 0$ and $v(\\pi) = 0$.\n",
    "\n",
    "### We already solved the eigenfunction equation $v''(x) = \\lambda v(x)$ with the boundary conditions $v(0) = 0$ and $v(\\pi) = 0$: nonzero solutions exist only when $\\lambda = -n^2$ for some positive integer $n$, and in this case $v=\\sin(nx)$ (times a scalar). What is different this time is that $w$ satisfies a ***second***-order ODE\n",
    "## $$ \\ddot{w}(t) = -n^2 w(t) $$\n",
    "### The characteristic polynomial is $r^2+n^2$, which has roots $\\pm i n$, so\n",
    "## $$ w(t) = \\cos(nt) \\quad \\text{and} \\quad w(t) = \\sin(nt) $$\n",
    "### are possibilities (and all the others are linear combinations). Multiplying each by the $v(x)$ with the matching $\\lambda$ gives the normal modes\n",
    "## $$ \\cos(nt) \\sin(nx), \\quad \\quad \\sin(nt) \\sin(nx) $$ \n",
    "### Any linear combination\n",
    "## $$ u(x, t) = \\sum_{n\\geq 1} a_n \\cos(nt) \\sin(nx) + \\sum_{n\\geq 1} b_n \\sin(nt) \\sin(nx) $$\n",
    "### is a solution to the PDE with boundary conditions, and this turns out to be the general solution."
   ]
  },
  {
   "cell_type": "markdown",
   "id": "4cc26489-04d3-4892-9b91-3a1e2286673e",
   "metadata": {},
   "source": [
    "## Initial conditions\n",
    "\n",
    "### To specify a unique solution, we need two initial conditions: not only the initial position $u(x, 0)$, but also the initial velocity $\\displaystyle \\frac{\\partial u}{\\partial t}(x, 0)$, at each position of the string. (Those ***two*** initial conditions are needed because of the fact that the PDE is ***second***-order in the $t$ variable.)\n",
    "\n",
    "### For a plucked string, it is reasonable to assume that the initial velocity is $0$, so one initial condition is $\\displaystyle \\frac{\\partial u}{\\partial t}(x, 0) = 0$. What condition does this impose on the $a_n$ and $b_n$? Well, for the general solution above,\n",
    "## $$ \\begin{array} {rcl} \\displaystyle \\frac{\\partial u}{\\partial t} & = & \\displaystyle \\sum_{n\\geq 1} -na_n \\sin(nt) \\sin(nx) + \\sum_{n\\geq 1} nb_n \\cos(nt) \\sin(nx) \\\\ \\displaystyle \\frac{\\partial u}{\\partial t}(x,0) & = & \\displaystyle \\sum_{n\\geq 1}nb_n \\sin(nx) \\end{array} $$\n",
    "### so the initial condition says that $b_n = 0$ for every $n$; in other words,\n",
    "## $$ u(x, t) = \\sum_{n\\geq 1} a_n \\cos(nt) \\sin(nx) $$\n",
    "### If we also knew the initial position $u(x, 0)$, we could solve for the $a_n$ by extending to an odd, period $2\\pi$ function of $x$ and using the Fourier coefficient formula.\n",
    "\n",
    "### ***Wave equation mathlet***\n",
    "\n",
    "### The first few coefficients are the amplitudes of the “harmonics\" in the Wave Equation Mathlet."
   ]
  },
  {
   "cell_type": "code",
   "execution_count": 1,
   "id": "d6e210d4-c519-4355-a97f-5326f140ffc9",
   "metadata": {
    "jupyter": {
     "source_hidden": true
    },
    "tags": []
   },
   "outputs": [
    {
     "data": {
      "text/html": [
       "<iframe width=\"900\" height=\"650\" src=\"https://1803mathlets.netlify.app/waveequation\" title=\"Mathlet\" frameborder=\"0\" allow=\"accelerometer; autoplay; clipboard-write; encrypted-media; gyroscope; picture-in-picture\" allowfullscreen></iframe> \n"
      ],
      "text/plain": [
       "<IPython.core.display.HTML object>"
      ]
     },
     "metadata": {},
     "output_type": "display_data"
    }
   ],
   "source": [
    "%%html\n",
    "<iframe width=\"900\" height=\"650\" src=\"https://1803mathlets.netlify.app/waveequation\" title=\"Mathlet\" frameborder=\"0\" allow=\"accelerometer; autoplay; clipboard-write; encrypted-media; gyroscope; picture-in-picture\" allowfullscreen></iframe> "
   ]
  },
  {
   "cell_type": "markdown",
   "id": "35e2a058-46b9-41ec-bb93-b1091b57e7e7",
   "metadata": {},
   "source": [
    "## Normal modes: standing waves\n",
    "\n",
    "### In the previous example of transverse waves in a string with fixed ends, the eigenfunctions $c_n v_n (x)$ correspond to standing waves. These standing waves are the normal modes for this system, and are depicted below.\n",
    "\n",
    "### $n=1$, with eigenfunction $\\sin(x)$ on $0<x<\\pi$:\n",
    "![img](img/eig-1.png)\n",
    "### $n=2$, with eigenfunction $\\sin(2x)$ on $0<x<\\pi$:\n",
    "![img](img/eig-2.png)\n",
    "### $n=3$, with eigenfunction $\\sin(3x)$ on $0<x<\\pi$:\n",
    "![img](img/eig-3.png)\n",
    "### $n=4$, with eigenfunction $\\sin(4x)$ on $0<x<\\pi$:\n",
    "![img](img/eig-4.png)"
   ]
  },
  {
   "cell_type": "markdown",
   "id": "3d627519-66fc-4b04-9446-7abff3d6fdde",
   "metadata": {},
   "source": [
    "## Real-life waves\n",
    "\n",
    "### In real life, there is always damping. This introduces a new term into the wave equation:\n",
    "## $$ \\boxed{{\\color{orange}{\\text{damped wave equation:}}} \\quad \\frac{\\partial^2 u}{\\partial t^2} + b \\frac{\\partial u}{\\partial t} = c^2 \\frac{\\partial^2 u}{\\partial x^2} } $$\n",
    "\n",
    "### Separation of variables still works, but in each normal mode, the $w(t)$ is a damped sinusoid involving a factor $e^{-bt/2}$ (in the underdamped case). But the eigenfunctions in the variable $x$ are the same!\n",
    "\n",
    "### We can observe some of the features we've discussed in the previous pages in demo videos seen in the following pages. But note that you see damping in these videos as they are real-life rather than the idealized model we have been exploring."
   ]
  },
  {
   "cell_type": "markdown",
   "id": "62575b36-418a-42d2-a8ab-a7b028556099",
   "metadata": {},
   "source": [
    "## Traveling waves\n",
    "### D'Alembert figured out another way to write down solutions, in the case when $u(x, t)$ is defined for all real numbers $x$ instead of a finite interval $0\\leq x \\leq L$. Then, for any reasonable function $f$,\n",
    "## $$ u(x, t) := f(x-ct) $$\n",
    "### is a solution to the PDE, as shown by the following calculations:\n",
    "## $$ \\begin{array} {rcl} \\displaystyle \\frac{\\partial u}{\\partial t} & = & \\displaystyle (-c) f'(x-ct) \\\\ \\displaystyle \\frac{\\partial u}{\\partial x} & = & \\displaystyle f'(x-ct) \\\\ \\displaystyle \\frac{\\partial^2 u}{\\partial t^2} & = & \\displaystyle (-c)^2 f''(x-ct) \\\\ \\displaystyle \\frac{\\partial^2 u}{\\partial x^2} & = & f''(x-ct)  \\end{array} $$\n",
    "### so\n",
    "## $$ \\frac{\\partial^2 u}{\\partial t^2} = c^2 \\frac{\\partial^2 u}{\\partial x^2} $$\n",
    "### What is the physical meaning of this solution? At $t=0$, we have $u(x, 0) = f(x)$, so $f(x)$ is the initial position. For any number $t$, the position of the wave at time $t$ is the graph of $f(x-ct)$, which is the graph of $f$ shifted $ct$ units to the right. Thus the wave travels at ***constant speed*** $c$ to the right, maintaining its shape.\n",
    "\n",
    "### The function $u(x, t) := g(x+ct)$ (for any reasonable function $g(x)$) is a solution too, a wave moving to the left. It turns out that the general solution is a superposition\n",
    "## $$ u(x, t) = f(x-ct) + g(x+ct) $$\n",
    "### There is a tiny bit of redundancy: one can add a constant to $f$ and subtract the same constant from $g$ without changing $u$.\n",
    "\n",
    "### It is important to note that these solutions assume that the wave is defined for all $-\\infty < x < \\infty$. However, there are ways to extend these general solutions to the case of finite intervals with boundary conditions. This is why we are able to show demo videos of finite strings to see some of the phenomena described here.\n",
    "\n",
    "### ***Remark 8.1***\n",
    "### Note that the d'Alembert solution is what allows us to easily understand the coefficient $c$ in the PDE as being the ***wave speed***.\n",
    "\n",
    "### ***Example problem***\n",
    "### Suppose that $c = 1$, that the initial position is $I(x)$, and that the initial velocity is $0$. What does the wave look like?\n",
    "\n",
    "### ***Solution***:\n",
    "### The initial conditions $u(x, 0) = I(x)$ and $\\displaystyle \\frac{\\partial u}{\\partial t} (x, 0) = 0 $ become\n",
    "## $$ \\begin{array} {rcl} f(x) + g(x) & = & I(x) \\\\ -f'(x) + g'(x) & = & 0 \\end{array} $$\n",
    "### The second equation says that $g(x) = f(x) + C$ for some constant $C$, and we can adjust $f$ and $g$ by constants to assume that $C = 0$. Then $f(x) = I(x)/2$ and $g(x) = I(x)/2$. So the wave\n",
    "## $$ u(x, t) = I(x-t)/2 + I(x+t)/2 $$\n",
    "### consists of two equal waveforms, one traveling to the right and one traveling to the left."
   ]
  },
  {
   "cell_type": "markdown",
   "id": "60e15805-ef0b-4941-be29-dff29478fb32",
   "metadata": {},
   "source": [
    "## Wave fronts\n",
    "\n",
    "### Define the step function\n",
    "## $$ s(x) := \\left\\{ \\begin{array} {rcl} 1, & & \\text{if}\\, x<0 \\\\ 0, & & \\text{if}\\,x>0 \\end{array} \\right. $$\n",
    "### and consider the solution $u(x, t) = s(x-t)$ to the wave equation. This is a “cliff-shaped\" wave traveling to the right. (You would be right to complain that this function is not differentiable and therefore cannot satisfy the PDE in the usual sense, but you can imagine replacing $s(x)$ with a smooth approximation, a function with very steep slope. The smooth approximation also makes more sense physically: a physical wave would not actually have a jump discontinuity.)\n",
    "\n",
    "### Another way to plot the behavior is to use a ***space-time diagram***, in a plane with axes $x$ (space) and $t$ (time). (Usually one draws only the part with $t\\geq 0$.) Divide the $(x,t)$-plane into regions according to the value of $u$. The boundary between the regions is called the ***wave front***.\n",
    "\n",
    "### In the example above, $u(x, t) = 1$ for points to the left of the line $x-t=0$, and $u(x, t) = 0$ for points to the right of the line $x-t = 0$. So the wave front is the line $x-t=0$.\n",
    "![img](img/space-time.png)"
   ]
  },
  {
   "cell_type": "markdown",
   "id": "84f856ab-3a87-4ffc-8183-a245cb33eb93",
   "metadata": {},
   "source": [
    "### ***Remark 9.1***\n",
    "### We have talked about waves moving in one space dimension, but waves exist in higher dimensions too.\n",
    "\n",
    "### - In one dimension, a disturbance created wave fronts moving to the left and right, and the space-time diagram of the wave front was shaped like a V.\n",
    "### - In two dimensions, the disturbance caused by a pebble dropped in a still pond creates a circular wave front that moves outward in all directions. The space-time diagram of this wave front is shaped like an ice cream cone (without the ice cream).\n",
    "### - In three dimensions, the wave front created by a disturbance at a point is an expanding sphere."
   ]
  },
  {
   "cell_type": "markdown",
   "id": "7358d5c7-ca33-4311-b0ea-69c00a65af03",
   "metadata": {},
   "source": [
    "## D'Alembert on half-infinite intervals\n",
    "\n",
    "### ***Example 10.1***\n",
    "### Consider an infinitely long string that is fixed at one end.\n",
    "\n",
    "### Model this by the wave equation on the half-line $x>0$,\n",
    "## $$ \\frac{\\partial^2 u}{\\partial t^2} = c^2 \\frac{\\partial^2 u}{\\partial x^2} \\quad x>0, t>0 $$\n",
    "### where the fixed end is at $x=0$.\n",
    "\n",
    "### The boundary condition at $x=0$ is $u(0, t) = 0$.\n",
    "\n",
    "### Suppose the initial conditions are\n",
    "## $$ u(x, 0) = s(x-1)\\quad\\text{and}\\quad \\frac{\\partial u}{\\partial t} (x, 0) = 0 $$\n",
    "### a step function pulse centered at $x=1$ with zero initial velocity, defined for $x>0$.\n",
    "\n",
    "![img](img/init-1.png)\n",
    "\n",
    "### If we let $f(x) = s(x-1)$ for $x>0$, then the ***incoming wave*** (left traveling wave) $f(x+ct)$ obeys the PDE and the initial condition ($t=0$), but does not obey the boundary condition ($x=0$).\n",
    "\n",
    "### Determine the proper ***reflected wave*** (right traveling wave) $g(x-ct)$ that needs to be added to the incoming wave in order to satisfy the Neumann boundary condition.\n",
    "\n",
    "### Draw the corresponding wavefronts in the $(x, t)$ plane.\n",
    "\n",
    "### Worked solution\n",
    "### Let $u(x, t) = f(x+ct) + g(x-ct)$. At $x=0$, the boundary condition gives $0=f(ct)+g(-ct)$, hence we need to take $g(z) = -f(-z)$. Therefore $g(x) = -s(-x-1)$ for $x<0$.\n",
    "\n",
    "### Thus in order to solve this boundary value problem, we must extend the initial condition $U(x, 0)$ to be defined for all $x$. The first step is to extend $f$ and $g$ to functions $F$ and $G$ defined for all $x$.\n",
    "\n",
    "### Let $F(x) =s(x-1)s(-x)$. This function is defined for all $x$ and is given by\n",
    "## $$ F(x) = \\left\\{ \\begin{array} {rcl} 0 & & x<0 \\\\ 1 & & 0 < x < 1 \\\\ 0 & & x > 1\\end{array}  \\right. $$\n",
    "### which is the behavior we want. Similarly, the $G(x) = -s(-x-1) s(x)$ has the correct properties so that\n",
    "\n",
    "### $U(x, 0) = F(x) + G(x) = s(x-1) s(-x) - s(-x-1) s(x)$ is defined for all $x$, and is an odd extension of $s(x-1)$ defined for $x>0$.\n",
    "![img](img/step-1.png)\n",
    "\n",
    "### The space-time diagram includes\n",
    "### - a first line with slope $-1/c$ passing through $(1,0)$ (the incident wave)\n",
    "### - a second line with slope $1/c$ passing through $(-1,0)$ (the reflected wave)\n",
    "![img](img/step-2.png)\n",
    "\n",
    "### The two lines meet at $(0, 1/c)$, where the 2 waves cancel out exactly. The physical wave first travels as a left-going step function along the first line toward the origin, reflects because of the boundary condition, and then re-emerges as a right-going step function with amplitude $-1$.\n",
    "\n",
    "### To help understand the process, the image below shows a series of photographs of the wave in the string for $x>0$ with the extended odd wave shown as a dotted line for a sequence of times starting from the initial position.\n",
    "![img](img/step-3.png)\n",
    "![img](img/step-4.png)"
   ]
  },
  {
   "cell_type": "markdown",
   "id": "45cf6e4c-46df-419e-a17a-5a9d4c95c6b7",
   "metadata": {},
   "source": [
    "### ***Example 10.2***\n",
    "\n",
    "### Consider an infinitely long string that is free at one end and modeled this by the wave equation on the half-line $x>0$,\n",
    "## $$ \\frac{\\partial^2 u}{\\partial t^2} = c^2 \\frac{\\partial^2 u}{\\partial x^2},\\quad x>0,\\,t>0 $$\n",
    "### where the end of the string is free at $x=0$.\n",
    "\n",
    "### The boundary condition at $x=0$ is $\\frac{\\partial u}{\\partial x}(0, t) = 0$.\n",
    "\n",
    "### Suppose the initial conditions are\n",
    "## $$ u(x, 0) = s(x-1) \\quad \\text{and} \\quad \\frac{\\partial u}{\\partial t} (x, 0) = 0 $$\n",
    "### a step function pulse centered at $x=1$ with zero initial velocity.\n",
    "![img](img/step1-1.png)\n",
    "### If we let $f(x) = s(x-1)$ for $x>0$, then the ***incoming wave*** (left traveling wave) $f(x+ct)$ obeys the PDE and the initial condition ($t=0$), but does not obey the boundary condition ($x=0$).\n",
    "\n",
    "### Determine the proper ***reflected wave*** (right traveling wave) $g(x-ct)$ that needs to be added to the incoming wave in order to satisfy the Dirichlet boundary condition.\n",
    "\n",
    "### Draw the corresponding wavefronts in the $(x,t)$ plane.\n",
    "\n",
    "### ***Worked solution***\n",
    "### Let $u(x,t) = f(x+ct)+g(x-ct)$. Then $\\displaystyle \\frac{\\partial u}{\\partial x} (x,t) = f'(x+ct) + g'(x-ct) $. At $x=0$, we get $0=f'(ct)+g'(-ct)$. Thus $g'(x) = -f'(-x)$, which can be integrated to get $g(x) = f(-x)$. Thus $g(x) = s(-x-1)$. In order to combine $f$ and $g$ to a function defined for all $x$, we must extend the functions to both be defined for all real numbers $x$. The easiest way to do this is to define $f(x)$ to be $0$ for $x<0$, and define $g(x)$ to be $0$ for $x>0$. We can do this by the formulas\n",
    "## $$ \\begin{array} {rcl} F(x) & = & f(x) s(-x) \\\\ G(x) & = & g(x) s(x) \\end{array} $$\n",
    "### By summing these two functions, we get an initial condition to be an even function defined everywhere $U(x, 0) = s(x-1)s(-x)+s(-x-1)s(x)$.\n",
    "![img](img/step1-2.png)\n",
    "### This tells us that the reflected wave bounced back at the free end with the same direction.\n",
    "### The space-time diagram includes\n",
    "### - a first line with slope $-1/c$ passing through $(1,0)$ (the incident wave)\n",
    "### - a second line with slope $1/c$ passing through $(-1,0)$ (the reflected wave)\n",
    "![img](img/step1-3.png)\n",
    "\n",
    "### The two lines meet at $(0, 1/c)$, where the 2 waves superpose and add to briefly have amplitude $2$. The physical wave first travels as a left-going step function along the first line toward the origin, reflects because of the boundary condition, and then re-emerges as a right-going step function with amplitude $1$.\n",
    "\n",
    "### To help understand the process, the image below shows a series of photographs of the wave in the string for $x>0$ with the extended even wave shown as a dotted line for a sequence of times starting from the initial position.\n",
    "![img](img/step1-4.png)\n",
    "![img](img/step1-5.png)\n",
    "\n",
    "### ***Extending d'Alembert's solution to finite intervals***\n",
    "### It turns out that you can use the d'Alembert idea to solve the wave equation on finite intervals $[0, L]$ as well. The main idea is to take the initial conditions for the initial position and velocity, which are only defined for $0<x<L$ and extend these to either even or odd $2L$-periodic functions defined for all $-\\infty<x<\\infty$ that are consistent with the specified boundary conditions. You will recover exactly the functions we found using Fourier's method (but expressed in a slightly different form)."
   ]
  },
  {
   "cell_type": "markdown",
   "id": "3a658aab-8209-4480-8b62-7394e6e7f8cb",
   "metadata": {},
   "source": [
    "## Example: Find the normal modes in the case of free ends\n",
    "\n",
    "### For simplicity, suppose that $c=1$ and $L=\\pi$. So now we are solving the PDE with boundary conditions\n",
    "## $$ \\frac{\\partial^2 u}{\\partial t^2} = \\frac{\\partial^2 u}{\\partial x^2}\\quad 0<x<\\pi $$\n",
    "## $$ \\frac{\\partial u}{\\partial x} (0, t) = 0 $$\n",
    "## $$ \\frac{\\partial u}{\\partial x} (\\pi, t) = 0 $$\n",
    "### Separation of variables leads to\n",
    "## $$ \\ddot{w}(t) = \\lambda w(t), \\quad v''(x) = \\lambda v(x) $$\n",
    "### The boundary conditions become $v'(0) = 0$ and $v'(\\pi) = 0$.\n",
    "\n",
    "### Find $\\lambda_n$ and $v_n(x)$.\n",
    "\n",
    "### ***Solution***:\n",
    "\n",
    "### We already solved the eigenfunction equation $v''(x) = \\lambda v(x)$ with the boundary conditions $v'(0) = 0$ and $v'(\\pi) = 0$: nonzero solutions exist only when $\\lambda=-n^2$ for some nonnegative integer $n$, and in this case $v=\\cos(nx)$ (times a scalar)."
   ]
  },
  {
   "cell_type": "markdown",
   "id": "ce07ec10-2114-43b1-be3e-6af44f7ab83d",
   "metadata": {},
   "source": []
  }
 ],
 "metadata": {
  "kernelspec": {
   "display_name": "Python 3",
   "language": "python",
   "name": "python3"
  },
  "language_info": {
   "codemirror_mode": {
    "name": "ipython",
    "version": 3
   },
   "file_extension": ".py",
   "mimetype": "text/x-python",
   "name": "python",
   "nbconvert_exporter": "python",
   "pygments_lexer": "ipython3",
   "version": "3.8.8"
  }
 },
 "nbformat": 4,
 "nbformat_minor": 5
}
